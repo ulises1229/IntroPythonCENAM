{
  "nbformat": 4,
  "nbformat_minor": 0,
  "metadata": {
    "colab": {
      "name": "día2.ipynb",
      "provenance": [],
      "authorship_tag": "ABX9TyMZXmwDmkQqe8aCVOdhWCXX",
      "include_colab_link": true
    },
    "kernelspec": {
      "name": "python3",
      "display_name": "Python 3"
    }
  },
  "cells": [
    {
      "cell_type": "markdown",
      "metadata": {
        "id": "view-in-github",
        "colab_type": "text"
      },
      "source": [
        "<a href=\"https://colab.research.google.com/github/ulises1229/IntroPythonCENAM/blob/master/code/cenam_d%C3%ADa2.ipynb\" target=\"_parent\"><img src=\"https://colab.research.google.com/assets/colab-badge.svg\" alt=\"Open In Colab\"/></a>"
      ]
    },
    {
      "cell_type": "markdown",
      "metadata": {
        "id": "bZ1Evys3H261"
      },
      "source": [
        "### Día 2 - Almacenamiento de datos\n",
        "##### Autores: Ulises Olivares, Walter Hauri\n",
        "##### uolivares@unam.mx\n",
        "##### 15 diciembre de 2022"
      ]
    },
    {
      "cell_type": "markdown",
      "source": [
        "*#### Tuplas*"
      ],
      "metadata": {
        "id": "v93cLswlPu1Z"
      }
    },
    {
      "cell_type": "code",
      "source": [],
      "metadata": {
        "id": "pAYe10_5P0FX"
      },
      "execution_count": null,
      "outputs": []
    },
    {
      "cell_type": "code",
      "source": [
        "#### Ejercicio 4 Tuplas\n",
        "\n",
        "import statistics as st\n",
        "\n",
        "cal = (8, 9, 5, 10, 8, 7.2, 9, 8, 8, 10)\n",
        "\n",
        "# Obtener el promedio de las calificaciones\n",
        "promedio = sum(cal) / len(cal)\n",
        "print(\"El promedio de las calificaciones es: \" + str(promedio))\n",
        "\n",
        "# Obtener la calificación máxima\n",
        "print(\"La calificación máxima es: \" + str(max(cal)))\n",
        "\n",
        "# Obtener la calificación mínima\n",
        "print(\"La calificación máxima es: \" + str(min(cal)))\n",
        "\n",
        "# Obtener la moda usar librería statistics\n",
        "print(\"La moda es: \" + str(st.mode(cal)))\n",
        "\n",
        "# Ordenar calificaciones\n",
        "print(\"Calificaciones ordenadas menor a mayor: \" + str(sorted(cal)))"
      ],
      "metadata": {
        "id": "xifPSnZxPuFz"
      },
      "execution_count": null,
      "outputs": []
    },
    {
      "cell_type": "markdown",
      "source": [
        "#### *Conjuntos*"
      ],
      "metadata": {
        "id": "nIkNVS1DQAyu"
      }
    },
    {
      "cell_type": "code",
      "source": [],
      "metadata": {
        "id": "lLcdmS77QO6I"
      },
      "execution_count": null,
      "outputs": []
    },
    {
      "cell_type": "code",
      "source": [
        "# Conjnuntos \n",
        "# Ejercicio 4\n",
        "\n",
        "set1 = {10, 20, 30, 40, 50}\n",
        "set2 = {60, 20, 80, 90, 10}\n",
        "\n",
        "type(set1)\n",
        "\n",
        "# Elementos en común \n",
        "print (\"Elementos en común: \" +str(set1 & set2))\n",
        "\n",
        "# Elementos si repeticiones (Unión)\n",
        "print(\"Elementos sin repetición: \" + str(set1|set2))\n",
        "\n",
        "# Primer conjunto sin elementos {10,20, 30}\n",
        "print(set1 - {10, 20, 30})"
      ],
      "metadata": {
        "id": "omk5jsliQIRF"
      },
      "execution_count": null,
      "outputs": []
    },
    {
      "cell_type": "markdown",
      "metadata": {
        "id": "3usgotf3Fq12"
      },
      "source": [
        "*#### Diccionarios*"
      ]
    },
    {
      "cell_type": "code",
      "metadata": {
        "id": "VacWBZJLFxlQ",
        "colab": {
          "base_uri": "https://localhost:8080/",
          "height": 69
        },
        "outputId": "07007b3e-55ee-4fdb-ba46-409c677b26a0"
      },
      "source": [
        "# Uso de diccionarios\n",
        "\n",
        "frutas= {'Fresa':'rojo', 'Limón':'verde', 'Kiwi': ['cafe', 'verde']}\n",
        "for fruta, color in frutas.items():\n",
        "  print(fruta + \" es de color: \" + str(color))\n",
        "\n"
      ],
      "execution_count": null,
      "outputs": [
        {
          "output_type": "stream",
          "text": [
            "Fresa es de color: rojo\n",
            "Limón es de color: verde\n",
            "Kiwi es de color: ['cafe', 'verde']\n"
          ],
          "name": "stdout"
        }
      ]
    },
    {
      "cell_type": "markdown",
      "metadata": {
        "id": "1CtnL_9VT0kI"
      },
      "source": [
        "Ejercicio 1 - Diccionarios"
      ]
    },
    {
      "cell_type": "code",
      "metadata": {
        "id": "I-3FOAOOGolo",
        "colab": {
          "base_uri": "https://localhost:8080/",
          "height": 156
        },
        "outputId": "996f86e8-54e9-4b2c-b99b-5106c7522763"
      },
      "source": [
        "# Recuperar los precios de artículos para calcular el total de la compra\n",
        "oficina = {'hojas':'32.5', 'tijeras':'50.45', 'lápiz':'10'}\n",
        "claves = {'1': 'hojas', '2': 'tijeras', '3':'lápiz'}\n",
        "\n",
        "producto = input(\"Selecciona un objeto de  la lista: \\n 1) Hojas \\n 2) Tijeras \\n 3) Lápiz \\n\")\n",
        "cant = int(input(\"¿Cuantos productos vas a comprar? \\n\"))\n",
        "\n",
        "precio = float(oficina[claves[producto]])\n",
        "             \n",
        "print(\"El total a pagar es de: \" + str(precio * cant))\n"
      ],
      "execution_count": null,
      "outputs": [
        {
          "output_type": "stream",
          "text": [
            "Selecciona un objeto de  la lista: \n",
            " 1) Hojas \n",
            " 2) Tijeras \n",
            " 3) Lápiz \n",
            "1\n",
            "¿Cuantos productos vas a comprar? \n",
            "3\n",
            "El total a pagar es de: 97.5\n"
          ],
          "name": "stdout"
        }
      ]
    },
    {
      "cell_type": "code",
      "metadata": {
        "id": "MD0vVjN3UdPL",
        "colab": {
          "base_uri": "https://localhost:8080/",
          "height": 156
        },
        "outputId": "c133c951-dd39-4ece-c614-9b7f8d4fbf5b"
      },
      "source": [
        "# Variante sencilla del ejercicio anterior(usando un solo diccionario)\n",
        "producto = input(\"Escribe un objeto de  la lista: \\n hojas \\n tijeras \\n lápiz \\n\")\n",
        "cant = int(input(\"¿Cuantos artículos vas a comprar?\\n\"))\n",
        "precio = float(oficina[producto])\n",
        "print(\"El total a pagar es de: \" + str(precio * cant))"
      ],
      "execution_count": null,
      "outputs": [
        {
          "output_type": "stream",
          "text": [
            "Escribe un objeto de  la lista: \n",
            " hojas \n",
            " tijeras \n",
            " lápiz \n",
            "hojas\n",
            "¿Cuantos artículos vas a comprar?\n",
            "1\n",
            "El total a pagar es de: 32.5\n"
          ],
          "name": "stdout"
        }
      ]
    },
    {
      "cell_type": "markdown",
      "metadata": {
        "id": "9f2bBDXObm8e"
      },
      "source": [
        "### Librerías - Números aleatorios\n",
        "\n",
        "Ejercicio 3 - Histograma"
      ]
    },
    {
      "cell_type": "code",
      "metadata": {
        "id": "cDYFly1bbra_",
        "colab": {
          "base_uri": "https://localhost:8080/",
          "height": 52
        },
        "outputId": "242fac29-f8c2-4513-a99d-7d896cb1b6d1"
      },
      "source": [
        "import random as rn\n",
        "\n",
        "def generarNumeros(n):\n",
        "  randomNum = []\n",
        "  for i in range(n):\n",
        "    randomNum.append(rn.randint(1, 99))\n",
        "  return randomNum\n",
        "\n",
        "\n",
        "def genHistograma(random, hist):\n",
        "  for i in random:\n",
        "    indice = int(i/len(hist))\n",
        "    #print(\"indice: \" + str(indice) + \" num: \" + str(i) )\n",
        "    hist[indice] += 1\n",
        "    #print(\"Elemento i: \" + str (i) + \" Pos: \" + str(int(i/len(hist))))\n",
        "  return hist\n",
        "\n",
        "# Inicializar hostograma 10 posiciones\n",
        "hist = [0,0,0,0,0,0,0,0,0,0]\n",
        "n = 10000 #10K elementos\n",
        "\n",
        "# inicializar 10,000 números aleatorios\n",
        "random = generarNumeros(n)\n",
        "\n",
        "# contabilizar elementos y generar histograma\n",
        "hist = genHistograma(random, hist)\n",
        "\n",
        "print(\"Histograma resultante: \" + str(hist))\n",
        "\n",
        "# Verificar resultado \n",
        "# La suma de los elementos de hist debe ser igual que n\n",
        "if (sum(hist) == n):\n",
        "  print(\"El resultado es correcto\")\n",
        "else:\n",
        "  print(\"Existen elementos faltantes\")"
      ],
      "execution_count": null,
      "outputs": [
        {
          "output_type": "stream",
          "text": [
            "Histograma resultante: [885, 1044, 1014, 1011, 953, 1092, 983, 1003, 1022, 993]\n",
            "El resultado es correcto\n"
          ],
          "name": "stdout"
        }
      ]
    },
    {
      "cell_type": "markdown",
      "metadata": {
        "id": "TEmXdjt1Jlkq"
      },
      "source": [
        "#### *Librerías - Numpy*\n",
        "\n",
        "Demostrar el uso de arreglos unidimensionales y bi-dimensionales utilizando numpy.\n"
      ]
    },
    {
      "cell_type": "code",
      "metadata": {
        "id": "iV2tLujWH1N1",
        "colab": {
          "base_uri": "https://localhost:8080/",
          "height": 105
        },
        "outputId": "933b6647-1945-48a2-cd9e-af40b806b1d8"
      },
      "source": [
        "# importar librería de numpy \n",
        "import numpy as np\n",
        "\n",
        "# Creara un arreglo bi-dimensional\n",
        "a = np.array([[1.0,2,3], \n",
        "              [4,5,6]], \n",
        "             dtype = np.float16)\n",
        "# Imprimir matriz\n",
        "print(a)\n",
        "\n",
        "# IMP\n",
        "print(\"Dimensiones: \" + str(a.ndim))\n",
        "print(\"Forma: \" + str(a.shape))\n",
        "print(\"Tipo de datos: \" + str(a.dtype))"
      ],
      "execution_count": null,
      "outputs": [
        {
          "output_type": "stream",
          "text": [
            "[[1. 2. 3.]\n",
            " [4. 5. 6.]]\n",
            "Dimensiones: 2\n",
            "Forma: (2, 3)\n",
            "Tipo de datos: float16\n"
          ],
          "name": "stdout"
        }
      ]
    },
    {
      "cell_type": "code",
      "metadata": {
        "id": "kq_pDjfjJWjF",
        "colab": {
          "base_uri": "https://localhost:8080/",
          "height": 316
        },
        "outputId": "544bbac8-4a94-4de3-acb3-347bb1452a71"
      },
      "source": [
        "# Creación de arreglos\n",
        "# Arreglo de 1s\n",
        "ones = np.ones((3,5), dtype=np.float32)\n",
        "# Arreglo de 0s\n",
        "zeros = np.zeros((5,5), dtype=np.float32)\n",
        "\n",
        "#Impresión de matrices\n",
        "print(ones)\n",
        "print(zeros)\n",
        "\n",
        "print(\"Matriz 1s tiene: \" + str(len(ones)) + \" filas y \" + str(len(ones[0])) + \" columnas\")\n",
        "\n",
        "# Acceso a la matriz usando índices\n",
        "filas = len(ones)\n",
        "columnas = len(ones[0])\n",
        "\n",
        "print(\"Impresión utilizando índices\")\n",
        "for i in range(filas):\n",
        "  for j in range(columnas):\n",
        "    print(ones[i][j], end= \" \")\n",
        "  print(\" \")\n",
        "\n",
        "print(\"Impresión utilizando elementos\")\n",
        "# Acceso usando elementos\n",
        "for i in ones:\n",
        "  for j in i:\n",
        "    print(j , end =\" \")\n",
        "  print(\" \")"
      ],
      "execution_count": null,
      "outputs": [
        {
          "output_type": "stream",
          "text": [
            "[[1. 1. 1. 1. 1.]\n",
            " [1. 1. 1. 1. 1.]\n",
            " [1. 1. 1. 1. 1.]]\n",
            "[[0. 0. 0. 0. 0.]\n",
            " [0. 0. 0. 0. 0.]\n",
            " [0. 0. 0. 0. 0.]\n",
            " [0. 0. 0. 0. 0.]\n",
            " [0. 0. 0. 0. 0.]]\n",
            "Matriz 1s tiene: 3 filas y 5 columnas\n",
            "Impresión utilizando índices\n",
            "1.0 1.0 1.0 1.0 1.0  \n",
            "1.0 1.0 1.0 1.0 1.0  \n",
            "1.0 1.0 1.0 1.0 1.0  \n",
            "Impresión utilizando elementos\n",
            "1.0 1.0 1.0 1.0 1.0  \n",
            "1.0 1.0 1.0 1.0 1.0  \n",
            "1.0 1.0 1.0 1.0 1.0  \n"
          ],
          "name": "stdout"
        }
      ]
    },
    {
      "cell_type": "markdown",
      "metadata": {
        "id": "-zH8nxHnZuRL"
      },
      "source": [
        "#### Ejercicio 4 - Iterar sobre la diagonal principal"
      ]
    },
    {
      "cell_type": "code",
      "metadata": {
        "id": "it919kLpolXs",
        "colab": {
          "base_uri": "https://localhost:8080/",
          "height": 422
        },
        "outputId": "f10e503b-3466-4fda-9a8b-045864e4bf5d"
      },
      "source": [
        "# Ejercicio 4 1 en diagonal principal y traza de una matrix\n",
        "zeros = np.zeros((10,10), dtype=np.float32)\n",
        "print(\"Matriz Original: \\n\" + str(zeros))\n",
        "\n",
        "for i in range(len(zeros)):\n",
        "  zeros[i][i] = 1\n",
        "\n",
        "# Calcular la traza de una matriz\n",
        "traza = 0\n",
        "for i in range(len(zeros)):\n",
        "  traza =  traza + zeros[i][i] \n",
        "\n",
        "print(\"La traza de la matriz es: \" + str(traza))\n",
        "\n",
        "print(\"Matriz con 1's: \\n\" + str(zeros))"
      ],
      "execution_count": null,
      "outputs": [
        {
          "output_type": "stream",
          "text": [
            "Matriz Original: \n",
            "[[0. 0. 0. 0. 0. 0. 0. 0. 0. 0.]\n",
            " [0. 0. 0. 0. 0. 0. 0. 0. 0. 0.]\n",
            " [0. 0. 0. 0. 0. 0. 0. 0. 0. 0.]\n",
            " [0. 0. 0. 0. 0. 0. 0. 0. 0. 0.]\n",
            " [0. 0. 0. 0. 0. 0. 0. 0. 0. 0.]\n",
            " [0. 0. 0. 0. 0. 0. 0. 0. 0. 0.]\n",
            " [0. 0. 0. 0. 0. 0. 0. 0. 0. 0.]\n",
            " [0. 0. 0. 0. 0. 0. 0. 0. 0. 0.]\n",
            " [0. 0. 0. 0. 0. 0. 0. 0. 0. 0.]\n",
            " [0. 0. 0. 0. 0. 0. 0. 0. 0. 0.]]\n",
            "La traza de la matriz es: 10.0\n",
            "Matriz con 1's: \n",
            "[[1. 0. 0. 0. 0. 0. 0. 0. 0. 0.]\n",
            " [0. 1. 0. 0. 0. 0. 0. 0. 0. 0.]\n",
            " [0. 0. 1. 0. 0. 0. 0. 0. 0. 0.]\n",
            " [0. 0. 0. 1. 0. 0. 0. 0. 0. 0.]\n",
            " [0. 0. 0. 0. 1. 0. 0. 0. 0. 0.]\n",
            " [0. 0. 0. 0. 0. 1. 0. 0. 0. 0.]\n",
            " [0. 0. 0. 0. 0. 0. 1. 0. 0. 0.]\n",
            " [0. 0. 0. 0. 0. 0. 0. 1. 0. 0.]\n",
            " [0. 0. 0. 0. 0. 0. 0. 0. 1. 0.]\n",
            " [0. 0. 0. 0. 0. 0. 0. 0. 0. 1.]]\n"
          ],
          "name": "stdout"
        }
      ]
    },
    {
      "cell_type": "markdown",
      "metadata": {
        "id": "hsPW03oZaANQ"
      },
      "source": [
        "#### Ejercicio 5 - Escritura en elementos pares e impares"
      ]
    },
    {
      "cell_type": "code",
      "metadata": {
        "id": "xukvUJt2aHvc",
        "colab": {
          "base_uri": "https://localhost:8080/",
          "height": 104
        },
        "outputId": "6e08b9e3-58e2-45c0-8d18-fbb93e290107"
      },
      "source": [
        "import numpy as np\n",
        "\n",
        "# Generar un vector (lineal) 10 elementos 0 - 99\n",
        "A = np.arange(100)\n",
        "\n",
        "for i in range(len(A)): \n",
        "  # Elementos pares\n",
        "  if (A[i] % 2 == 0):\n",
        "    A[i] = -2\n",
        "  else:\n",
        "    A[i] = -1\n",
        "print(A) \n"
      ],
      "execution_count": null,
      "outputs": [
        {
          "output_type": "stream",
          "text": [
            "[-2 -1 -2 -1 -2 -1 -2 -1 -2 -1 -2 -1 -2 -1 -2 -1 -2 -1 -2 -1 -2 -1 -2 -1\n",
            " -2 -1 -2 -1 -2 -1 -2 -1 -2 -1 -2 -1 -2 -1 -2 -1 -2 -1 -2 -1 -2 -1 -2 -1\n",
            " -2 -1 -2 -1 -2 -1 -2 -1 -2 -1 -2 -1 -2 -1 -2 -1 -2 -1 -2 -1 -2 -1 -2 -1\n",
            " -2 -1 -2 -1 -2 -1 -2 -1 -2 -1 -2 -1 -2 -1 -2 -1 -2 -1 -2 -1 -2 -1 -2 -1\n",
            " -2 -1 -2 -1]\n"
          ],
          "name": "stdout"
        }
      ]
    },
    {
      "cell_type": "code",
      "metadata": {
        "id": "Lhd4g_CDLatT",
        "colab": {
          "base_uri": "https://localhost:8080/",
          "height": 118
        },
        "outputId": "a184dc85-e53a-4dcc-d581-360638f2758b"
      },
      "source": [
        "# Generación de un vector a través del uso de rangos\n",
        "np.arange(1, 100)"
      ],
      "execution_count": null,
      "outputs": [
        {
          "output_type": "execute_result",
          "data": {
            "text/plain": [
              "array([ 1,  2,  3,  4,  5,  6,  7,  8,  9, 10, 11, 12, 13, 14, 15, 16, 17,\n",
              "       18, 19, 20, 21, 22, 23, 24, 25, 26, 27, 28, 29, 30, 31, 32, 33, 34,\n",
              "       35, 36, 37, 38, 39, 40, 41, 42, 43, 44, 45, 46, 47, 48, 49, 50, 51,\n",
              "       52, 53, 54, 55, 56, 57, 58, 59, 60, 61, 62, 63, 64, 65, 66, 67, 68,\n",
              "       69, 70, 71, 72, 73, 74, 75, 76, 77, 78, 79, 80, 81, 82, 83, 84, 85,\n",
              "       86, 87, 88, 89, 90, 91, 92, 93, 94, 95, 96, 97, 98, 99])"
            ]
          },
          "metadata": {
            "tags": []
          },
          "execution_count": 119
        }
      ]
    },
    {
      "cell_type": "code",
      "metadata": {
        "id": "SM-DLDRBPgho",
        "colab": {
          "base_uri": "https://localhost:8080/",
          "height": 101
        },
        "outputId": "24683b14-140d-48b3-fe51-c91527672eba"
      },
      "source": [
        "# Concatenando arreglos o matrices\n",
        "A = np.ones((5,3), dtype = np.float32)\n",
        "B = np.zeros((5,4), dtype = np.float32)\n",
        "\n",
        "# concatenar matrices\n",
        "np.concatenate([A,B], axis = 1)"
      ],
      "execution_count": null,
      "outputs": [
        {
          "output_type": "execute_result",
          "data": {
            "text/plain": [
              "array([[1., 1., 1., 0., 0., 0., 0.],\n",
              "       [1., 1., 1., 0., 0., 0., 0.],\n",
              "       [1., 1., 1., 0., 0., 0., 0.],\n",
              "       [1., 1., 1., 0., 0., 0., 0.],\n",
              "       [1., 1., 1., 0., 0., 0., 0.]], dtype=float32)"
            ]
          },
          "metadata": {
            "tags": []
          },
          "execution_count": 120
        }
      ]
    },
    {
      "cell_type": "code",
      "metadata": {
        "id": "S9bqh64vQD5a",
        "colab": {
          "base_uri": "https://localhost:8080/",
          "height": 202
        },
        "outputId": "c2e23b81-a0c7-4aeb-9070-bb85912538bf"
      },
      "source": [
        "# Uso de Astype para hacer un cast de tipos de datos\n",
        "A = np.zeros((5,4), dtype = np.float32)\n",
        "print(len(A[0]))\n",
        "\n",
        "for i in range(len(A)):\n",
        "  for j in range(len(A[0])):\n",
        "    A[i][j] = np.pi\n",
        "print(A)\n",
        "\n",
        "print(A.astype(np.int16))"
      ],
      "execution_count": null,
      "outputs": [
        {
          "output_type": "stream",
          "text": [
            "4\n",
            "[[3.1415927 3.1415927 3.1415927 3.1415927]\n",
            " [3.1415927 3.1415927 3.1415927 3.1415927]\n",
            " [3.1415927 3.1415927 3.1415927 3.1415927]\n",
            " [3.1415927 3.1415927 3.1415927 3.1415927]\n",
            " [3.1415927 3.1415927 3.1415927 3.1415927]]\n",
            "[[3 3 3 3]\n",
            " [3 3 3 3]\n",
            " [3 3 3 3]\n",
            " [3 3 3 3]\n",
            " [3 3 3 3]]\n"
          ],
          "name": "stdout"
        }
      ]
    },
    {
      "cell_type": "code",
      "metadata": {
        "id": "-YYZOHcCRkjk",
        "colab": {
          "base_uri": "https://localhost:8080/",
          "height": 151
        },
        "outputId": "7c3b74ee-e463-4e09-ed02-18301f7ea0ef"
      },
      "source": [
        "# Uso de np.zeros_like y np.ones_like\n",
        "A = np.ones((4,4))\n",
        "print(A)\n",
        "# zeros_like genera un arreglo de las \n",
        "# mismas dimensiones que el original \n",
        "B = np.zeros_like(A)\n",
        "print(B)"
      ],
      "execution_count": null,
      "outputs": [
        {
          "output_type": "stream",
          "text": [
            "[[1. 1. 1. 1.]\n",
            " [1. 1. 1. 1.]\n",
            " [1. 1. 1. 1.]\n",
            " [1. 1. 1. 1.]]\n",
            "[[0. 0. 0. 0.]\n",
            " [0. 0. 0. 0.]\n",
            " [0. 0. 0. 0.]\n",
            " [0. 0. 0. 0.]]\n"
          ],
          "name": "stdout"
        }
      ]
    },
    {
      "cell_type": "code",
      "metadata": {
        "id": "wGKMiDBIRfjT",
        "colab": {
          "base_uri": "https://localhost:8080/",
          "height": 218
        },
        "outputId": "53270dd3-2619-45b3-b8fe-d798a89b607a"
      },
      "source": [
        "# Generación de arreglos aleatorios\n",
        "A = np.random.random((5, 5))\n",
        "print(A)\n",
        "# Generación de números enteros del 0 al n-1 \n",
        "n = 10\n",
        "B= np.random.randint(10, size = (7,7))\n",
        "print(B)"
      ],
      "execution_count": null,
      "outputs": [
        {
          "output_type": "stream",
          "text": [
            "[[0.77660053 0.26296099 0.88039588 0.04823786 0.10309384]\n",
            " [0.48729586 0.3771756  0.48484433 0.34679897 0.74569246]\n",
            " [0.1103608  0.55375063 0.80777421 0.16883789 0.18751702]\n",
            " [0.41290608 0.6659239  0.41775295 0.94601225 0.19686526]\n",
            " [0.58423953 0.88600177 0.25069284 0.24865989 0.07879548]]\n",
            "[[7 1 7 4 4 0 1]\n",
            " [4 6 8 7 4 1 0]\n",
            " [5 0 4 3 4 1 1]\n",
            " [6 2 2 0 7 6 7]\n",
            " [5 5 8 4 0 3 3]\n",
            " [7 0 3 2 7 4 2]\n",
            " [1 6 9 0 8 1 7]]\n"
          ],
          "name": "stdout"
        }
      ]
    },
    {
      "cell_type": "markdown",
      "metadata": {
        "id": "28PbHpgKbSaS"
      },
      "source": [
        "#### Ejercicio 6 - Lectura de un conjunto de elementos de una matriz"
      ]
    },
    {
      "cell_type": "code",
      "metadata": {
        "id": "YHN9rYbCbQIC",
        "colab": {
          "base_uri": "https://localhost:8080/",
          "height": 225
        },
        "outputId": "6a06ca5e-3de4-4ba2-cfde-f012256001f3"
      },
      "source": [
        "import random as rn\n",
        "\n",
        "# Generar una matriz aleatorio de 10 x 10\n",
        "A = np.random.randint(100, size=(10, 10))\n",
        "print(\"Matriz original: \\n\" + str(A))\n",
        "\n",
        "suma = 0\n",
        "# Iterar sobre las filas\n",
        "for i in range(len(A)):\n",
        "  # Iterar sobre las columnas\n",
        "  for j in range(i, len(A[0])):\n",
        "    suma += A[i][j]\n",
        "\n",
        "print(\"La sumatorio de los elementos del tríangulo superior es: \" + str(suma))\n"
      ],
      "execution_count": null,
      "outputs": [
        {
          "output_type": "stream",
          "text": [
            "Matriz original: \n",
            "[[74 73 62 44  0 88 98 64 49 29]\n",
            " [ 9 69  0 42 18 62 40 48 17 67]\n",
            " [15  5 40 58 84 63 30  0 56 66]\n",
            " [23 52 66 57 76 98 82 98  2 81]\n",
            " [20  3 76 15 94 96 81 41 31 27]\n",
            " [14 11 15 83  5 28 65 91 16  3]\n",
            " [53 82 60 35 32 40 88 58 49 74]\n",
            " [ 2 22 27  6  3 61 73 54  7 28]\n",
            " [99 74  5 96 24 70 86 49  6 96]\n",
            " [68 27 82 64 26 64 43 70 67  4]]\n",
            "La sumatorio de los elementos del tríangulo superior es: 2872\n"
          ],
          "name": "stdout"
        }
      ]
    },
    {
      "cell_type": "code",
      "metadata": {
        "id": "TEbefbC4Q-ER",
        "colab": {
          "base_uri": "https://localhost:8080/",
          "height": 134
        },
        "outputId": "a5efccef-0559-426a-e2aa-e257eb1d6c4b"
      },
      "source": [
        "# Transformaciones de arreglos\n",
        "A = np.array([1,2,3,4,5,6])\n",
        "print(A)\n",
        "\n",
        "# Transformar a 3 filas, 2 columnas\n",
        "A = A.reshape(3, 2)\n",
        "print(A)\n",
        "\n",
        "# Se utiliza -1 para determinar cols\n",
        "A = A.reshape(2, -1)\n",
        "print(A)\n",
        "\n",
        "# Transormar a un arreglo lineal\n",
        "A = A.ravel()\n",
        "print(A)"
      ],
      "execution_count": null,
      "outputs": [
        {
          "output_type": "stream",
          "text": [
            "[1 2 3 4 5 6]\n",
            "[[1 2]\n",
            " [3 4]\n",
            " [5 6]]\n",
            "[[1 2 3]\n",
            " [4 5 6]]\n",
            "[1 2 3 4 5 6]\n"
          ],
          "name": "stdout"
        }
      ]
    },
    {
      "cell_type": "code",
      "metadata": {
        "id": "kdP0tMurZrka",
        "colab": {
          "base_uri": "https://localhost:8080/",
          "height": 319
        },
        "outputId": "bdebe0c3-54e7-476e-eb42-efc0c6c91917"
      },
      "source": [
        "# Transpuesta de una matriz\n",
        "A = np.arange(25).reshape(5,5)\n",
        "print(\"Matriz Original: \\n\" + str(A))\n",
        "# Imprimir matriz transpuesta\n",
        "print(\"Matriz Transpuesta: \\n\" + str(A.T))\n",
        "# Imprimir matriz \n",
        "print(\"Matriz Transpuesta: \\n\" + str(A.transpose((1,0))))\n",
        "\n"
      ],
      "execution_count": null,
      "outputs": [
        {
          "output_type": "stream",
          "text": [
            "Matriz Original: \n",
            "[[ 0  1  2  3  4]\n",
            " [ 5  6  7  8  9]\n",
            " [10 11 12 13 14]\n",
            " [15 16 17 18 19]\n",
            " [20 21 22 23 24]]\n",
            "Matriz Transpuesta: \n",
            "[[ 0  5 10 15 20]\n",
            " [ 1  6 11 16 21]\n",
            " [ 2  7 12 17 22]\n",
            " [ 3  8 13 18 23]\n",
            " [ 4  9 14 19 24]]\n",
            "Matriz Transpuesta: \n",
            "[[ 0  5 10 15 20]\n",
            " [ 1  6 11 16 21]\n",
            " [ 2  7 12 17 22]\n",
            " [ 3  8 13 18 23]\n",
            " [ 4  9 14 19 24]]\n"
          ],
          "name": "stdout"
        }
      ]
    },
    {
      "cell_type": "code",
      "metadata": {
        "id": "u44c41iHY8qZ",
        "colab": {
          "base_uri": "https://localhost:8080/",
          "height": 890
        },
        "outputId": "761e4e73-8a92-4fa8-b881-9823a9b5e814"
      },
      "source": [
        "# Operadores Matemáticos\n",
        "A = np.arange(100).reshape(10,10)\n",
        "print(\"Primer Matriz: \\n\" + str(A))\n",
        "\n",
        "B = np.arange(100, 200).reshape(10, 10)\n",
        "print(\"Segunda Matriz: \\n\" + str(B))\n",
        "\n",
        "# Calcular la suma de ambas matrices\n",
        "print(\"Suma: \"  + str(A + B))\n",
        "\n",
        "# Calcular la resta de ambas matrices\n",
        "print(\"Suma: \"  + str(B - A))\n",
        "\n",
        "# Calcular la multiplicación de ambas matrices\n",
        "print(\"Suma: \"  + str(A * B))"
      ],
      "execution_count": null,
      "outputs": [
        {
          "output_type": "stream",
          "text": [
            "Primer Matriz: \n",
            "[[ 0  1  2  3  4  5  6  7  8  9]\n",
            " [10 11 12 13 14 15 16 17 18 19]\n",
            " [20 21 22 23 24 25 26 27 28 29]\n",
            " [30 31 32 33 34 35 36 37 38 39]\n",
            " [40 41 42 43 44 45 46 47 48 49]\n",
            " [50 51 52 53 54 55 56 57 58 59]\n",
            " [60 61 62 63 64 65 66 67 68 69]\n",
            " [70 71 72 73 74 75 76 77 78 79]\n",
            " [80 81 82 83 84 85 86 87 88 89]\n",
            " [90 91 92 93 94 95 96 97 98 99]]\n",
            "Segunda Matriz: \n",
            "[[100 101 102 103 104 105 106 107 108 109]\n",
            " [110 111 112 113 114 115 116 117 118 119]\n",
            " [120 121 122 123 124 125 126 127 128 129]\n",
            " [130 131 132 133 134 135 136 137 138 139]\n",
            " [140 141 142 143 144 145 146 147 148 149]\n",
            " [150 151 152 153 154 155 156 157 158 159]\n",
            " [160 161 162 163 164 165 166 167 168 169]\n",
            " [170 171 172 173 174 175 176 177 178 179]\n",
            " [180 181 182 183 184 185 186 187 188 189]\n",
            " [190 191 192 193 194 195 196 197 198 199]]\n",
            "Suma: [[100 102 104 106 108 110 112 114 116 118]\n",
            " [120 122 124 126 128 130 132 134 136 138]\n",
            " [140 142 144 146 148 150 152 154 156 158]\n",
            " [160 162 164 166 168 170 172 174 176 178]\n",
            " [180 182 184 186 188 190 192 194 196 198]\n",
            " [200 202 204 206 208 210 212 214 216 218]\n",
            " [220 222 224 226 228 230 232 234 236 238]\n",
            " [240 242 244 246 248 250 252 254 256 258]\n",
            " [260 262 264 266 268 270 272 274 276 278]\n",
            " [280 282 284 286 288 290 292 294 296 298]]\n",
            "Suma: [[100 100 100 100 100 100 100 100 100 100]\n",
            " [100 100 100 100 100 100 100 100 100 100]\n",
            " [100 100 100 100 100 100 100 100 100 100]\n",
            " [100 100 100 100 100 100 100 100 100 100]\n",
            " [100 100 100 100 100 100 100 100 100 100]\n",
            " [100 100 100 100 100 100 100 100 100 100]\n",
            " [100 100 100 100 100 100 100 100 100 100]\n",
            " [100 100 100 100 100 100 100 100 100 100]\n",
            " [100 100 100 100 100 100 100 100 100 100]\n",
            " [100 100 100 100 100 100 100 100 100 100]]\n",
            "Suma: [[    0   101   204   309   416   525   636   749   864   981]\n",
            " [ 1100  1221  1344  1469  1596  1725  1856  1989  2124  2261]\n",
            " [ 2400  2541  2684  2829  2976  3125  3276  3429  3584  3741]\n",
            " [ 3900  4061  4224  4389  4556  4725  4896  5069  5244  5421]\n",
            " [ 5600  5781  5964  6149  6336  6525  6716  6909  7104  7301]\n",
            " [ 7500  7701  7904  8109  8316  8525  8736  8949  9164  9381]\n",
            " [ 9600  9821 10044 10269 10496 10725 10956 11189 11424 11661]\n",
            " [11900 12141 12384 12629 12876 13125 13376 13629 13884 14141]\n",
            " [14400 14661 14924 15189 15456 15725 15996 16269 16544 16821]\n",
            " [17100 17381 17664 17949 18236 18525 18816 19109 19404 19701]]\n"
          ],
          "name": "stdout"
        }
      ]
    },
    {
      "cell_type": "code",
      "metadata": {
        "id": "6ypxSJKoY3p9",
        "colab": {
          "base_uri": "https://localhost:8080/",
          "height": 302
        },
        "outputId": "7e6d25a2-43c5-4a55-a1f6-a58638af799a"
      },
      "source": [
        "# Operadores lógicos\n",
        "\n",
        "A = np.random.random((5,5))\n",
        "print(\"Matriz Original: \\n\" + str(A))\n",
        "\n",
        "# Operador lógico\n",
        "print(\"Operador lógico a >5 \\n\" + str(a>0.5))"
      ],
      "execution_count": null,
      "outputs": [
        {
          "output_type": "stream",
          "text": [
            "Matriz Original: \n",
            "[[0.0124458  0.75318949 0.51012785 0.14677449 0.38131653]\n",
            " [0.63214844 0.49240062 0.72302018 0.5913991  0.34027848]\n",
            " [0.52156944 0.39808869 0.46779844 0.03746587 0.8252981 ]\n",
            " [0.8354298  0.7554512  0.53322169 0.09566736 0.7134824 ]\n",
            " [0.6791975  0.23094997 0.0116702  0.10245596 0.39682071]]\n",
            "Operador lógico a >5 \n",
            "[[False  True False  True  True  True  True  True False  True]\n",
            " [ True False  True False False  True  True  True  True False]\n",
            " [ True  True  True False  True  True  True False False  True]\n",
            " [ True False  True  True False False  True False False False]\n",
            " [False  True False  True False  True  True False  True  True]\n",
            " [ True False  True False False False  True False False  True]\n",
            " [ True False  True  True False False False False False False]\n",
            " [False False  True  True False  True False  True  True False]\n",
            " [ True False  True False False  True False  True False False]\n",
            " [False False False False  True  True  True False  True False]]\n"
          ],
          "name": "stdout"
        }
      ]
    },
    {
      "cell_type": "code",
      "metadata": {
        "id": "_jgah2aMe1A1",
        "colab": {
          "base_uri": "https://localhost:8080/",
          "height": 319
        },
        "outputId": "dbf14432-e6a2-4fb5-af43-6239d0503e76"
      },
      "source": [
        "# Operaciones in-situ \n",
        "A = np.random.randint(10, size= (5,5))\n",
        "print(\"Matriz A Original: \\n\" + str(A))\n",
        "\n",
        "B = A = np.random.randint(10, size= (5,5))\n",
        "print(\"Matriz B Original: \\n\" + str(B))\n",
        "\n",
        "# Operación in-situ\n",
        "A += B\n",
        "print(\"Matriz A Modificada: \\n\" + str(A))"
      ],
      "execution_count": null,
      "outputs": [
        {
          "output_type": "stream",
          "text": [
            "Matriz A Original: \n",
            "[[0 0 7 9 2]\n",
            " [3 6 9 3 0]\n",
            " [1 1 2 5 1]\n",
            " [3 5 6 9 4]\n",
            " [1 1 7 7 5]]\n",
            "Matriz B Original: \n",
            "[[2 8 3 7 1]\n",
            " [3 1 1 7 0]\n",
            " [7 5 0 5 1]\n",
            " [2 9 5 9 5]\n",
            " [3 4 6 8 0]]\n",
            "Matriz A Modificada: \n",
            "[[ 4 16  6 14  2]\n",
            " [ 6  2  2 14  0]\n",
            " [14 10  0 10  2]\n",
            " [ 4 18 10 18 10]\n",
            " [ 6  8 12 16  0]]\n"
          ],
          "name": "stdout"
        }
      ]
    },
    {
      "cell_type": "code",
      "metadata": {
        "id": "qnL5B5LMfzz9",
        "colab": {
          "base_uri": "https://localhost:8080/",
          "height": 218
        },
        "outputId": "256e7923-eba7-491e-fcf7-fc7ac780facf"
      },
      "source": [
        "# Funciones universales\n",
        "A = np.random.randint(10, size= (5,5))\n",
        "print(\"Matriz A Original: \\n\" + str(A))\n",
        "\n",
        "# Calcular Raiz cuadrada\n",
        "print(\"Raiz Cuadrada: \\n\" + str(np.sqrt(A)))\n"
      ],
      "execution_count": null,
      "outputs": [
        {
          "output_type": "stream",
          "text": [
            "Matriz A Original: \n",
            "[[0 7 0 0 0]\n",
            " [8 7 2 1 4]\n",
            " [3 7 6 9 9]\n",
            " [3 9 2 3 4]\n",
            " [3 7 2 3 5]]\n",
            "Raiz Cuadrada: \n",
            "[[0.         2.64575131 0.         0.         0.        ]\n",
            " [2.82842712 2.64575131 1.41421356 1.         2.        ]\n",
            " [1.73205081 2.64575131 2.44948974 3.         3.        ]\n",
            " [1.73205081 3.         1.41421356 1.73205081 2.        ]\n",
            " [1.73205081 2.64575131 1.41421356 1.73205081 2.23606798]]\n"
          ],
          "name": "stdout"
        }
      ]
    },
    {
      "cell_type": "markdown",
      "metadata": {
        "id": "0qFDMEpz4oKY"
      },
      "source": [
        "#### Inversa de una matriz\n"
      ]
    },
    {
      "cell_type": "code",
      "metadata": {
        "id": "gGbw1o3x4ruc",
        "colab": {
          "base_uri": "https://localhost:8080/",
          "height": 218
        },
        "outputId": "78845327-9af6-4a48-ea56-d922cf5bc14b"
      },
      "source": [
        "# Inversa de una matriz\n",
        "import numpy as np\n",
        "\n",
        "# Inicializar una matriz \n",
        "A = np.random.randint(10, size= (5,5))\n",
        "print(\"Matriz A Original: \\n\" + str(A))\n",
        "\n",
        "# Calcular matriz inversa\n",
        "B = np.linalg.inv(A)\n",
        "print(\"Matriz Inversa A^-1: \\n\" + str(B))"
      ],
      "execution_count": null,
      "outputs": [
        {
          "output_type": "stream",
          "text": [
            "Matriz A Original: \n",
            "[[8 0 1 9 5]\n",
            " [9 2 4 5 2]\n",
            " [8 5 1 1 3]\n",
            " [5 7 9 2 9]\n",
            " [1 7 3 7 1]]\n",
            "Matriz Inversa A^-1: \n",
            "[[-0.0137931   0.08390805  0.06781609 -0.02873563 -0.04367816]\n",
            " [-0.04396552 -0.06587644  0.11199713 -0.00826149  0.08994253]\n",
            " [-0.09094828  0.17826868 -0.14658764  0.06052443 -0.00675287]\n",
            " [ 0.06810345  0.00237069 -0.06400862 -0.02478448  0.06982759]\n",
            " [ 0.11767241 -0.17417385  0.0360273   0.0784842  -0.05445402]]\n"
          ],
          "name": "stdout"
        }
      ]
    },
    {
      "cell_type": "markdown",
      "metadata": {
        "id": "niGJIQRJeOga"
      },
      "source": [
        "#### Ejercicio 7 - Operadores aritméticos"
      ]
    },
    {
      "cell_type": "code",
      "metadata": {
        "id": "66wMPftMeUXm",
        "colab": {
          "base_uri": "https://localhost:8080/",
          "height": 763
        },
        "outputId": "bf697df3-ee00-4aec-9e65-791343df14bc"
      },
      "source": [
        "import numpy as np\n",
        "\n",
        "# Generar una matriz de 10 x 10\n",
        "A = np.random.randint(10, size = (10,10))\n",
        "print(\"Matriz A Original: \\n\" + str(A))\n",
        "\n",
        "# Calcular el cuadraro de una matriz de 10 x 10\n",
        "print(\"Cuadrado de la matriz: \\n\" + str(np.square(A)))\n",
        "\n",
        "# Multiplicación de matrices\n",
        "print(\"Inversa de de la matriz: \\n\" + str(np.linalg.inv(A)))\n",
        "\n"
      ],
      "execution_count": null,
      "outputs": [
        {
          "output_type": "stream",
          "text": [
            "Matriz A Original: \n",
            "[[6 6 5 8 9 2 6 7 8 5]\n",
            " [8 7 4 4 2 7 6 3 7 2]\n",
            " [8 2 0 5 5 5 9 2 1 0]\n",
            " [4 9 6 5 3 1 2 5 4 9]\n",
            " [1 8 2 3 2 6 9 7 5 5]\n",
            " [1 3 1 7 4 1 9 4 1 1]\n",
            " [7 0 3 0 6 5 3 3 0 1]\n",
            " [6 8 8 8 6 9 2 5 8 2]\n",
            " [1 1 1 5 7 3 1 8 6 2]\n",
            " [9 1 1 0 2 5 3 5 1 7]]\n",
            "Cuadrado de la matriz: \n",
            "[[36 36 25 64 81  4 36 49 64 25]\n",
            " [64 49 16 16  4 49 36  9 49  4]\n",
            " [64  4  0 25 25 25 81  4  1  0]\n",
            " [16 81 36 25  9  1  4 25 16 81]\n",
            " [ 1 64  4  9  4 36 81 49 25 25]\n",
            " [ 1  9  1 49 16  1 81 16  1  1]\n",
            " [49  0  9  0 36 25  9  9  0  1]\n",
            " [36 64 64 64 36 81  4 25 64  4]\n",
            " [ 1  1  1 25 49  9  1 64 36  4]\n",
            " [81  1  1  0  4 25  9 25  1 49]]\n",
            "Inversa de de la matriz: \n",
            "[[-0.19961654  0.29983938 -0.00432645  0.17652517 -0.17711762  0.08272503\n",
            "   0.10785618 -0.17784635  0.18232593 -0.07203926]\n",
            " [-0.32868895  0.2324998   0.1930608   0.37381551 -0.04556008 -0.09409127\n",
            "   0.13827851 -0.21677544  0.27893069 -0.30379883]\n",
            " [ 0.10570453  0.04488377 -0.33588277 -0.13791622 -0.04585367  0.24037212\n",
            "   0.12015461  0.08655869 -0.17873794  0.09657942]\n",
            " [-0.01531697 -0.08198673  0.05103928 -0.01743816 -0.06909003  0.08415731\n",
            "  -0.15257954  0.11813988 -0.0088946   0.08469765]\n",
            " [ 0.16982365 -0.2719414   0.21621469 -0.01809667  0.13154789 -0.25700862\n",
            "   0.00246963  0.05953657 -0.06665791 -0.07590331]\n",
            " [ 0.10777492 -0.29209964  0.10833691 -0.16921921  0.15938976 -0.14138261\n",
            "  -0.12864481  0.23500307 -0.15158098  0.12493314]\n",
            " [ 0.17460316 -0.06316396 -0.08350708 -0.16519536  0.08405342  0.06348681\n",
            "  -0.01539827  0.03529139 -0.17591126  0.07899349]\n",
            " [-0.4586497   0.50298585 -0.21053855  0.28865493 -0.21988941  0.316372\n",
            "   0.26953436 -0.30142184  0.42462225 -0.14906824]\n",
            " [ 0.28877322 -0.07107188 -0.05682357 -0.22661385  0.08212108 -0.10657342\n",
            "  -0.14611716  0.0781453  -0.14684457  0.10246944]\n",
            " [ 0.37452531 -0.46084607  0.08109767 -0.23763017  0.19865621 -0.19080327\n",
            "  -0.24945911  0.25140503 -0.32834834  0.255515  ]]\n"
          ],
          "name": "stdout"
        }
      ]
    },
    {
      "cell_type": "markdown",
      "source": [
        "# Dataframes - Limpieza de datos"
      ],
      "metadata": {
        "id": "Cj-xsCn_Rpgx"
      }
    },
    {
      "cell_type": "markdown",
      "metadata": {
        "id": "QtfnRzfwh1Mw"
      },
      "source": [
        "#### Lectura de dataframes"
      ]
    },
    {
      "cell_type": "code",
      "metadata": {
        "id": "nxaYLHxpi_0p",
        "colab": {
          "base_uri": "https://localhost:8080/",
          "height": 257
        },
        "outputId": "97dee365-0b6d-4fd4-a27f-268d8366c23d"
      },
      "source": [
        "# importar la librería de pandas como pd\n",
        "import pandas as pd\n",
        "\n",
        "#Leer el dataframe salaries.csv\n",
        "df = pd.read_csv(\"https://raw.githubusercontent.com/ulises1229/INTRO-PYTHON-ENESJ/master/data/salaries.csv\")\n",
        "print(df)"
      ],
      "execution_count": null,
      "outputs": [
        {
          "output_type": "stream",
          "text": [
            "         rank discipline  phd  service     sex  salary\n",
            "0        Prof          B   56       49    Male  186960\n",
            "1        Prof          A   12        6    Male   93000\n",
            "2        Prof          A   23       20    Male  110515\n",
            "3        Prof          A   40       31    Male  131205\n",
            "4        Prof          B   20       18    Male  104800\n",
            "..        ...        ...  ...      ...     ...     ...\n",
            "73       Prof          B   18       10  Female  105450\n",
            "74  AssocProf          B   19        6  Female  104542\n",
            "75       Prof          B   17       17  Female  124312\n",
            "76       Prof          A   28       14  Female  109954\n",
            "77       Prof          A   23       15  Female  109646\n",
            "\n",
            "[78 rows x 6 columns]\n"
          ],
          "name": "stdout"
        }
      ]
    },
    {
      "cell_type": "code",
      "metadata": {
        "id": "rxVq3SdCnoIg",
        "colab": {
          "base_uri": "https://localhost:8080/",
          "height": 202
        },
        "outputId": "fac0c799-7aab-46ab-99be-2a672bf8f9cb"
      },
      "source": [
        "# Revisar los primeros registros del df\n",
        "df.head()\n",
        "\n"
      ],
      "execution_count": null,
      "outputs": [
        {
          "output_type": "execute_result",
          "data": {
            "text/html": [
              "<div>\n",
              "<style scoped>\n",
              "    .dataframe tbody tr th:only-of-type {\n",
              "        vertical-align: middle;\n",
              "    }\n",
              "\n",
              "    .dataframe tbody tr th {\n",
              "        vertical-align: top;\n",
              "    }\n",
              "\n",
              "    .dataframe thead th {\n",
              "        text-align: right;\n",
              "    }\n",
              "</style>\n",
              "<table border=\"1\" class=\"dataframe\">\n",
              "  <thead>\n",
              "    <tr style=\"text-align: right;\">\n",
              "      <th></th>\n",
              "      <th>rank</th>\n",
              "      <th>discipline</th>\n",
              "      <th>phd</th>\n",
              "      <th>service</th>\n",
              "      <th>sex</th>\n",
              "      <th>salary</th>\n",
              "    </tr>\n",
              "  </thead>\n",
              "  <tbody>\n",
              "    <tr>\n",
              "      <th>0</th>\n",
              "      <td>Prof</td>\n",
              "      <td>B</td>\n",
              "      <td>56</td>\n",
              "      <td>49</td>\n",
              "      <td>Male</td>\n",
              "      <td>186960</td>\n",
              "    </tr>\n",
              "    <tr>\n",
              "      <th>1</th>\n",
              "      <td>Prof</td>\n",
              "      <td>A</td>\n",
              "      <td>12</td>\n",
              "      <td>6</td>\n",
              "      <td>Male</td>\n",
              "      <td>93000</td>\n",
              "    </tr>\n",
              "    <tr>\n",
              "      <th>2</th>\n",
              "      <td>Prof</td>\n",
              "      <td>A</td>\n",
              "      <td>23</td>\n",
              "      <td>20</td>\n",
              "      <td>Male</td>\n",
              "      <td>110515</td>\n",
              "    </tr>\n",
              "    <tr>\n",
              "      <th>3</th>\n",
              "      <td>Prof</td>\n",
              "      <td>A</td>\n",
              "      <td>40</td>\n",
              "      <td>31</td>\n",
              "      <td>Male</td>\n",
              "      <td>131205</td>\n",
              "    </tr>\n",
              "    <tr>\n",
              "      <th>4</th>\n",
              "      <td>Prof</td>\n",
              "      <td>B</td>\n",
              "      <td>20</td>\n",
              "      <td>18</td>\n",
              "      <td>Male</td>\n",
              "      <td>104800</td>\n",
              "    </tr>\n",
              "  </tbody>\n",
              "</table>\n",
              "</div>"
            ],
            "text/plain": [
              "   rank discipline  phd  service   sex  salary\n",
              "0  Prof          B   56       49  Male  186960\n",
              "1  Prof          A   12        6  Male   93000\n",
              "2  Prof          A   23       20  Male  110515\n",
              "3  Prof          A   40       31  Male  131205\n",
              "4  Prof          B   20       18  Male  104800"
            ]
          },
          "metadata": {
            "tags": []
          },
          "execution_count": 28
        }
      ]
    },
    {
      "cell_type": "code",
      "metadata": {
        "id": "GR3wQUv0mkkN"
      },
      "source": [
        "# Revisar los últimos registros del df? \n"
      ],
      "execution_count": null,
      "outputs": []
    },
    {
      "cell_type": "code",
      "metadata": {
        "id": "DJH8mevbkMV2",
        "colab": {
          "base_uri": "https://localhost:8080/",
          "height": 34
        },
        "outputId": "92463c4d-63e1-4fd4-caf9-1d3e0c82a897"
      },
      "source": [
        "# Comprobar el tipo de datos de la columna salary \n",
        "df['salary'].dtype"
      ],
      "execution_count": null,
      "outputs": [
        {
          "output_type": "execute_result",
          "data": {
            "text/plain": [
              "dtype('int64')"
            ]
          },
          "metadata": {
            "tags": []
          },
          "execution_count": 6
        }
      ]
    },
    {
      "cell_type": "markdown",
      "metadata": {
        "id": "iWbbH-MOrQNF"
      },
      "source": [
        "#### Atributos de dataframes"
      ]
    },
    {
      "cell_type": "code",
      "metadata": {
        "id": "XoKUTfyJotWM",
        "colab": {
          "base_uri": "https://localhost:8080/",
          "height": 137
        },
        "outputId": "6ddc5b81-7605-4a0b-a5b3-2fa438b562b8"
      },
      "source": [
        "# Comprobar el tipo de datos de todas las columnas\n",
        "df.dtypes"
      ],
      "execution_count": null,
      "outputs": [
        {
          "output_type": "execute_result",
          "data": {
            "text/plain": [
              "rank          object\n",
              "discipline    object\n",
              "phd            int64\n",
              "service        int64\n",
              "sex           object\n",
              "salary         int64\n",
              "dtype: object"
            ]
          },
          "metadata": {
            "tags": []
          },
          "execution_count": 7
        }
      ]
    },
    {
      "cell_type": "code",
      "metadata": {
        "id": "K3fgLhgMp9WW",
        "colab": {
          "base_uri": "https://localhost:8080/",
          "height": 34
        },
        "outputId": "2d77c42e-5408-4f08-cc1b-112292074a44"
      },
      "source": [
        "# Listar los nombres de las columnas\n",
        "df.columns"
      ],
      "execution_count": null,
      "outputs": [
        {
          "output_type": "execute_result",
          "data": {
            "text/plain": [
              "Index(['rank', 'discipline', 'phd', 'service', 'sex', 'salary'], dtype='object')"
            ]
          },
          "metadata": {
            "tags": []
          },
          "execution_count": 8
        }
      ]
    },
    {
      "cell_type": "code",
      "metadata": {
        "id": "uns_yZJQqFAF",
        "colab": {
          "base_uri": "https://localhost:8080/",
          "height": 51
        },
        "outputId": "66a3e07f-17a5-447d-eb65-184db19ab9be"
      },
      "source": [
        "# Listar etiquetas de fila y nombres de columna\n",
        "df.axes"
      ],
      "execution_count": null,
      "outputs": [
        {
          "output_type": "execute_result",
          "data": {
            "text/plain": [
              "[RangeIndex(start=0, stop=78, step=1),\n",
              " Index(['rank', 'discipline', 'phd', 'service', 'sex', 'salary'], dtype='object')]"
            ]
          },
          "metadata": {
            "tags": []
          },
          "execution_count": 9
        }
      ]
    },
    {
      "cell_type": "code",
      "metadata": {
        "id": "tlZeSE2BqKxa",
        "colab": {
          "base_uri": "https://localhost:8080/",
          "height": 34
        },
        "outputId": "57d9cfd0-c918-48a6-e1b5-1e2f19d92b43"
      },
      "source": [
        "# Listar el número de dimensiones\n",
        "df.ndim"
      ],
      "execution_count": null,
      "outputs": [
        {
          "output_type": "execute_result",
          "data": {
            "text/plain": [
              "2"
            ]
          },
          "metadata": {
            "tags": []
          },
          "execution_count": 10
        }
      ]
    },
    {
      "cell_type": "code",
      "metadata": {
        "id": "Cdh1utigqVZW",
        "colab": {
          "base_uri": "https://localhost:8080/",
          "height": 34
        },
        "outputId": "10b1f641-8e7f-4356-9aed-38bce872248a"
      },
      "source": [
        "# Listar el número de  elementos totales\n",
        "df.size"
      ],
      "execution_count": null,
      "outputs": [
        {
          "output_type": "execute_result",
          "data": {
            "text/plain": [
              "468"
            ]
          },
          "metadata": {
            "tags": []
          },
          "execution_count": 11
        }
      ]
    },
    {
      "cell_type": "code",
      "metadata": {
        "id": "HU46LL5vqn1b",
        "colab": {
          "base_uri": "https://localhost:8080/",
          "height": 34
        },
        "outputId": "f3579d52-d4ca-4202-cca9-9479a75e0c79"
      },
      "source": [
        "# Devuelve una tupla con las dimensiones\n",
        "df.shape"
      ],
      "execution_count": null,
      "outputs": [
        {
          "output_type": "execute_result",
          "data": {
            "text/plain": [
              "(78, 6)"
            ]
          },
          "metadata": {
            "tags": []
          },
          "execution_count": 12
        }
      ]
    },
    {
      "cell_type": "code",
      "metadata": {
        "id": "CfNtiIZkqvzL",
        "colab": {
          "base_uri": "https://localhost:8080/",
          "height": 34
        },
        "outputId": "aae2de0f-506d-4300-805a-6fca88537e42"
      },
      "source": [
        "# Representación en numpy de los datos\n",
        "lista = df.values\n",
        "\n",
        "prom = 0\n",
        "for i in lista:\n",
        "  prom += i[5]\n",
        "prom = prom/len(lista)\n",
        "print(\"Promedio: \" + str(prom))"
      ],
      "execution_count": null,
      "outputs": [
        {
          "output_type": "stream",
          "text": [
            "Promedio: 108023.78205128205\n"
          ],
          "name": "stdout"
        }
      ]
    },
    {
      "cell_type": "code",
      "metadata": {
        "id": "8AuOb2d9rbS-",
        "colab": {
          "base_uri": "https://localhost:8080/",
          "height": 1000
        },
        "outputId": "83c68d5c-1c5a-49a2-935b-e4f20b7446b8"
      },
      "source": [
        "df.iloc[0:50]"
      ],
      "execution_count": null,
      "outputs": [
        {
          "output_type": "execute_result",
          "data": {
            "text/html": [
              "<div>\n",
              "<style scoped>\n",
              "    .dataframe tbody tr th:only-of-type {\n",
              "        vertical-align: middle;\n",
              "    }\n",
              "\n",
              "    .dataframe tbody tr th {\n",
              "        vertical-align: top;\n",
              "    }\n",
              "\n",
              "    .dataframe thead th {\n",
              "        text-align: right;\n",
              "    }\n",
              "</style>\n",
              "<table border=\"1\" class=\"dataframe\">\n",
              "  <thead>\n",
              "    <tr style=\"text-align: right;\">\n",
              "      <th></th>\n",
              "      <th>rank</th>\n",
              "      <th>discipline</th>\n",
              "      <th>phd</th>\n",
              "      <th>service</th>\n",
              "      <th>sex</th>\n",
              "      <th>salary</th>\n",
              "    </tr>\n",
              "  </thead>\n",
              "  <tbody>\n",
              "    <tr>\n",
              "      <th>0</th>\n",
              "      <td>Prof</td>\n",
              "      <td>B</td>\n",
              "      <td>56</td>\n",
              "      <td>49</td>\n",
              "      <td>Male</td>\n",
              "      <td>186960</td>\n",
              "    </tr>\n",
              "    <tr>\n",
              "      <th>1</th>\n",
              "      <td>Prof</td>\n",
              "      <td>A</td>\n",
              "      <td>12</td>\n",
              "      <td>6</td>\n",
              "      <td>Male</td>\n",
              "      <td>93000</td>\n",
              "    </tr>\n",
              "    <tr>\n",
              "      <th>2</th>\n",
              "      <td>Prof</td>\n",
              "      <td>A</td>\n",
              "      <td>23</td>\n",
              "      <td>20</td>\n",
              "      <td>Male</td>\n",
              "      <td>110515</td>\n",
              "    </tr>\n",
              "    <tr>\n",
              "      <th>3</th>\n",
              "      <td>Prof</td>\n",
              "      <td>A</td>\n",
              "      <td>40</td>\n",
              "      <td>31</td>\n",
              "      <td>Male</td>\n",
              "      <td>131205</td>\n",
              "    </tr>\n",
              "    <tr>\n",
              "      <th>4</th>\n",
              "      <td>Prof</td>\n",
              "      <td>B</td>\n",
              "      <td>20</td>\n",
              "      <td>18</td>\n",
              "      <td>Male</td>\n",
              "      <td>104800</td>\n",
              "    </tr>\n",
              "    <tr>\n",
              "      <th>5</th>\n",
              "      <td>Prof</td>\n",
              "      <td>A</td>\n",
              "      <td>20</td>\n",
              "      <td>20</td>\n",
              "      <td>Male</td>\n",
              "      <td>122400</td>\n",
              "    </tr>\n",
              "    <tr>\n",
              "      <th>6</th>\n",
              "      <td>AssocProf</td>\n",
              "      <td>A</td>\n",
              "      <td>20</td>\n",
              "      <td>17</td>\n",
              "      <td>Male</td>\n",
              "      <td>81285</td>\n",
              "    </tr>\n",
              "    <tr>\n",
              "      <th>7</th>\n",
              "      <td>Prof</td>\n",
              "      <td>A</td>\n",
              "      <td>18</td>\n",
              "      <td>18</td>\n",
              "      <td>Male</td>\n",
              "      <td>126300</td>\n",
              "    </tr>\n",
              "    <tr>\n",
              "      <th>8</th>\n",
              "      <td>Prof</td>\n",
              "      <td>A</td>\n",
              "      <td>29</td>\n",
              "      <td>19</td>\n",
              "      <td>Male</td>\n",
              "      <td>94350</td>\n",
              "    </tr>\n",
              "    <tr>\n",
              "      <th>9</th>\n",
              "      <td>Prof</td>\n",
              "      <td>A</td>\n",
              "      <td>51</td>\n",
              "      <td>51</td>\n",
              "      <td>Male</td>\n",
              "      <td>57800</td>\n",
              "    </tr>\n",
              "    <tr>\n",
              "      <th>10</th>\n",
              "      <td>Prof</td>\n",
              "      <td>B</td>\n",
              "      <td>39</td>\n",
              "      <td>33</td>\n",
              "      <td>Male</td>\n",
              "      <td>128250</td>\n",
              "    </tr>\n",
              "    <tr>\n",
              "      <th>11</th>\n",
              "      <td>Prof</td>\n",
              "      <td>B</td>\n",
              "      <td>23</td>\n",
              "      <td>23</td>\n",
              "      <td>Male</td>\n",
              "      <td>134778</td>\n",
              "    </tr>\n",
              "    <tr>\n",
              "      <th>12</th>\n",
              "      <td>AsstProf</td>\n",
              "      <td>B</td>\n",
              "      <td>1</td>\n",
              "      <td>0</td>\n",
              "      <td>Male</td>\n",
              "      <td>88000</td>\n",
              "    </tr>\n",
              "    <tr>\n",
              "      <th>13</th>\n",
              "      <td>Prof</td>\n",
              "      <td>B</td>\n",
              "      <td>35</td>\n",
              "      <td>33</td>\n",
              "      <td>Male</td>\n",
              "      <td>162200</td>\n",
              "    </tr>\n",
              "    <tr>\n",
              "      <th>14</th>\n",
              "      <td>Prof</td>\n",
              "      <td>B</td>\n",
              "      <td>25</td>\n",
              "      <td>19</td>\n",
              "      <td>Male</td>\n",
              "      <td>153750</td>\n",
              "    </tr>\n",
              "    <tr>\n",
              "      <th>15</th>\n",
              "      <td>Prof</td>\n",
              "      <td>B</td>\n",
              "      <td>17</td>\n",
              "      <td>3</td>\n",
              "      <td>Male</td>\n",
              "      <td>150480</td>\n",
              "    </tr>\n",
              "    <tr>\n",
              "      <th>16</th>\n",
              "      <td>AsstProf</td>\n",
              "      <td>B</td>\n",
              "      <td>8</td>\n",
              "      <td>3</td>\n",
              "      <td>Male</td>\n",
              "      <td>75044</td>\n",
              "    </tr>\n",
              "    <tr>\n",
              "      <th>17</th>\n",
              "      <td>AsstProf</td>\n",
              "      <td>B</td>\n",
              "      <td>4</td>\n",
              "      <td>0</td>\n",
              "      <td>Male</td>\n",
              "      <td>92000</td>\n",
              "    </tr>\n",
              "    <tr>\n",
              "      <th>18</th>\n",
              "      <td>Prof</td>\n",
              "      <td>A</td>\n",
              "      <td>19</td>\n",
              "      <td>7</td>\n",
              "      <td>Male</td>\n",
              "      <td>107300</td>\n",
              "    </tr>\n",
              "    <tr>\n",
              "      <th>19</th>\n",
              "      <td>Prof</td>\n",
              "      <td>A</td>\n",
              "      <td>29</td>\n",
              "      <td>27</td>\n",
              "      <td>Male</td>\n",
              "      <td>150500</td>\n",
              "    </tr>\n",
              "    <tr>\n",
              "      <th>20</th>\n",
              "      <td>AsstProf</td>\n",
              "      <td>B</td>\n",
              "      <td>4</td>\n",
              "      <td>4</td>\n",
              "      <td>Male</td>\n",
              "      <td>92000</td>\n",
              "    </tr>\n",
              "    <tr>\n",
              "      <th>21</th>\n",
              "      <td>Prof</td>\n",
              "      <td>A</td>\n",
              "      <td>33</td>\n",
              "      <td>30</td>\n",
              "      <td>Male</td>\n",
              "      <td>103106</td>\n",
              "    </tr>\n",
              "    <tr>\n",
              "      <th>22</th>\n",
              "      <td>AsstProf</td>\n",
              "      <td>A</td>\n",
              "      <td>4</td>\n",
              "      <td>2</td>\n",
              "      <td>Male</td>\n",
              "      <td>73000</td>\n",
              "    </tr>\n",
              "    <tr>\n",
              "      <th>23</th>\n",
              "      <td>AsstProf</td>\n",
              "      <td>A</td>\n",
              "      <td>2</td>\n",
              "      <td>0</td>\n",
              "      <td>Male</td>\n",
              "      <td>85000</td>\n",
              "    </tr>\n",
              "    <tr>\n",
              "      <th>24</th>\n",
              "      <td>Prof</td>\n",
              "      <td>A</td>\n",
              "      <td>30</td>\n",
              "      <td>23</td>\n",
              "      <td>Male</td>\n",
              "      <td>91100</td>\n",
              "    </tr>\n",
              "    <tr>\n",
              "      <th>25</th>\n",
              "      <td>Prof</td>\n",
              "      <td>B</td>\n",
              "      <td>35</td>\n",
              "      <td>31</td>\n",
              "      <td>Male</td>\n",
              "      <td>99418</td>\n",
              "    </tr>\n",
              "    <tr>\n",
              "      <th>26</th>\n",
              "      <td>Prof</td>\n",
              "      <td>A</td>\n",
              "      <td>38</td>\n",
              "      <td>19</td>\n",
              "      <td>Male</td>\n",
              "      <td>148750</td>\n",
              "    </tr>\n",
              "    <tr>\n",
              "      <th>27</th>\n",
              "      <td>Prof</td>\n",
              "      <td>A</td>\n",
              "      <td>45</td>\n",
              "      <td>43</td>\n",
              "      <td>Male</td>\n",
              "      <td>155865</td>\n",
              "    </tr>\n",
              "    <tr>\n",
              "      <th>28</th>\n",
              "      <td>AsstProf</td>\n",
              "      <td>B</td>\n",
              "      <td>7</td>\n",
              "      <td>2</td>\n",
              "      <td>Male</td>\n",
              "      <td>91300</td>\n",
              "    </tr>\n",
              "    <tr>\n",
              "      <th>29</th>\n",
              "      <td>Prof</td>\n",
              "      <td>B</td>\n",
              "      <td>21</td>\n",
              "      <td>20</td>\n",
              "      <td>Male</td>\n",
              "      <td>123683</td>\n",
              "    </tr>\n",
              "    <tr>\n",
              "      <th>30</th>\n",
              "      <td>AssocProf</td>\n",
              "      <td>B</td>\n",
              "      <td>9</td>\n",
              "      <td>7</td>\n",
              "      <td>Male</td>\n",
              "      <td>107008</td>\n",
              "    </tr>\n",
              "    <tr>\n",
              "      <th>31</th>\n",
              "      <td>Prof</td>\n",
              "      <td>B</td>\n",
              "      <td>22</td>\n",
              "      <td>21</td>\n",
              "      <td>Male</td>\n",
              "      <td>155750</td>\n",
              "    </tr>\n",
              "    <tr>\n",
              "      <th>32</th>\n",
              "      <td>Prof</td>\n",
              "      <td>A</td>\n",
              "      <td>27</td>\n",
              "      <td>19</td>\n",
              "      <td>Male</td>\n",
              "      <td>103275</td>\n",
              "    </tr>\n",
              "    <tr>\n",
              "      <th>33</th>\n",
              "      <td>Prof</td>\n",
              "      <td>B</td>\n",
              "      <td>18</td>\n",
              "      <td>18</td>\n",
              "      <td>Male</td>\n",
              "      <td>120000</td>\n",
              "    </tr>\n",
              "    <tr>\n",
              "      <th>34</th>\n",
              "      <td>AssocProf</td>\n",
              "      <td>B</td>\n",
              "      <td>12</td>\n",
              "      <td>8</td>\n",
              "      <td>Male</td>\n",
              "      <td>119800</td>\n",
              "    </tr>\n",
              "    <tr>\n",
              "      <th>35</th>\n",
              "      <td>Prof</td>\n",
              "      <td>B</td>\n",
              "      <td>28</td>\n",
              "      <td>23</td>\n",
              "      <td>Male</td>\n",
              "      <td>126933</td>\n",
              "    </tr>\n",
              "    <tr>\n",
              "      <th>36</th>\n",
              "      <td>Prof</td>\n",
              "      <td>B</td>\n",
              "      <td>45</td>\n",
              "      <td>45</td>\n",
              "      <td>Male</td>\n",
              "      <td>146856</td>\n",
              "    </tr>\n",
              "    <tr>\n",
              "      <th>37</th>\n",
              "      <td>Prof</td>\n",
              "      <td>A</td>\n",
              "      <td>20</td>\n",
              "      <td>8</td>\n",
              "      <td>Male</td>\n",
              "      <td>102000</td>\n",
              "    </tr>\n",
              "    <tr>\n",
              "      <th>38</th>\n",
              "      <td>AsstProf</td>\n",
              "      <td>B</td>\n",
              "      <td>4</td>\n",
              "      <td>3</td>\n",
              "      <td>Male</td>\n",
              "      <td>91000</td>\n",
              "    </tr>\n",
              "    <tr>\n",
              "      <th>39</th>\n",
              "      <td>Prof</td>\n",
              "      <td>B</td>\n",
              "      <td>18</td>\n",
              "      <td>18</td>\n",
              "      <td>Female</td>\n",
              "      <td>129000</td>\n",
              "    </tr>\n",
              "    <tr>\n",
              "      <th>40</th>\n",
              "      <td>Prof</td>\n",
              "      <td>A</td>\n",
              "      <td>39</td>\n",
              "      <td>36</td>\n",
              "      <td>Female</td>\n",
              "      <td>137000</td>\n",
              "    </tr>\n",
              "    <tr>\n",
              "      <th>41</th>\n",
              "      <td>AssocProf</td>\n",
              "      <td>A</td>\n",
              "      <td>13</td>\n",
              "      <td>8</td>\n",
              "      <td>Female</td>\n",
              "      <td>74830</td>\n",
              "    </tr>\n",
              "    <tr>\n",
              "      <th>42</th>\n",
              "      <td>AsstProf</td>\n",
              "      <td>B</td>\n",
              "      <td>4</td>\n",
              "      <td>2</td>\n",
              "      <td>Female</td>\n",
              "      <td>80225</td>\n",
              "    </tr>\n",
              "    <tr>\n",
              "      <th>43</th>\n",
              "      <td>AsstProf</td>\n",
              "      <td>B</td>\n",
              "      <td>5</td>\n",
              "      <td>0</td>\n",
              "      <td>Female</td>\n",
              "      <td>77000</td>\n",
              "    </tr>\n",
              "    <tr>\n",
              "      <th>44</th>\n",
              "      <td>Prof</td>\n",
              "      <td>B</td>\n",
              "      <td>23</td>\n",
              "      <td>19</td>\n",
              "      <td>Female</td>\n",
              "      <td>151768</td>\n",
              "    </tr>\n",
              "    <tr>\n",
              "      <th>45</th>\n",
              "      <td>Prof</td>\n",
              "      <td>B</td>\n",
              "      <td>25</td>\n",
              "      <td>25</td>\n",
              "      <td>Female</td>\n",
              "      <td>140096</td>\n",
              "    </tr>\n",
              "    <tr>\n",
              "      <th>46</th>\n",
              "      <td>AsstProf</td>\n",
              "      <td>B</td>\n",
              "      <td>11</td>\n",
              "      <td>3</td>\n",
              "      <td>Female</td>\n",
              "      <td>74692</td>\n",
              "    </tr>\n",
              "    <tr>\n",
              "      <th>47</th>\n",
              "      <td>AssocProf</td>\n",
              "      <td>B</td>\n",
              "      <td>11</td>\n",
              "      <td>11</td>\n",
              "      <td>Female</td>\n",
              "      <td>103613</td>\n",
              "    </tr>\n",
              "    <tr>\n",
              "      <th>48</th>\n",
              "      <td>Prof</td>\n",
              "      <td>B</td>\n",
              "      <td>17</td>\n",
              "      <td>17</td>\n",
              "      <td>Female</td>\n",
              "      <td>111512</td>\n",
              "    </tr>\n",
              "    <tr>\n",
              "      <th>49</th>\n",
              "      <td>Prof</td>\n",
              "      <td>B</td>\n",
              "      <td>17</td>\n",
              "      <td>18</td>\n",
              "      <td>Female</td>\n",
              "      <td>122960</td>\n",
              "    </tr>\n",
              "  </tbody>\n",
              "</table>\n",
              "</div>"
            ],
            "text/plain": [
              "         rank discipline  phd  service     sex  salary\n",
              "0        Prof          B   56       49    Male  186960\n",
              "1        Prof          A   12        6    Male   93000\n",
              "2        Prof          A   23       20    Male  110515\n",
              "3        Prof          A   40       31    Male  131205\n",
              "4        Prof          B   20       18    Male  104800\n",
              "5        Prof          A   20       20    Male  122400\n",
              "6   AssocProf          A   20       17    Male   81285\n",
              "7        Prof          A   18       18    Male  126300\n",
              "8        Prof          A   29       19    Male   94350\n",
              "9        Prof          A   51       51    Male   57800\n",
              "10       Prof          B   39       33    Male  128250\n",
              "11       Prof          B   23       23    Male  134778\n",
              "12   AsstProf          B    1        0    Male   88000\n",
              "13       Prof          B   35       33    Male  162200\n",
              "14       Prof          B   25       19    Male  153750\n",
              "15       Prof          B   17        3    Male  150480\n",
              "16   AsstProf          B    8        3    Male   75044\n",
              "17   AsstProf          B    4        0    Male   92000\n",
              "18       Prof          A   19        7    Male  107300\n",
              "19       Prof          A   29       27    Male  150500\n",
              "20   AsstProf          B    4        4    Male   92000\n",
              "21       Prof          A   33       30    Male  103106\n",
              "22   AsstProf          A    4        2    Male   73000\n",
              "23   AsstProf          A    2        0    Male   85000\n",
              "24       Prof          A   30       23    Male   91100\n",
              "25       Prof          B   35       31    Male   99418\n",
              "26       Prof          A   38       19    Male  148750\n",
              "27       Prof          A   45       43    Male  155865\n",
              "28   AsstProf          B    7        2    Male   91300\n",
              "29       Prof          B   21       20    Male  123683\n",
              "30  AssocProf          B    9        7    Male  107008\n",
              "31       Prof          B   22       21    Male  155750\n",
              "32       Prof          A   27       19    Male  103275\n",
              "33       Prof          B   18       18    Male  120000\n",
              "34  AssocProf          B   12        8    Male  119800\n",
              "35       Prof          B   28       23    Male  126933\n",
              "36       Prof          B   45       45    Male  146856\n",
              "37       Prof          A   20        8    Male  102000\n",
              "38   AsstProf          B    4        3    Male   91000\n",
              "39       Prof          B   18       18  Female  129000\n",
              "40       Prof          A   39       36  Female  137000\n",
              "41  AssocProf          A   13        8  Female   74830\n",
              "42   AsstProf          B    4        2  Female   80225\n",
              "43   AsstProf          B    5        0  Female   77000\n",
              "44       Prof          B   23       19  Female  151768\n",
              "45       Prof          B   25       25  Female  140096\n",
              "46   AsstProf          B   11        3  Female   74692\n",
              "47  AssocProf          B   11       11  Female  103613\n",
              "48       Prof          B   17       17  Female  111512\n",
              "49       Prof          B   17       18  Female  122960"
            ]
          },
          "metadata": {
            "tags": []
          },
          "execution_count": 63
        }
      ]
    },
    {
      "cell_type": "markdown",
      "metadata": {
        "id": "VCrEDt4orYqA"
      },
      "source": [
        "#### Métodos para dataframes"
      ]
    },
    {
      "cell_type": "code",
      "metadata": {
        "id": "ob1RBnD-trwU",
        "colab": {
          "base_uri": "https://localhost:8080/",
          "height": 295
        },
        "outputId": "e53d53f6-1cfe-409d-cd9e-0a8a96b6441b"
      },
      "source": [
        "# Descibir con estadística descriptiva las columnas numéricas\n",
        "df.describe()"
      ],
      "execution_count": null,
      "outputs": [
        {
          "output_type": "execute_result",
          "data": {
            "text/html": [
              "<div>\n",
              "<style scoped>\n",
              "    .dataframe tbody tr th:only-of-type {\n",
              "        vertical-align: middle;\n",
              "    }\n",
              "\n",
              "    .dataframe tbody tr th {\n",
              "        vertical-align: top;\n",
              "    }\n",
              "\n",
              "    .dataframe thead th {\n",
              "        text-align: right;\n",
              "    }\n",
              "</style>\n",
              "<table border=\"1\" class=\"dataframe\">\n",
              "  <thead>\n",
              "    <tr style=\"text-align: right;\">\n",
              "      <th></th>\n",
              "      <th>phd</th>\n",
              "      <th>service</th>\n",
              "      <th>salary</th>\n",
              "    </tr>\n",
              "  </thead>\n",
              "  <tbody>\n",
              "    <tr>\n",
              "      <th>count</th>\n",
              "      <td>78.000000</td>\n",
              "      <td>78.000000</td>\n",
              "      <td>78.000000</td>\n",
              "    </tr>\n",
              "    <tr>\n",
              "      <th>mean</th>\n",
              "      <td>19.705128</td>\n",
              "      <td>15.051282</td>\n",
              "      <td>108023.782051</td>\n",
              "    </tr>\n",
              "    <tr>\n",
              "      <th>std</th>\n",
              "      <td>12.498425</td>\n",
              "      <td>12.139768</td>\n",
              "      <td>28293.661022</td>\n",
              "    </tr>\n",
              "    <tr>\n",
              "      <th>min</th>\n",
              "      <td>1.000000</td>\n",
              "      <td>0.000000</td>\n",
              "      <td>57800.000000</td>\n",
              "    </tr>\n",
              "    <tr>\n",
              "      <th>25%</th>\n",
              "      <td>10.250000</td>\n",
              "      <td>5.250000</td>\n",
              "      <td>88612.500000</td>\n",
              "    </tr>\n",
              "    <tr>\n",
              "      <th>50%</th>\n",
              "      <td>18.500000</td>\n",
              "      <td>14.500000</td>\n",
              "      <td>104671.000000</td>\n",
              "    </tr>\n",
              "    <tr>\n",
              "      <th>75%</th>\n",
              "      <td>27.750000</td>\n",
              "      <td>20.750000</td>\n",
              "      <td>126774.750000</td>\n",
              "    </tr>\n",
              "    <tr>\n",
              "      <th>max</th>\n",
              "      <td>56.000000</td>\n",
              "      <td>51.000000</td>\n",
              "      <td>186960.000000</td>\n",
              "    </tr>\n",
              "  </tbody>\n",
              "</table>\n",
              "</div>"
            ],
            "text/plain": [
              "             phd    service         salary\n",
              "count  78.000000  78.000000      78.000000\n",
              "mean   19.705128  15.051282  108023.782051\n",
              "std    12.498425  12.139768   28293.661022\n",
              "min     1.000000   0.000000   57800.000000\n",
              "25%    10.250000   5.250000   88612.500000\n",
              "50%    18.500000  14.500000  104671.000000\n",
              "75%    27.750000  20.750000  126774.750000\n",
              "max    56.000000  51.000000  186960.000000"
            ]
          },
          "metadata": {
            "tags": []
          },
          "execution_count": 20
        }
      ]
    },
    {
      "cell_type": "code",
      "metadata": {
        "id": "xZs2LREEyFH3",
        "colab": {
          "base_uri": "https://localhost:8080/",
          "height": 86
        },
        "outputId": "4b672e37-f6ba-4604-d8eb-c718f3dd9c71"
      },
      "source": [
        "# Calcular STD de todas las columnas numéricas\n",
        "df.std()"
      ],
      "execution_count": null,
      "outputs": [
        {
          "output_type": "execute_result",
          "data": {
            "text/plain": [
              "phd           12.498425\n",
              "service       12.139768\n",
              "salary     28293.661022\n",
              "dtype: float64"
            ]
          },
          "metadata": {
            "tags": []
          },
          "execution_count": 21
        }
      ]
    },
    {
      "cell_type": "code",
      "metadata": {
        "id": "ZNrO-RC9yRo2",
        "colab": {
          "base_uri": "https://localhost:8080/",
          "height": 34
        },
        "outputId": "7d9b25f8-8568-42ad-b32e-ff9625025a01"
      },
      "source": [
        "# Calcular STD para columna phd\n",
        "df['phd'].std()\n",
        "# Calcular STD para columna salario\n",
        "df['salary'].std()"
      ],
      "execution_count": null,
      "outputs": [
        {
          "output_type": "execute_result",
          "data": {
            "text/plain": [
              "28293.661022264165"
            ]
          },
          "metadata": {
            "tags": []
          },
          "execution_count": 23
        }
      ]
    },
    {
      "cell_type": "code",
      "metadata": {
        "id": "Xmj4BjDqy9H3",
        "colab": {
          "base_uri": "https://localhost:8080/",
          "height": 86
        },
        "outputId": "9fc703c4-3f21-4f9a-eaa8-c9692537712c"
      },
      "source": [
        "# Calcular medias de los primeros 50 registros\n",
        "df.head(50).mean()"
      ],
      "execution_count": null,
      "outputs": [
        {
          "output_type": "execute_result",
          "data": {
            "text/plain": [
              "phd            21.52\n",
              "service        17.60\n",
              "salary     113789.14\n",
              "dtype: float64"
            ]
          },
          "metadata": {
            "tags": []
          },
          "execution_count": 25
        }
      ]
    },
    {
      "cell_type": "code",
      "metadata": {
        "id": "MKM6e1uczdQX",
        "colab": {
          "base_uri": "https://localhost:8080/",
          "height": 34
        },
        "outputId": "596b5ce4-4d7d-4505-b795-b18ce5d04890"
      },
      "source": [
        "# Calcular STD de salario\n",
        "df.salary.std()"
      ],
      "execution_count": null,
      "outputs": [
        {
          "output_type": "execute_result",
          "data": {
            "text/plain": [
              "28293.661022264165"
            ]
          },
          "metadata": {
            "tags": []
          },
          "execution_count": 26
        }
      ]
    },
    {
      "cell_type": "code",
      "metadata": {
        "id": "X-bG_7J-zm-w",
        "colab": {
          "base_uri": "https://localhost:8080/",
          "height": 34
        },
        "outputId": "6c772dd0-17d4-4520-9c31-06f6d627027d"
      },
      "source": [
        "# Calcular promedio de los últimos 5 registros de salario\n",
        "df.salary.tail(5).mean()"
      ],
      "execution_count": null,
      "outputs": [
        {
          "output_type": "execute_result",
          "data": {
            "text/plain": [
              "110780.8"
            ]
          },
          "metadata": {
            "tags": []
          },
          "execution_count": 30
        }
      ]
    },
    {
      "cell_type": "code",
      "metadata": {
        "id": "aS5SkDeW0GAd",
        "colab": {
          "base_uri": "https://localhost:8080/",
          "height": 171
        },
        "outputId": "5e1ee510-60e6-49a5-c49d-cd74847b8b66"
      },
      "source": [
        "# Calcular estadísticos descriptivos de salario\n",
        "df.salary.describe()"
      ],
      "execution_count": null,
      "outputs": [
        {
          "output_type": "execute_result",
          "data": {
            "text/plain": [
              "count        78.000000\n",
              "mean     108023.782051\n",
              "std       28293.661022\n",
              "min       57800.000000\n",
              "25%       88612.500000\n",
              "50%      104671.000000\n",
              "75%      126774.750000\n",
              "max      186960.000000\n",
              "Name: salary, dtype: float64"
            ]
          },
          "metadata": {
            "tags": []
          },
          "execution_count": 31
        }
      ]
    },
    {
      "cell_type": "code",
      "metadata": {
        "id": "9emEtsQu00gT",
        "colab": {
          "base_uri": "https://localhost:8080/",
          "height": 34
        },
        "outputId": "8cfc05da-37d0-48b1-e789-625d1f1582f7"
      },
      "source": [
        "# Promedio de los primeros 30 elementos de la columna salario \n",
        "mean1 = df.salary.head(30).mean()\n",
        "mean2 = df.salary.tail(30).mean()\n",
        "\n",
        "mean = (mean1 + mean2) / 2\n",
        "\n",
        "std1 = df.salary.std()\n",
        "\n",
        "resultado = mean + std1\n",
        "\n",
        "print(\"Resultado: \" + str(resultado))\n",
        "\n"
      ],
      "execution_count": null,
      "outputs": [
        {
          "output_type": "stream",
          "text": [
            "Resultado: 134710.47768893084\n"
          ],
          "name": "stdout"
        }
      ]
    },
    {
      "cell_type": "code",
      "metadata": {
        "id": "TF_kEtp52piL",
        "colab": {
          "base_uri": "https://localhost:8080/",
          "height": 172
        },
        "outputId": "4e0e4f28-f296-4a22-870d-59ac01367527"
      },
      "source": [
        "df_rank = df.groupby(['rank'])\n",
        "df_rank.head(50)\n",
        "df_rank.mean()"
      ],
      "execution_count": null,
      "outputs": [
        {
          "output_type": "execute_result",
          "data": {
            "text/html": [
              "<div>\n",
              "<style scoped>\n",
              "    .dataframe tbody tr th:only-of-type {\n",
              "        vertical-align: middle;\n",
              "    }\n",
              "\n",
              "    .dataframe tbody tr th {\n",
              "        vertical-align: top;\n",
              "    }\n",
              "\n",
              "    .dataframe thead th {\n",
              "        text-align: right;\n",
              "    }\n",
              "</style>\n",
              "<table border=\"1\" class=\"dataframe\">\n",
              "  <thead>\n",
              "    <tr style=\"text-align: right;\">\n",
              "      <th></th>\n",
              "      <th>phd</th>\n",
              "      <th>service</th>\n",
              "      <th>salary</th>\n",
              "    </tr>\n",
              "    <tr>\n",
              "      <th>rank</th>\n",
              "      <th></th>\n",
              "      <th></th>\n",
              "      <th></th>\n",
              "    </tr>\n",
              "  </thead>\n",
              "  <tbody>\n",
              "    <tr>\n",
              "      <th>AssocProf</th>\n",
              "      <td>15.076923</td>\n",
              "      <td>11.307692</td>\n",
              "      <td>91786.230769</td>\n",
              "    </tr>\n",
              "    <tr>\n",
              "      <th>AsstProf</th>\n",
              "      <td>5.052632</td>\n",
              "      <td>2.210526</td>\n",
              "      <td>81362.789474</td>\n",
              "    </tr>\n",
              "    <tr>\n",
              "      <th>Prof</th>\n",
              "      <td>27.065217</td>\n",
              "      <td>21.413043</td>\n",
              "      <td>123624.804348</td>\n",
              "    </tr>\n",
              "  </tbody>\n",
              "</table>\n",
              "</div>"
            ],
            "text/plain": [
              "                 phd    service         salary\n",
              "rank                                          \n",
              "AssocProf  15.076923  11.307692   91786.230769\n",
              "AsstProf    5.052632   2.210526   81362.789474\n",
              "Prof       27.065217  21.413043  123624.804348"
            ]
          },
          "metadata": {
            "tags": []
          },
          "execution_count": 41
        }
      ]
    },
    {
      "cell_type": "markdown",
      "metadata": {
        "id": "DvjKqc-Q5g5Z"
      },
      "source": [
        "Filtrado de datos"
      ]
    },
    {
      "cell_type": "code",
      "metadata": {
        "id": "IJyME0YM5fx5",
        "colab": {
          "base_uri": "https://localhost:8080/",
          "height": 837
        },
        "outputId": "dc90f0eb-1219-4431-91f7-86f4c80a415e"
      },
      "source": [
        "df_filter = df[df.salary > 120000]\n",
        "print(len(df_filter))\n",
        "df_filter.head(50)"
      ],
      "execution_count": null,
      "outputs": [
        {
          "output_type": "stream",
          "text": [
            "25\n"
          ],
          "name": "stdout"
        },
        {
          "output_type": "execute_result",
          "data": {
            "text/html": [
              "<div>\n",
              "<style scoped>\n",
              "    .dataframe tbody tr th:only-of-type {\n",
              "        vertical-align: middle;\n",
              "    }\n",
              "\n",
              "    .dataframe tbody tr th {\n",
              "        vertical-align: top;\n",
              "    }\n",
              "\n",
              "    .dataframe thead th {\n",
              "        text-align: right;\n",
              "    }\n",
              "</style>\n",
              "<table border=\"1\" class=\"dataframe\">\n",
              "  <thead>\n",
              "    <tr style=\"text-align: right;\">\n",
              "      <th></th>\n",
              "      <th>rank</th>\n",
              "      <th>discipline</th>\n",
              "      <th>phd</th>\n",
              "      <th>service</th>\n",
              "      <th>sex</th>\n",
              "      <th>salary</th>\n",
              "    </tr>\n",
              "  </thead>\n",
              "  <tbody>\n",
              "    <tr>\n",
              "      <th>0</th>\n",
              "      <td>Prof</td>\n",
              "      <td>B</td>\n",
              "      <td>56</td>\n",
              "      <td>49</td>\n",
              "      <td>Male</td>\n",
              "      <td>186960</td>\n",
              "    </tr>\n",
              "    <tr>\n",
              "      <th>3</th>\n",
              "      <td>Prof</td>\n",
              "      <td>A</td>\n",
              "      <td>40</td>\n",
              "      <td>31</td>\n",
              "      <td>Male</td>\n",
              "      <td>131205</td>\n",
              "    </tr>\n",
              "    <tr>\n",
              "      <th>5</th>\n",
              "      <td>Prof</td>\n",
              "      <td>A</td>\n",
              "      <td>20</td>\n",
              "      <td>20</td>\n",
              "      <td>Male</td>\n",
              "      <td>122400</td>\n",
              "    </tr>\n",
              "    <tr>\n",
              "      <th>7</th>\n",
              "      <td>Prof</td>\n",
              "      <td>A</td>\n",
              "      <td>18</td>\n",
              "      <td>18</td>\n",
              "      <td>Male</td>\n",
              "      <td>126300</td>\n",
              "    </tr>\n",
              "    <tr>\n",
              "      <th>10</th>\n",
              "      <td>Prof</td>\n",
              "      <td>B</td>\n",
              "      <td>39</td>\n",
              "      <td>33</td>\n",
              "      <td>Male</td>\n",
              "      <td>128250</td>\n",
              "    </tr>\n",
              "    <tr>\n",
              "      <th>11</th>\n",
              "      <td>Prof</td>\n",
              "      <td>B</td>\n",
              "      <td>23</td>\n",
              "      <td>23</td>\n",
              "      <td>Male</td>\n",
              "      <td>134778</td>\n",
              "    </tr>\n",
              "    <tr>\n",
              "      <th>13</th>\n",
              "      <td>Prof</td>\n",
              "      <td>B</td>\n",
              "      <td>35</td>\n",
              "      <td>33</td>\n",
              "      <td>Male</td>\n",
              "      <td>162200</td>\n",
              "    </tr>\n",
              "    <tr>\n",
              "      <th>14</th>\n",
              "      <td>Prof</td>\n",
              "      <td>B</td>\n",
              "      <td>25</td>\n",
              "      <td>19</td>\n",
              "      <td>Male</td>\n",
              "      <td>153750</td>\n",
              "    </tr>\n",
              "    <tr>\n",
              "      <th>15</th>\n",
              "      <td>Prof</td>\n",
              "      <td>B</td>\n",
              "      <td>17</td>\n",
              "      <td>3</td>\n",
              "      <td>Male</td>\n",
              "      <td>150480</td>\n",
              "    </tr>\n",
              "    <tr>\n",
              "      <th>19</th>\n",
              "      <td>Prof</td>\n",
              "      <td>A</td>\n",
              "      <td>29</td>\n",
              "      <td>27</td>\n",
              "      <td>Male</td>\n",
              "      <td>150500</td>\n",
              "    </tr>\n",
              "    <tr>\n",
              "      <th>26</th>\n",
              "      <td>Prof</td>\n",
              "      <td>A</td>\n",
              "      <td>38</td>\n",
              "      <td>19</td>\n",
              "      <td>Male</td>\n",
              "      <td>148750</td>\n",
              "    </tr>\n",
              "    <tr>\n",
              "      <th>27</th>\n",
              "      <td>Prof</td>\n",
              "      <td>A</td>\n",
              "      <td>45</td>\n",
              "      <td>43</td>\n",
              "      <td>Male</td>\n",
              "      <td>155865</td>\n",
              "    </tr>\n",
              "    <tr>\n",
              "      <th>29</th>\n",
              "      <td>Prof</td>\n",
              "      <td>B</td>\n",
              "      <td>21</td>\n",
              "      <td>20</td>\n",
              "      <td>Male</td>\n",
              "      <td>123683</td>\n",
              "    </tr>\n",
              "    <tr>\n",
              "      <th>31</th>\n",
              "      <td>Prof</td>\n",
              "      <td>B</td>\n",
              "      <td>22</td>\n",
              "      <td>21</td>\n",
              "      <td>Male</td>\n",
              "      <td>155750</td>\n",
              "    </tr>\n",
              "    <tr>\n",
              "      <th>35</th>\n",
              "      <td>Prof</td>\n",
              "      <td>B</td>\n",
              "      <td>28</td>\n",
              "      <td>23</td>\n",
              "      <td>Male</td>\n",
              "      <td>126933</td>\n",
              "    </tr>\n",
              "    <tr>\n",
              "      <th>36</th>\n",
              "      <td>Prof</td>\n",
              "      <td>B</td>\n",
              "      <td>45</td>\n",
              "      <td>45</td>\n",
              "      <td>Male</td>\n",
              "      <td>146856</td>\n",
              "    </tr>\n",
              "    <tr>\n",
              "      <th>39</th>\n",
              "      <td>Prof</td>\n",
              "      <td>B</td>\n",
              "      <td>18</td>\n",
              "      <td>18</td>\n",
              "      <td>Female</td>\n",
              "      <td>129000</td>\n",
              "    </tr>\n",
              "    <tr>\n",
              "      <th>40</th>\n",
              "      <td>Prof</td>\n",
              "      <td>A</td>\n",
              "      <td>39</td>\n",
              "      <td>36</td>\n",
              "      <td>Female</td>\n",
              "      <td>137000</td>\n",
              "    </tr>\n",
              "    <tr>\n",
              "      <th>44</th>\n",
              "      <td>Prof</td>\n",
              "      <td>B</td>\n",
              "      <td>23</td>\n",
              "      <td>19</td>\n",
              "      <td>Female</td>\n",
              "      <td>151768</td>\n",
              "    </tr>\n",
              "    <tr>\n",
              "      <th>45</th>\n",
              "      <td>Prof</td>\n",
              "      <td>B</td>\n",
              "      <td>25</td>\n",
              "      <td>25</td>\n",
              "      <td>Female</td>\n",
              "      <td>140096</td>\n",
              "    </tr>\n",
              "    <tr>\n",
              "      <th>49</th>\n",
              "      <td>Prof</td>\n",
              "      <td>B</td>\n",
              "      <td>17</td>\n",
              "      <td>18</td>\n",
              "      <td>Female</td>\n",
              "      <td>122960</td>\n",
              "    </tr>\n",
              "    <tr>\n",
              "      <th>51</th>\n",
              "      <td>Prof</td>\n",
              "      <td>B</td>\n",
              "      <td>20</td>\n",
              "      <td>14</td>\n",
              "      <td>Female</td>\n",
              "      <td>127512</td>\n",
              "    </tr>\n",
              "    <tr>\n",
              "      <th>58</th>\n",
              "      <td>Prof</td>\n",
              "      <td>B</td>\n",
              "      <td>36</td>\n",
              "      <td>26</td>\n",
              "      <td>Female</td>\n",
              "      <td>144651</td>\n",
              "    </tr>\n",
              "    <tr>\n",
              "      <th>72</th>\n",
              "      <td>Prof</td>\n",
              "      <td>B</td>\n",
              "      <td>24</td>\n",
              "      <td>15</td>\n",
              "      <td>Female</td>\n",
              "      <td>161101</td>\n",
              "    </tr>\n",
              "    <tr>\n",
              "      <th>75</th>\n",
              "      <td>Prof</td>\n",
              "      <td>B</td>\n",
              "      <td>17</td>\n",
              "      <td>17</td>\n",
              "      <td>Female</td>\n",
              "      <td>124312</td>\n",
              "    </tr>\n",
              "  </tbody>\n",
              "</table>\n",
              "</div>"
            ],
            "text/plain": [
              "    rank discipline  phd  service     sex  salary\n",
              "0   Prof          B   56       49    Male  186960\n",
              "3   Prof          A   40       31    Male  131205\n",
              "5   Prof          A   20       20    Male  122400\n",
              "7   Prof          A   18       18    Male  126300\n",
              "10  Prof          B   39       33    Male  128250\n",
              "11  Prof          B   23       23    Male  134778\n",
              "13  Prof          B   35       33    Male  162200\n",
              "14  Prof          B   25       19    Male  153750\n",
              "15  Prof          B   17        3    Male  150480\n",
              "19  Prof          A   29       27    Male  150500\n",
              "26  Prof          A   38       19    Male  148750\n",
              "27  Prof          A   45       43    Male  155865\n",
              "29  Prof          B   21       20    Male  123683\n",
              "31  Prof          B   22       21    Male  155750\n",
              "35  Prof          B   28       23    Male  126933\n",
              "36  Prof          B   45       45    Male  146856\n",
              "39  Prof          B   18       18  Female  129000\n",
              "40  Prof          A   39       36  Female  137000\n",
              "44  Prof          B   23       19  Female  151768\n",
              "45  Prof          B   25       25  Female  140096\n",
              "49  Prof          B   17       18  Female  122960\n",
              "51  Prof          B   20       14  Female  127512\n",
              "58  Prof          B   36       26  Female  144651\n",
              "72  Prof          B   24       15  Female  161101\n",
              "75  Prof          B   17       17  Female  124312"
            ]
          },
          "metadata": {
            "tags": []
          },
          "execution_count": 45
        }
      ]
    },
    {
      "cell_type": "code",
      "metadata": {
        "id": "3VBzQ4Ht6awb",
        "colab": {
          "base_uri": "https://localhost:8080/",
          "height": 203
        },
        "outputId": "b77df4ff-4188-4c07-ec3a-f8b8855b9fa6"
      },
      "source": [
        "# Obtener solo dos columnas (variables)\n",
        "df[['rank','salary']]"
      ],
      "execution_count": null,
      "outputs": [
        {
          "output_type": "execute_result",
          "data": {
            "text/html": [
              "<div>\n",
              "<style scoped>\n",
              "    .dataframe tbody tr th:only-of-type {\n",
              "        vertical-align: middle;\n",
              "    }\n",
              "\n",
              "    .dataframe tbody tr th {\n",
              "        vertical-align: top;\n",
              "    }\n",
              "\n",
              "    .dataframe thead th {\n",
              "        text-align: right;\n",
              "    }\n",
              "</style>\n",
              "<table border=\"1\" class=\"dataframe\">\n",
              "  <thead>\n",
              "    <tr style=\"text-align: right;\">\n",
              "      <th></th>\n",
              "      <th>rank</th>\n",
              "      <th>salary</th>\n",
              "    </tr>\n",
              "  </thead>\n",
              "  <tbody>\n",
              "    <tr>\n",
              "      <th>0</th>\n",
              "      <td>Prof</td>\n",
              "      <td>186960</td>\n",
              "    </tr>\n",
              "    <tr>\n",
              "      <th>1</th>\n",
              "      <td>Prof</td>\n",
              "      <td>93000</td>\n",
              "    </tr>\n",
              "    <tr>\n",
              "      <th>2</th>\n",
              "      <td>Prof</td>\n",
              "      <td>110515</td>\n",
              "    </tr>\n",
              "    <tr>\n",
              "      <th>3</th>\n",
              "      <td>Prof</td>\n",
              "      <td>131205</td>\n",
              "    </tr>\n",
              "    <tr>\n",
              "      <th>4</th>\n",
              "      <td>Prof</td>\n",
              "      <td>104800</td>\n",
              "    </tr>\n",
              "  </tbody>\n",
              "</table>\n",
              "</div>"
            ],
            "text/plain": [
              "   rank  salary\n",
              "0  Prof  186960\n",
              "1  Prof   93000\n",
              "2  Prof  110515\n",
              "3  Prof  131205\n",
              "4  Prof  104800"
            ]
          },
          "metadata": {
            "tags": []
          },
          "execution_count": 53
        }
      ]
    },
    {
      "cell_type": "code",
      "metadata": {
        "id": "9UkIZwT17Sdv",
        "colab": {
          "base_uri": "https://localhost:8080/",
          "height": 357
        },
        "outputId": "25513498-6ea1-4f66-ab5d-50fe3b636bde"
      },
      "source": [
        "# Filtrar solo por filas\n",
        "\n",
        "df[10:20][['rank']]"
      ],
      "execution_count": null,
      "outputs": [
        {
          "output_type": "execute_result",
          "data": {
            "text/html": [
              "<div>\n",
              "<style scoped>\n",
              "    .dataframe tbody tr th:only-of-type {\n",
              "        vertical-align: middle;\n",
              "    }\n",
              "\n",
              "    .dataframe tbody tr th {\n",
              "        vertical-align: top;\n",
              "    }\n",
              "\n",
              "    .dataframe thead th {\n",
              "        text-align: right;\n",
              "    }\n",
              "</style>\n",
              "<table border=\"1\" class=\"dataframe\">\n",
              "  <thead>\n",
              "    <tr style=\"text-align: right;\">\n",
              "      <th></th>\n",
              "      <th>rank</th>\n",
              "    </tr>\n",
              "  </thead>\n",
              "  <tbody>\n",
              "    <tr>\n",
              "      <th>10</th>\n",
              "      <td>Prof</td>\n",
              "    </tr>\n",
              "    <tr>\n",
              "      <th>11</th>\n",
              "      <td>Prof</td>\n",
              "    </tr>\n",
              "    <tr>\n",
              "      <th>12</th>\n",
              "      <td>AsstProf</td>\n",
              "    </tr>\n",
              "    <tr>\n",
              "      <th>13</th>\n",
              "      <td>Prof</td>\n",
              "    </tr>\n",
              "    <tr>\n",
              "      <th>14</th>\n",
              "      <td>Prof</td>\n",
              "    </tr>\n",
              "    <tr>\n",
              "      <th>15</th>\n",
              "      <td>Prof</td>\n",
              "    </tr>\n",
              "    <tr>\n",
              "      <th>16</th>\n",
              "      <td>AsstProf</td>\n",
              "    </tr>\n",
              "    <tr>\n",
              "      <th>17</th>\n",
              "      <td>AsstProf</td>\n",
              "    </tr>\n",
              "    <tr>\n",
              "      <th>18</th>\n",
              "      <td>Prof</td>\n",
              "    </tr>\n",
              "    <tr>\n",
              "      <th>19</th>\n",
              "      <td>Prof</td>\n",
              "    </tr>\n",
              "  </tbody>\n",
              "</table>\n",
              "</div>"
            ],
            "text/plain": [
              "        rank\n",
              "10      Prof\n",
              "11      Prof\n",
              "12  AsstProf\n",
              "13      Prof\n",
              "14      Prof\n",
              "15      Prof\n",
              "16  AsstProf\n",
              "17  AsstProf\n",
              "18      Prof\n",
              "19      Prof"
            ]
          },
          "metadata": {
            "tags": []
          },
          "execution_count": 56
        }
      ]
    },
    {
      "cell_type": "code",
      "metadata": {
        "id": "Bw8JAt4x9Rid",
        "colab": {
          "base_uri": "https://localhost:8080/",
          "height": 417
        },
        "outputId": "f3a99b5c-c08f-4be3-fcc8-ca440abb51e2"
      },
      "source": [
        "# Ordenar data frame por servicio\n",
        "df.sort_values(by = 'salary')\n"
      ],
      "execution_count": null,
      "outputs": [
        {
          "output_type": "execute_result",
          "data": {
            "text/html": [
              "<div>\n",
              "<style scoped>\n",
              "    .dataframe tbody tr th:only-of-type {\n",
              "        vertical-align: middle;\n",
              "    }\n",
              "\n",
              "    .dataframe tbody tr th {\n",
              "        vertical-align: top;\n",
              "    }\n",
              "\n",
              "    .dataframe thead th {\n",
              "        text-align: right;\n",
              "    }\n",
              "</style>\n",
              "<table border=\"1\" class=\"dataframe\">\n",
              "  <thead>\n",
              "    <tr style=\"text-align: right;\">\n",
              "      <th></th>\n",
              "      <th>rank</th>\n",
              "      <th>discipline</th>\n",
              "      <th>phd</th>\n",
              "      <th>service</th>\n",
              "      <th>sex</th>\n",
              "      <th>salary</th>\n",
              "    </tr>\n",
              "  </thead>\n",
              "  <tbody>\n",
              "    <tr>\n",
              "      <th>9</th>\n",
              "      <td>Prof</td>\n",
              "      <td>A</td>\n",
              "      <td>51</td>\n",
              "      <td>51</td>\n",
              "      <td>Male</td>\n",
              "      <td>57800</td>\n",
              "    </tr>\n",
              "    <tr>\n",
              "      <th>54</th>\n",
              "      <td>AssocProf</td>\n",
              "      <td>A</td>\n",
              "      <td>25</td>\n",
              "      <td>22</td>\n",
              "      <td>Female</td>\n",
              "      <td>62884</td>\n",
              "    </tr>\n",
              "    <tr>\n",
              "      <th>66</th>\n",
              "      <td>AsstProf</td>\n",
              "      <td>A</td>\n",
              "      <td>7</td>\n",
              "      <td>6</td>\n",
              "      <td>Female</td>\n",
              "      <td>63100</td>\n",
              "    </tr>\n",
              "    <tr>\n",
              "      <th>71</th>\n",
              "      <td>AssocProf</td>\n",
              "      <td>B</td>\n",
              "      <td>12</td>\n",
              "      <td>9</td>\n",
              "      <td>Female</td>\n",
              "      <td>71065</td>\n",
              "    </tr>\n",
              "    <tr>\n",
              "      <th>57</th>\n",
              "      <td>AsstProf</td>\n",
              "      <td>A</td>\n",
              "      <td>3</td>\n",
              "      <td>1</td>\n",
              "      <td>Female</td>\n",
              "      <td>72500</td>\n",
              "    </tr>\n",
              "    <tr>\n",
              "      <th>...</th>\n",
              "      <td>...</td>\n",
              "      <td>...</td>\n",
              "      <td>...</td>\n",
              "      <td>...</td>\n",
              "      <td>...</td>\n",
              "      <td>...</td>\n",
              "    </tr>\n",
              "    <tr>\n",
              "      <th>31</th>\n",
              "      <td>Prof</td>\n",
              "      <td>B</td>\n",
              "      <td>22</td>\n",
              "      <td>21</td>\n",
              "      <td>Male</td>\n",
              "      <td>155750</td>\n",
              "    </tr>\n",
              "    <tr>\n",
              "      <th>27</th>\n",
              "      <td>Prof</td>\n",
              "      <td>A</td>\n",
              "      <td>45</td>\n",
              "      <td>43</td>\n",
              "      <td>Male</td>\n",
              "      <td>155865</td>\n",
              "    </tr>\n",
              "    <tr>\n",
              "      <th>72</th>\n",
              "      <td>Prof</td>\n",
              "      <td>B</td>\n",
              "      <td>24</td>\n",
              "      <td>15</td>\n",
              "      <td>Female</td>\n",
              "      <td>161101</td>\n",
              "    </tr>\n",
              "    <tr>\n",
              "      <th>13</th>\n",
              "      <td>Prof</td>\n",
              "      <td>B</td>\n",
              "      <td>35</td>\n",
              "      <td>33</td>\n",
              "      <td>Male</td>\n",
              "      <td>162200</td>\n",
              "    </tr>\n",
              "    <tr>\n",
              "      <th>0</th>\n",
              "      <td>Prof</td>\n",
              "      <td>B</td>\n",
              "      <td>56</td>\n",
              "      <td>49</td>\n",
              "      <td>Male</td>\n",
              "      <td>186960</td>\n",
              "    </tr>\n",
              "  </tbody>\n",
              "</table>\n",
              "<p>78 rows × 6 columns</p>\n",
              "</div>"
            ],
            "text/plain": [
              "         rank discipline  phd  service     sex  salary\n",
              "9        Prof          A   51       51    Male   57800\n",
              "54  AssocProf          A   25       22  Female   62884\n",
              "66   AsstProf          A    7        6  Female   63100\n",
              "71  AssocProf          B   12        9  Female   71065\n",
              "57   AsstProf          A    3        1  Female   72500\n",
              "..        ...        ...  ...      ...     ...     ...\n",
              "31       Prof          B   22       21    Male  155750\n",
              "27       Prof          A   45       43    Male  155865\n",
              "72       Prof          B   24       15  Female  161101\n",
              "13       Prof          B   35       33    Male  162200\n",
              "0        Prof          B   56       49    Male  186960\n",
              "\n",
              "[78 rows x 6 columns]"
            ]
          },
          "metadata": {
            "tags": []
          },
          "execution_count": 59
        }
      ]
    },
    {
      "cell_type": "markdown",
      "metadata": {
        "id": "S5DhXpM6Qvwb"
      },
      "source": [
        "#### Instalar paquete faltante datapackage\n",
        "datahub.io\n",
        "\n",
        "```\n",
        "# This is formatted as code\n",
        "```\n",
        "\n"
      ]
    },
    {
      "cell_type": "code",
      "metadata": {
        "id": "__YGZjsGQMXS",
        "colab": {
          "base_uri": "https://localhost:8080/",
          "height": 1000
        },
        "outputId": "dfdbcd01-3b79-4f3f-ff4a-aa4cefa81869"
      },
      "source": [
        "!pip install datapackage"
      ],
      "execution_count": null,
      "outputs": [
        {
          "output_type": "stream",
          "text": [
            "Collecting datapackage\n",
            "\u001b[?25l  Downloading https://files.pythonhosted.org/packages/12/3b/89542ab6c64d455cd4aca22261f61892260797d546048cbb537309b4dc0a/datapackage-1.15.0-py2.py3-none-any.whl (85kB)\n",
            "\r\u001b[K     |███▉                            | 10kB 14.0MB/s eta 0:00:01\r\u001b[K     |███████▋                        | 20kB 1.8MB/s eta 0:00:01\r\u001b[K     |███████████▌                    | 30kB 2.3MB/s eta 0:00:01\r\u001b[K     |███████████████▎                | 40kB 2.5MB/s eta 0:00:01\r\u001b[K     |███████████████████▏            | 51kB 2.0MB/s eta 0:00:01\r\u001b[K     |███████████████████████         | 61kB 2.3MB/s eta 0:00:01\r\u001b[K     |██████████████████████████▉     | 71kB 2.5MB/s eta 0:00:01\r\u001b[K     |██████████████████████████████▋ | 81kB 2.7MB/s eta 0:00:01\r\u001b[K     |████████████████████████████████| 92kB 2.3MB/s \n",
            "\u001b[?25hRequirement already satisfied: click>=6.7 in /usr/local/lib/python3.6/dist-packages (from datapackage) (7.1.2)\n",
            "Requirement already satisfied: jsonschema>=2.5 in /usr/local/lib/python3.6/dist-packages (from datapackage) (2.6.0)\n",
            "Requirement already satisfied: six>=1.10 in /usr/local/lib/python3.6/dist-packages (from datapackage) (1.15.0)\n",
            "Collecting tabulator>=1.29\n",
            "\u001b[?25l  Downloading https://files.pythonhosted.org/packages/1d/12/22a346e531f25e97f303118adbad3a4ddfc453950030ee35e8386e2c6aaf/tabulator-1.52.3-py2.py3-none-any.whl (71kB)\n",
            "\u001b[K     |████████████████████████████████| 71kB 3.0MB/s \n",
            "\u001b[?25hRequirement already satisfied: requests>=2.8 in /usr/local/lib/python3.6/dist-packages (from datapackage) (2.23.0)\n",
            "Collecting jsonpointer>=1.10\n",
            "  Downloading https://files.pythonhosted.org/packages/18/b0/a80d29577c08eea401659254dfaed87f1af45272899e1812d7e01b679bc5/jsonpointer-2.0-py2.py3-none-any.whl\n",
            "Collecting tableschema>=1.12.1\n",
            "\u001b[?25l  Downloading https://files.pythonhosted.org/packages/20/f9/3e42a0c06f9e7c6e59fb1891b934daf611c270eef48bb5fad16c55623a0c/tableschema-1.19.3-py2.py3-none-any.whl (68kB)\n",
            "\u001b[K     |████████████████████████████████| 71kB 4.1MB/s \n",
            "\u001b[?25hCollecting unicodecsv>=0.14\n",
            "  Downloading https://files.pythonhosted.org/packages/6f/a4/691ab63b17505a26096608cc309960b5a6bdf39e4ba1a793d5f9b1a53270/unicodecsv-0.14.1.tar.gz\n",
            "Requirement already satisfied: chardet>=3.0 in /usr/local/lib/python3.6/dist-packages (from datapackage) (3.0.4)\n",
            "Collecting ijson>=3.0.3\n",
            "\u001b[?25l  Downloading https://files.pythonhosted.org/packages/ef/49/8bd1f82b3d376c3b4830486036b1032fc054ec1ad9d04f3f583776346ad2/ijson-3.1.1-cp36-cp36m-manylinux2010_x86_64.whl (128kB)\n",
            "\u001b[K     |████████████████████████████████| 133kB 8.1MB/s \n",
            "\u001b[?25hRequirement already satisfied: xlrd>=1.0 in /usr/local/lib/python3.6/dist-packages (from tabulator>=1.29->datapackage) (1.1.0)\n",
            "Requirement already satisfied: sqlalchemy>=0.9.6 in /usr/local/lib/python3.6/dist-packages (from tabulator>=1.29->datapackage) (1.3.19)\n",
            "Collecting linear-tsv>=1.0\n",
            "  Downloading https://files.pythonhosted.org/packages/82/e5/03207a0f11e1d60df85b97b61704ed701b725a7c2feaf83f7bfbd0c2d83e/linear-tsv-1.1.0.tar.gz\n",
            "Requirement already satisfied: boto3>=1.9 in /usr/local/lib/python3.6/dist-packages (from tabulator>=1.29->datapackage) (1.14.48)\n",
            "Collecting jsonlines>=1.1\n",
            "  Downloading https://files.pythonhosted.org/packages/4f/9a/ab96291470e305504aa4b7a2e0ec132e930da89eb3ca7a82fbe03167c131/jsonlines-1.2.0-py2.py3-none-any.whl\n",
            "Collecting openpyxl>=2.6\n",
            "\u001b[?25l  Downloading https://files.pythonhosted.org/packages/5c/90/61f83be1c335a9b69fa773784a785d9de95c7561d1661918796fd1cba3d2/openpyxl-3.0.5-py2.py3-none-any.whl (242kB)\n",
            "\u001b[K     |████████████████████████████████| 245kB 8.8MB/s \n",
            "\u001b[?25hRequirement already satisfied: urllib3!=1.25.0,!=1.25.1,<1.26,>=1.21.1 in /usr/local/lib/python3.6/dist-packages (from requests>=2.8->datapackage) (1.24.3)\n",
            "Requirement already satisfied: certifi>=2017.4.17 in /usr/local/lib/python3.6/dist-packages (from requests>=2.8->datapackage) (2020.6.20)\n",
            "Requirement already satisfied: idna<3,>=2.5 in /usr/local/lib/python3.6/dist-packages (from requests>=2.8->datapackage) (2.10)\n",
            "Collecting rfc3986>=1.1.0\n",
            "  Downloading https://files.pythonhosted.org/packages/78/be/7b8b99fd74ff5684225f50dd0e865393d2265656ef3b4ba9eaaaffe622b8/rfc3986-1.4.0-py2.py3-none-any.whl\n",
            "Collecting isodate>=0.5.4\n",
            "\u001b[?25l  Downloading https://files.pythonhosted.org/packages/9b/9f/b36f7774ff5ea8e428fdcfc4bb332c39ee5b9362ddd3d40d9516a55221b2/isodate-0.6.0-py2.py3-none-any.whl (45kB)\n",
            "\u001b[K     |████████████████████████████████| 51kB 4.9MB/s \n",
            "\u001b[?25hCollecting cached-property>=1.5\n",
            "  Downloading https://files.pythonhosted.org/packages/3b/86/85c1be2e8db9e13ef9a350aecd6dea292bd612fa288c2f40d035bb750ded/cached_property-1.5.1-py2.py3-none-any.whl\n",
            "Requirement already satisfied: python-dateutil>=2.4 in /usr/local/lib/python3.6/dist-packages (from tableschema>=1.12.1->datapackage) (2.8.1)\n",
            "Requirement already satisfied: botocore<1.18.0,>=1.17.48 in /usr/local/lib/python3.6/dist-packages (from boto3>=1.9->tabulator>=1.29->datapackage) (1.17.48)\n",
            "Requirement already satisfied: s3transfer<0.4.0,>=0.3.0 in /usr/local/lib/python3.6/dist-packages (from boto3>=1.9->tabulator>=1.29->datapackage) (0.3.3)\n",
            "Requirement already satisfied: jmespath<1.0.0,>=0.7.1 in /usr/local/lib/python3.6/dist-packages (from boto3>=1.9->tabulator>=1.29->datapackage) (0.10.0)\n",
            "Requirement already satisfied: jdcal in /usr/local/lib/python3.6/dist-packages (from openpyxl>=2.6->tabulator>=1.29->datapackage) (1.4.1)\n",
            "Requirement already satisfied: et-xmlfile in /usr/local/lib/python3.6/dist-packages (from openpyxl>=2.6->tabulator>=1.29->datapackage) (1.0.1)\n",
            "Requirement already satisfied: docutils<0.16,>=0.10 in /usr/local/lib/python3.6/dist-packages (from botocore<1.18.0,>=1.17.48->boto3>=1.9->tabulator>=1.29->datapackage) (0.15.2)\n",
            "Building wheels for collected packages: unicodecsv, linear-tsv\n",
            "  Building wheel for unicodecsv (setup.py) ... \u001b[?25l\u001b[?25hdone\n",
            "  Created wheel for unicodecsv: filename=unicodecsv-0.14.1-cp36-none-any.whl size=10769 sha256=41d9593e9c6031e9791d298bffd92110cfc7b96fc75c162092bd3d485f8ba9c3\n",
            "  Stored in directory: /root/.cache/pip/wheels/a6/09/e9/e800279c98a0a8c94543f3de6c8a562f60e51363ed26e71283\n",
            "  Building wheel for linear-tsv (setup.py) ... \u001b[?25l\u001b[?25hdone\n",
            "  Created wheel for linear-tsv: filename=linear_tsv-1.1.0-cp36-none-any.whl size=7382 sha256=a26721f6d3b44830938cb5cce3d763f1e3c2d2934322bbbe73510e6ef242bc7b\n",
            "  Stored in directory: /root/.cache/pip/wheels/3f/8a/cb/38917fd1ef4356b9870ace7331b83417dc594bf2c029bd991f\n",
            "Successfully built unicodecsv linear-tsv\n",
            "Installing collected packages: ijson, linear-tsv, jsonlines, openpyxl, unicodecsv, tabulator, jsonpointer, rfc3986, isodate, cached-property, tableschema, datapackage\n",
            "  Found existing installation: openpyxl 2.5.9\n",
            "    Uninstalling openpyxl-2.5.9:\n",
            "      Successfully uninstalled openpyxl-2.5.9\n",
            "Successfully installed cached-property-1.5.1 datapackage-1.15.0 ijson-3.1.1 isodate-0.6.0 jsonlines-1.2.0 jsonpointer-2.0 linear-tsv-1.1.0 openpyxl-3.0.5 rfc3986-1.4.0 tableschema-1.19.3 tabulator-1.52.3 unicodecsv-0.14.1\n"
          ],
          "name": "stdout"
        }
      ]
    },
    {
      "cell_type": "markdown",
      "metadata": {
        "id": "QHsMIMyMQoJL"
      },
      "source": [
        "#### Importar datos desde datahub"
      ]
    },
    {
      "cell_type": "code",
      "metadata": {
        "id": "90dJWqy8-1CP",
        "colab": {
          "base_uri": "https://localhost:8080/",
          "height": 1000
        },
        "outputId": "e5dd59b6-7377-4baa-c07b-7299360bb680"
      },
      "source": [
        "import datapackage\n",
        "\n",
        "import pandas as pd\n",
        "\n",
        "data_url = 'https://datahub.io/core/co2-ppm/datapackage.json'\n",
        "\n",
        "# to load Data Package into storage\n",
        "package = datapackage.Package(data_url)\n",
        "\n",
        "# to load only tabular data\n",
        "resources = package.resources\n",
        "for resource in resources:\n",
        "    if resource.tabular:\n",
        "        data = pd.read_csv(resource.descriptor['path'])\n",
        "        print (data)"
      ],
      "execution_count": null,
      "outputs": [
        {
          "output_type": "stream",
          "text": [
            "           Date  Decimal Date  Average  Interpolated   Trend  Number of Days\n",
            "0    1958-03-01      1958.208   315.71        315.71  314.62              -1\n",
            "1    1958-04-01      1958.292   317.45        317.45  315.29              -1\n",
            "2    1958-05-01      1958.375   317.50        317.50  314.71              -1\n",
            "3    1958-06-01      1958.458   -99.99        317.10  314.85              -1\n",
            "4    1958-07-01      1958.542   315.86        315.86  314.98              -1\n",
            "..          ...           ...      ...           ...     ...             ...\n",
            "722  2018-05-01      2018.375   411.24        411.24  407.91              24\n",
            "723  2018-06-01      2018.458   410.79        410.79  408.49              29\n",
            "724  2018-07-01      2018.542   408.71        408.71  408.32              27\n",
            "725  2018-08-01      2018.625   406.99        406.99  408.90              30\n",
            "726  2018-09-01      2018.708   405.51        405.51  409.02              29\n",
            "\n",
            "[727 rows x 6 columns]\n",
            "          Year    Mean  Uncertainty\n",
            "0   1959-11-01  315.97         0.12\n",
            "1   1960-11-01  316.91         0.12\n",
            "2   1961-11-01  317.64         0.12\n",
            "3   1962-11-01  318.45         0.12\n",
            "4   1963-11-01  318.99         0.12\n",
            "5   1964-11-01  319.62         0.12\n",
            "6   1965-11-01  320.04         0.12\n",
            "7   1966-11-01  321.38         0.12\n",
            "8   1967-11-01  322.16         0.12\n",
            "9   1968-11-01  323.04         0.12\n",
            "10  1969-11-01  324.62         0.12\n",
            "11  1970-11-01  325.68         0.12\n",
            "12  1971-11-01  326.32         0.12\n",
            "13  1972-11-01  327.45         0.12\n",
            "14  1973-11-01  329.68         0.12\n",
            "15  1974-11-01  330.18         0.12\n",
            "16  1975-11-01  331.11         0.12\n",
            "17  1976-11-01  332.04         0.12\n",
            "18  1977-11-01  333.83         0.12\n",
            "19  1978-11-01  335.40         0.12\n",
            "20  1979-11-01  336.84         0.12\n",
            "21  1980-11-01  338.75         0.12\n",
            "22  1981-11-01  340.11         0.12\n",
            "23  1982-11-01  341.45         0.12\n",
            "24  1983-11-01  343.05         0.12\n",
            "25  1984-11-01  344.65         0.12\n",
            "26  1985-11-01  346.12         0.12\n",
            "27  1986-11-01  347.42         0.12\n",
            "28  1987-11-01  349.19         0.12\n",
            "29  1988-11-01  351.57         0.12\n",
            "30  1989-11-01  353.12         0.12\n",
            "31  1990-11-01  354.39         0.12\n",
            "32  1991-11-01  355.61         0.12\n",
            "33  1992-11-01  356.45         0.12\n",
            "34  1993-11-01  357.10         0.12\n",
            "35  1994-11-01  358.83         0.12\n",
            "36  1995-11-01  360.82         0.12\n",
            "37  1996-11-01  362.61         0.12\n",
            "38  1997-11-01  363.73         0.12\n",
            "39  1998-11-01  366.70         0.12\n",
            "40  1999-11-01  368.38         0.12\n",
            "41  2000-11-01  369.55         0.12\n",
            "42  2001-11-01  371.14         0.12\n",
            "43  2002-11-01  373.28         0.12\n",
            "44  2003-11-01  375.80         0.12\n",
            "45  2004-11-01  377.52         0.12\n",
            "46  2005-11-01  379.80         0.12\n",
            "47  2006-11-01  381.90         0.12\n",
            "48  2007-11-01  383.79         0.12\n",
            "49  2008-11-01  385.60         0.12\n",
            "50  2009-11-01  387.43         0.12\n",
            "51  2010-11-01  389.90         0.12\n",
            "52  2011-11-01  391.65         0.12\n",
            "53  2012-11-01  393.85         0.12\n",
            "54  2013-11-01  396.52         0.12\n",
            "55  2014-11-01  398.65         0.12\n",
            "56  2015-11-01  400.83         0.12\n",
            "57  2016-11-01  404.24         0.12\n",
            "58  2017-11-01  406.55         0.12\n",
            "          Year  Annual Increase  Uncertainty\n",
            "0   1959-11-01             0.94         0.11\n",
            "1   1960-11-01             0.54         0.11\n",
            "2   1961-11-01             0.95         0.11\n",
            "3   1962-11-01             0.64         0.11\n",
            "4   1963-11-01             0.71         0.11\n",
            "5   1964-11-01             0.28         0.11\n",
            "6   1965-11-01             1.02         0.11\n",
            "7   1966-11-01             1.24         0.11\n",
            "8   1967-11-01             0.74         0.11\n",
            "9   1968-11-01             1.03         0.11\n",
            "10  1969-11-01             1.31         0.11\n",
            "11  1970-11-01             1.06         0.11\n",
            "12  1971-11-01             0.84         0.11\n",
            "13  1972-11-01             1.69         0.11\n",
            "14  1973-11-01             1.22         0.11\n",
            "15  1974-11-01             0.81         0.11\n",
            "16  1975-11-01             1.09         0.11\n",
            "17  1976-11-01             0.81         0.11\n",
            "18  1977-11-01             2.16         0.11\n",
            "19  1978-11-01             1.31         0.11\n",
            "20  1979-11-01             1.80         0.11\n",
            "21  1980-11-01             1.68         0.11\n",
            "22  1981-11-01             1.43         0.11\n",
            "23  1982-11-01             0.99         0.11\n",
            "24  1983-11-01             2.10         0.11\n",
            "25  1984-11-01             1.40         0.11\n",
            "26  1985-11-01             1.26         0.11\n",
            "27  1986-11-01             1.48         0.11\n",
            "28  1987-11-01             2.20         0.11\n",
            "29  1988-11-01             2.16         0.11\n",
            "30  1989-11-01             1.36         0.11\n",
            "31  1990-11-01             1.16         0.11\n",
            "32  1991-11-01             1.04         0.11\n",
            "33  1992-11-01             0.46         0.11\n",
            "34  1993-11-01             1.35         0.11\n",
            "35  1994-11-01             1.94         0.11\n",
            "36  1995-11-01             2.00         0.11\n",
            "37  1996-11-01             1.22         0.11\n",
            "38  1997-11-01             1.93         0.11\n",
            "39  1998-11-01             2.93         0.11\n",
            "40  1999-11-01             0.93         0.11\n",
            "41  2000-11-01             1.61         0.11\n",
            "42  2001-11-01             1.61         0.11\n",
            "43  2002-11-01             2.50         0.11\n",
            "44  2003-11-01             2.27         0.11\n",
            "45  2004-11-01             1.60         0.11\n",
            "46  2005-11-01             2.54         0.11\n",
            "47  2006-11-01             1.68         0.11\n",
            "48  2007-11-01             2.27         0.11\n",
            "49  2008-11-01             1.57         0.11\n",
            "50  2009-11-01             2.02         0.11\n",
            "51  2010-11-01             2.32         0.11\n",
            "52  2011-11-01             1.92         0.11\n",
            "53  2012-11-01             2.61         0.11\n",
            "54  2013-11-01             2.01         0.11\n",
            "55  2014-11-01             2.18         0.11\n",
            "56  2015-11-01             3.02         0.11\n",
            "57  2016-11-01             2.99         0.11\n",
            "58  2017-11-01             1.89         0.11\n",
            "           Date  Decimal Date  Average   Trend\n",
            "0    1980-01-01      1980.042   338.45  337.83\n",
            "1    1980-02-01      1980.125   339.15  338.10\n",
            "2    1980-03-01      1980.208   339.48  338.13\n",
            "3    1980-04-01      1980.292   339.87  338.25\n",
            "4    1980-05-01      1980.375   340.30  338.78\n",
            "..          ...           ...      ...     ...\n",
            "458  2018-03-01      2018.208   408.57  406.92\n",
            "459  2018-04-01      2018.292   408.88  407.06\n",
            "460  2018-05-01      2018.375   408.75  407.14\n",
            "461  2018-06-01      2018.458   407.86  407.34\n",
            "462  2018-07-01      2018.542   406.39  407.74\n",
            "\n",
            "[463 rows x 4 columns]\n",
            "          Year    Mean  Uncertainty\n",
            "0   1980-11-01  338.80          0.1\n",
            "1   1981-11-01  340.00          0.1\n",
            "2   1982-11-01  340.77          0.1\n",
            "3   1983-11-01  342.44          0.1\n",
            "4   1984-11-01  343.99          0.1\n",
            "5   1985-11-01  345.47          0.1\n",
            "6   1986-11-01  346.87          0.1\n",
            "7   1987-11-01  348.62          0.1\n",
            "8   1988-11-01  351.15          0.1\n",
            "9   1989-11-01  352.79          0.1\n",
            "10  1990-11-01  353.98          0.1\n",
            "11  1991-11-01  355.29          0.1\n",
            "12  1992-11-01  355.99          0.1\n",
            "13  1993-11-01  356.71          0.1\n",
            "14  1994-11-01  358.21          0.1\n",
            "15  1995-11-01  360.05          0.1\n",
            "16  1996-11-01  361.79          0.1\n",
            "17  1997-11-01  362.90          0.1\n",
            "18  1998-11-01  365.54          0.1\n",
            "19  1999-11-01  367.64          0.1\n",
            "20  2000-11-01  368.84          0.1\n",
            "21  2001-11-01  370.41          0.1\n",
            "22  2002-11-01  372.42          0.1\n",
            "23  2003-11-01  374.96          0.1\n",
            "24  2004-11-01  376.80          0.1\n",
            "25  2005-11-01  378.81          0.1\n",
            "26  2006-11-01  380.94          0.1\n",
            "27  2007-11-01  382.68          0.1\n",
            "28  2008-11-01  384.78          0.1\n",
            "29  2009-11-01  386.29          0.1\n",
            "30  2010-11-01  388.57          0.1\n",
            "31  2011-11-01  390.45          0.1\n",
            "32  2012-11-01  392.46          0.1\n",
            "33  2013-11-01  395.19          0.1\n",
            "34  2014-11-01  397.12          0.1\n",
            "35  2015-11-01  399.41          0.1\n",
            "36  2016-11-01  402.86          0.1\n",
            "37  2017-11-01  405.00          0.1\n",
            "          Year  Annual Increase  Uncertainty\n",
            "0   1959-11-01             0.96         0.31\n",
            "1   1960-11-01             0.71         0.27\n",
            "2   1961-11-01             0.78         0.27\n",
            "3   1962-11-01             0.56         0.27\n",
            "4   1963-11-01             0.57         0.28\n",
            "5   1964-11-01             0.49         0.27\n",
            "6   1965-11-01             1.10         0.26\n",
            "7   1966-11-01             1.10         0.28\n",
            "8   1967-11-01             0.61         0.34\n",
            "9   1968-11-01             0.99         0.32\n",
            "10  1969-11-01             1.32         0.29\n",
            "11  1970-11-01             1.13         0.32\n",
            "12  1971-11-01             0.73         0.30\n",
            "13  1972-11-01             1.47         0.31\n",
            "14  1973-11-01             1.46         0.31\n",
            "15  1974-11-01             0.68         0.31\n",
            "16  1975-11-01             1.23         0.27\n",
            "17  1976-11-01             0.97         0.28\n",
            "18  1977-11-01             1.92         0.29\n",
            "19  1978-11-01             1.29         0.24\n",
            "20  1979-11-01             2.14         0.26\n",
            "21  1980-11-01             1.70         0.11\n",
            "22  1981-11-01             1.15         0.07\n",
            "23  1982-11-01             0.99         0.07\n",
            "24  1983-11-01             1.85         0.09\n",
            "25  1984-11-01             1.24         0.12\n",
            "26  1985-11-01             1.62         0.10\n",
            "27  1986-11-01             1.02         0.11\n",
            "28  1987-11-01             2.70         0.10\n",
            "29  1988-11-01             2.25         0.09\n",
            "30  1989-11-01             1.38         0.11\n",
            "31  1990-11-01             1.17         0.09\n",
            "32  1991-11-01             0.74         0.09\n",
            "33  1992-11-01             0.70         0.10\n",
            "34  1993-11-01             1.23         0.07\n",
            "35  1994-11-01             1.68         0.11\n",
            "36  1995-11-01             1.95         0.11\n",
            "37  1996-11-01             1.06         0.08\n",
            "38  1997-11-01             1.97         0.08\n",
            "39  1998-11-01             2.82         0.11\n",
            "40  1999-11-01             1.37         0.08\n",
            "41  2000-11-01             1.23         0.11\n",
            "42  2001-11-01             1.82         0.09\n",
            "43  2002-11-01             2.36         0.07\n",
            "44  2003-11-01             2.29         0.09\n",
            "45  2004-11-01             1.57         0.05\n",
            "46  2005-11-01             2.43         0.08\n",
            "47  2006-11-01             1.75         0.06\n",
            "48  2007-11-01             2.09         0.07\n",
            "49  2008-11-01             1.79         0.05\n",
            "50  2009-11-01             1.61         0.06\n",
            "51  2010-11-01             2.43         0.07\n",
            "52  2011-11-01             1.70         0.08\n",
            "53  2012-11-01             2.39         0.07\n",
            "54  2013-11-01             2.41         0.08\n",
            "55  2014-11-01             2.04         0.08\n",
            "56  2015-11-01             2.94         0.07\n",
            "57  2016-11-01             2.86         0.08\n",
            "58  2017-11-01             2.14         0.09\n",
            "        Date  Decimal Date  Average  Interpolated   Trend  Number of Days\n",
            "0    1958-03      1958.208   315.71        315.71  314.62              -1\n",
            "1    1958-04      1958.292   317.45        317.45  315.29              -1\n",
            "2    1958-05      1958.375   317.50        317.50  314.71              -1\n",
            "3    1958-06      1958.458   -99.99        317.10  314.85              -1\n",
            "4    1958-07      1958.542   315.86        315.86  314.98              -1\n",
            "..       ...           ...      ...           ...     ...             ...\n",
            "722  2018-05      2018.375   411.24        411.24  407.91              24\n",
            "723  2018-06      2018.458   410.79        410.79  408.49              29\n",
            "724  2018-07      2018.542   408.71        408.71  408.32              27\n",
            "725  2018-08      2018.625   406.99        406.99  408.90              30\n",
            "726  2018-09      2018.708   405.51        405.51  409.02              29\n",
            "\n",
            "[727 rows x 6 columns]\n",
            "    Year    Mean  Uncertainty\n",
            "0   1959  315.97         0.12\n",
            "1   1960  316.91         0.12\n",
            "2   1961  317.64         0.12\n",
            "3   1962  318.45         0.12\n",
            "4   1963  318.99         0.12\n",
            "5   1964  319.62         0.12\n",
            "6   1965  320.04         0.12\n",
            "7   1966  321.38         0.12\n",
            "8   1967  322.16         0.12\n",
            "9   1968  323.04         0.12\n",
            "10  1969  324.62         0.12\n",
            "11  1970  325.68         0.12\n",
            "12  1971  326.32         0.12\n",
            "13  1972  327.45         0.12\n",
            "14  1973  329.68         0.12\n",
            "15  1974  330.18         0.12\n",
            "16  1975  331.11         0.12\n",
            "17  1976  332.04         0.12\n",
            "18  1977  333.83         0.12\n",
            "19  1978  335.40         0.12\n",
            "20  1979  336.84         0.12\n",
            "21  1980  338.75         0.12\n",
            "22  1981  340.11         0.12\n",
            "23  1982  341.45         0.12\n",
            "24  1983  343.05         0.12\n",
            "25  1984  344.65         0.12\n",
            "26  1985  346.12         0.12\n",
            "27  1986  347.42         0.12\n",
            "28  1987  349.19         0.12\n",
            "29  1988  351.57         0.12\n",
            "30  1989  353.12         0.12\n",
            "31  1990  354.39         0.12\n",
            "32  1991  355.61         0.12\n",
            "33  1992  356.45         0.12\n",
            "34  1993  357.10         0.12\n",
            "35  1994  358.83         0.12\n",
            "36  1995  360.82         0.12\n",
            "37  1996  362.61         0.12\n",
            "38  1997  363.73         0.12\n",
            "39  1998  366.70         0.12\n",
            "40  1999  368.38         0.12\n",
            "41  2000  369.55         0.12\n",
            "42  2001  371.14         0.12\n",
            "43  2002  373.28         0.12\n",
            "44  2003  375.80         0.12\n",
            "45  2004  377.52         0.12\n",
            "46  2005  379.80         0.12\n",
            "47  2006  381.90         0.12\n",
            "48  2007  383.79         0.12\n",
            "49  2008  385.60         0.12\n",
            "50  2009  387.43         0.12\n",
            "51  2010  389.90         0.12\n",
            "52  2011  391.65         0.12\n",
            "53  2012  393.85         0.12\n",
            "54  2013  396.52         0.12\n",
            "55  2014  398.65         0.12\n",
            "56  2015  400.83         0.12\n",
            "57  2016  404.24         0.12\n",
            "58  2017  406.55         0.12\n",
            "    Year  Annual Increase  Uncertainty\n",
            "0   1959             0.94         0.11\n",
            "1   1960             0.54         0.11\n",
            "2   1961             0.95         0.11\n",
            "3   1962             0.64         0.11\n",
            "4   1963             0.71         0.11\n",
            "5   1964             0.28         0.11\n",
            "6   1965             1.02         0.11\n",
            "7   1966             1.24         0.11\n",
            "8   1967             0.74         0.11\n",
            "9   1968             1.03         0.11\n",
            "10  1969             1.31         0.11\n",
            "11  1970             1.06         0.11\n",
            "12  1971             0.84         0.11\n",
            "13  1972             1.69         0.11\n",
            "14  1973             1.22         0.11\n",
            "15  1974             0.81         0.11\n",
            "16  1975             1.09         0.11\n",
            "17  1976             0.81         0.11\n",
            "18  1977             2.16         0.11\n",
            "19  1978             1.31         0.11\n",
            "20  1979             1.80         0.11\n",
            "21  1980             1.68         0.11\n",
            "22  1981             1.43         0.11\n",
            "23  1982             0.99         0.11\n",
            "24  1983             2.10         0.11\n",
            "25  1984             1.40         0.11\n",
            "26  1985             1.26         0.11\n",
            "27  1986             1.48         0.11\n",
            "28  1987             2.20         0.11\n",
            "29  1988             2.16         0.11\n",
            "30  1989             1.36         0.11\n",
            "31  1990             1.16         0.11\n",
            "32  1991             1.04         0.11\n",
            "33  1992             0.46         0.11\n",
            "34  1993             1.35         0.11\n",
            "35  1994             1.94         0.11\n",
            "36  1995             2.00         0.11\n",
            "37  1996             1.22         0.11\n",
            "38  1997             1.93         0.11\n",
            "39  1998             2.93         0.11\n",
            "40  1999             0.93         0.11\n",
            "41  2000             1.61         0.11\n",
            "42  2001             1.61         0.11\n",
            "43  2002             2.50         0.11\n",
            "44  2003             2.27         0.11\n",
            "45  2004             1.60         0.11\n",
            "46  2005             2.54         0.11\n",
            "47  2006             1.68         0.11\n",
            "48  2007             2.27         0.11\n",
            "49  2008             1.57         0.11\n",
            "50  2009             2.02         0.11\n",
            "51  2010             2.32         0.11\n",
            "52  2011             1.92         0.11\n",
            "53  2012             2.61         0.11\n",
            "54  2013             2.01         0.11\n",
            "55  2014             2.18         0.11\n",
            "56  2015             3.02         0.11\n",
            "57  2016             2.99         0.11\n",
            "58  2017             1.89         0.11\n",
            "        Date  Decimal Date  Average   Trend\n",
            "0    1980-01      1980.042   338.45  337.83\n",
            "1    1980-02      1980.125   339.15  338.10\n",
            "2    1980-03      1980.208   339.48  338.13\n",
            "3    1980-04      1980.292   339.87  338.25\n",
            "4    1980-05      1980.375   340.30  338.78\n",
            "..       ...           ...      ...     ...\n",
            "458  2018-03      2018.208   408.57  406.92\n",
            "459  2018-04      2018.292   408.88  407.06\n",
            "460  2018-05      2018.375   408.75  407.14\n",
            "461  2018-06      2018.458   407.86  407.34\n",
            "462  2018-07      2018.542   406.39  407.74\n",
            "\n",
            "[463 rows x 4 columns]\n",
            "    Year    Mean  Uncertainty\n",
            "0   1980  338.80          0.1\n",
            "1   1981  340.00          0.1\n",
            "2   1982  340.77          0.1\n",
            "3   1983  342.44          0.1\n",
            "4   1984  343.99          0.1\n",
            "5   1985  345.47          0.1\n",
            "6   1986  346.87          0.1\n",
            "7   1987  348.62          0.1\n",
            "8   1988  351.15          0.1\n",
            "9   1989  352.79          0.1\n",
            "10  1990  353.98          0.1\n",
            "11  1991  355.29          0.1\n",
            "12  1992  355.99          0.1\n",
            "13  1993  356.71          0.1\n",
            "14  1994  358.21          0.1\n",
            "15  1995  360.05          0.1\n",
            "16  1996  361.79          0.1\n",
            "17  1997  362.90          0.1\n",
            "18  1998  365.54          0.1\n",
            "19  1999  367.64          0.1\n",
            "20  2000  368.84          0.1\n",
            "21  2001  370.41          0.1\n",
            "22  2002  372.42          0.1\n",
            "23  2003  374.96          0.1\n",
            "24  2004  376.80          0.1\n",
            "25  2005  378.81          0.1\n",
            "26  2006  380.94          0.1\n",
            "27  2007  382.68          0.1\n",
            "28  2008  384.78          0.1\n",
            "29  2009  386.29          0.1\n",
            "30  2010  388.57          0.1\n",
            "31  2011  390.45          0.1\n",
            "32  2012  392.46          0.1\n",
            "33  2013  395.19          0.1\n",
            "34  2014  397.12          0.1\n",
            "35  2015  399.41          0.1\n",
            "36  2016  402.86          0.1\n",
            "37  2017  405.00          0.1\n",
            "    Year  Annual Increase  Uncertainty\n",
            "0   1959             0.96         0.31\n",
            "1   1960             0.71         0.27\n",
            "2   1961             0.78         0.27\n",
            "3   1962             0.56         0.27\n",
            "4   1963             0.57         0.28\n",
            "5   1964             0.49         0.27\n",
            "6   1965             1.10         0.26\n",
            "7   1966             1.10         0.28\n",
            "8   1967             0.61         0.34\n",
            "9   1968             0.99         0.32\n",
            "10  1969             1.32         0.29\n",
            "11  1970             1.13         0.32\n",
            "12  1971             0.73         0.30\n",
            "13  1972             1.47         0.31\n",
            "14  1973             1.46         0.31\n",
            "15  1974             0.68         0.31\n",
            "16  1975             1.23         0.27\n",
            "17  1976             0.97         0.28\n",
            "18  1977             1.92         0.29\n",
            "19  1978             1.29         0.24\n",
            "20  1979             2.14         0.26\n",
            "21  1980             1.70         0.11\n",
            "22  1981             1.15         0.07\n",
            "23  1982             0.99         0.07\n",
            "24  1983             1.85         0.09\n",
            "25  1984             1.24         0.12\n",
            "26  1985             1.62         0.10\n",
            "27  1986             1.02         0.11\n",
            "28  1987             2.70         0.10\n",
            "29  1988             2.25         0.09\n",
            "30  1989             1.38         0.11\n",
            "31  1990             1.17         0.09\n",
            "32  1991             0.74         0.09\n",
            "33  1992             0.70         0.10\n",
            "34  1993             1.23         0.07\n",
            "35  1994             1.68         0.11\n",
            "36  1995             1.95         0.11\n",
            "37  1996             1.06         0.08\n",
            "38  1997             1.97         0.08\n",
            "39  1998             2.82         0.11\n",
            "40  1999             1.37         0.08\n",
            "41  2000             1.23         0.11\n",
            "42  2001             1.82         0.09\n",
            "43  2002             2.36         0.07\n",
            "44  2003             2.29         0.09\n",
            "45  2004             1.57         0.05\n",
            "46  2005             2.43         0.08\n",
            "47  2006             1.75         0.06\n",
            "48  2007             2.09         0.07\n",
            "49  2008             1.79         0.05\n",
            "50  2009             1.61         0.06\n",
            "51  2010             2.43         0.07\n",
            "52  2011             1.70         0.08\n",
            "53  2012             2.39         0.07\n",
            "54  2013             2.41         0.08\n",
            "55  2014             2.04         0.08\n",
            "56  2015             2.94         0.07\n",
            "57  2016             2.86         0.08\n",
            "58  2017             2.14         0.09\n"
          ],
          "name": "stdout"
        }
      ]
    }
  ]
}