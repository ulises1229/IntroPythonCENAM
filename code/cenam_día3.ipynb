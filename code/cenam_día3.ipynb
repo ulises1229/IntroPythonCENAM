{
  "cells": [
    {
      "cell_type": "markdown",
      "metadata": {
        "id": "view-in-github",
        "colab_type": "text"
      },
      "source": [
        "<a href=\"https://colab.research.google.com/github/ulises1229/IntroPythonCENAM/blob/master/code/cenam_d%C3%ADa3.ipynb\" target=\"_parent\"><img src=\"https://colab.research.google.com/assets/colab-badge.svg\" alt=\"Open In Colab\"/></a>"
      ]
    },
    {
      "cell_type": "markdown",
      "metadata": {
        "id": "JmfSkUPKg5to"
      },
      "source": [
        "## Día 3 - Curso-Taller: Visualización de datos y modelado\n",
        "##### Autores: Ulises Olivares, Walter Hauri\n",
        "##### uolivares@unam.mx\n",
        "##### 16 de diciembre de 2022\n"
      ]
    },
    {
      "cell_type": "markdown",
      "metadata": {
        "id": "JhQQKtoWmzIN"
      },
      "source": [
        "## 1. Visualización de datos"
      ]
    },
    {
      "cell_type": "code",
      "execution_count": 1,
      "metadata": {
        "id": "1kP-uRbCm0_V"
      },
      "outputs": [],
      "source": [
        "# Cargamos la biblioteca de Seaborn para hacer los gráficos\n",
        "import seaborn as sns\n",
        "import matplotlib.pyplot as plt # Como ayuda para algunas visualizaciones \n",
        "\n",
        "# Así como pandas para la lectura\n",
        "import pandas as pd"
      ]
    },
    {
      "cell_type": "code",
      "execution_count": 2,
      "metadata": {
        "id": "qF7fpkaZrICO"
      },
      "outputs": [],
      "source": [
        "# Agregamos un poco de configuración para las gráficas (puedes explorar un poco más aquí: https://seaborn.pydata.org/tutorial/aesthetics.html)\n",
        "sns.set_style(\"dark\")\n",
        "#sns.set_context(\"poster\")"
      ]
    },
    {
      "cell_type": "markdown",
      "metadata": {
        "id": "I4VbtOWrqBVt"
      },
      "source": [
        "Hacemos la lectura de los datos a graficar"
      ]
    },
    {
      "cell_type": "code",
      "execution_count": 3,
      "metadata": {
        "colab": {
          "base_uri": "https://localhost:8080/",
          "height": 206
        },
        "id": "GP2bJ4ruqFQk",
        "outputId": "31743ae3-729f-47b9-cb3c-dade4b8f7395"
      },
      "outputs": [
        {
          "output_type": "execute_result",
          "data": {
            "text/plain": [
              "    Source  Year    Mean\n",
              "0     GCAG  2016  0.9363\n",
              "1  GISTEMP  2016  0.9900\n",
              "2     GCAG  2015  0.8998\n",
              "3  GISTEMP  2015  0.8700\n",
              "4     GCAG  2014  0.7408"
            ],
            "text/html": [
              "\n",
              "  <div id=\"df-b7db84da-d1ee-4a80-9927-053446c077ee\">\n",
              "    <div class=\"colab-df-container\">\n",
              "      <div>\n",
              "<style scoped>\n",
              "    .dataframe tbody tr th:only-of-type {\n",
              "        vertical-align: middle;\n",
              "    }\n",
              "\n",
              "    .dataframe tbody tr th {\n",
              "        vertical-align: top;\n",
              "    }\n",
              "\n",
              "    .dataframe thead th {\n",
              "        text-align: right;\n",
              "    }\n",
              "</style>\n",
              "<table border=\"1\" class=\"dataframe\">\n",
              "  <thead>\n",
              "    <tr style=\"text-align: right;\">\n",
              "      <th></th>\n",
              "      <th>Source</th>\n",
              "      <th>Year</th>\n",
              "      <th>Mean</th>\n",
              "    </tr>\n",
              "  </thead>\n",
              "  <tbody>\n",
              "    <tr>\n",
              "      <th>0</th>\n",
              "      <td>GCAG</td>\n",
              "      <td>2016</td>\n",
              "      <td>0.9363</td>\n",
              "    </tr>\n",
              "    <tr>\n",
              "      <th>1</th>\n",
              "      <td>GISTEMP</td>\n",
              "      <td>2016</td>\n",
              "      <td>0.9900</td>\n",
              "    </tr>\n",
              "    <tr>\n",
              "      <th>2</th>\n",
              "      <td>GCAG</td>\n",
              "      <td>2015</td>\n",
              "      <td>0.8998</td>\n",
              "    </tr>\n",
              "    <tr>\n",
              "      <th>3</th>\n",
              "      <td>GISTEMP</td>\n",
              "      <td>2015</td>\n",
              "      <td>0.8700</td>\n",
              "    </tr>\n",
              "    <tr>\n",
              "      <th>4</th>\n",
              "      <td>GCAG</td>\n",
              "      <td>2014</td>\n",
              "      <td>0.7408</td>\n",
              "    </tr>\n",
              "  </tbody>\n",
              "</table>\n",
              "</div>\n",
              "      <button class=\"colab-df-convert\" onclick=\"convertToInteractive('df-b7db84da-d1ee-4a80-9927-053446c077ee')\"\n",
              "              title=\"Convert this dataframe to an interactive table.\"\n",
              "              style=\"display:none;\">\n",
              "        \n",
              "  <svg xmlns=\"http://www.w3.org/2000/svg\" height=\"24px\"viewBox=\"0 0 24 24\"\n",
              "       width=\"24px\">\n",
              "    <path d=\"M0 0h24v24H0V0z\" fill=\"none\"/>\n",
              "    <path d=\"M18.56 5.44l.94 2.06.94-2.06 2.06-.94-2.06-.94-.94-2.06-.94 2.06-2.06.94zm-11 1L8.5 8.5l.94-2.06 2.06-.94-2.06-.94L8.5 2.5l-.94 2.06-2.06.94zm10 10l.94 2.06.94-2.06 2.06-.94-2.06-.94-.94-2.06-.94 2.06-2.06.94z\"/><path d=\"M17.41 7.96l-1.37-1.37c-.4-.4-.92-.59-1.43-.59-.52 0-1.04.2-1.43.59L10.3 9.45l-7.72 7.72c-.78.78-.78 2.05 0 2.83L4 21.41c.39.39.9.59 1.41.59.51 0 1.02-.2 1.41-.59l7.78-7.78 2.81-2.81c.8-.78.8-2.07 0-2.86zM5.41 20L4 18.59l7.72-7.72 1.47 1.35L5.41 20z\"/>\n",
              "  </svg>\n",
              "      </button>\n",
              "      \n",
              "  <style>\n",
              "    .colab-df-container {\n",
              "      display:flex;\n",
              "      flex-wrap:wrap;\n",
              "      gap: 12px;\n",
              "    }\n",
              "\n",
              "    .colab-df-convert {\n",
              "      background-color: #E8F0FE;\n",
              "      border: none;\n",
              "      border-radius: 50%;\n",
              "      cursor: pointer;\n",
              "      display: none;\n",
              "      fill: #1967D2;\n",
              "      height: 32px;\n",
              "      padding: 0 0 0 0;\n",
              "      width: 32px;\n",
              "    }\n",
              "\n",
              "    .colab-df-convert:hover {\n",
              "      background-color: #E2EBFA;\n",
              "      box-shadow: 0px 1px 2px rgba(60, 64, 67, 0.3), 0px 1px 3px 1px rgba(60, 64, 67, 0.15);\n",
              "      fill: #174EA6;\n",
              "    }\n",
              "\n",
              "    [theme=dark] .colab-df-convert {\n",
              "      background-color: #3B4455;\n",
              "      fill: #D2E3FC;\n",
              "    }\n",
              "\n",
              "    [theme=dark] .colab-df-convert:hover {\n",
              "      background-color: #434B5C;\n",
              "      box-shadow: 0px 1px 3px 1px rgba(0, 0, 0, 0.15);\n",
              "      filter: drop-shadow(0px 1px 2px rgba(0, 0, 0, 0.3));\n",
              "      fill: #FFFFFF;\n",
              "    }\n",
              "  </style>\n",
              "\n",
              "      <script>\n",
              "        const buttonEl =\n",
              "          document.querySelector('#df-b7db84da-d1ee-4a80-9927-053446c077ee button.colab-df-convert');\n",
              "        buttonEl.style.display =\n",
              "          google.colab.kernel.accessAllowed ? 'block' : 'none';\n",
              "\n",
              "        async function convertToInteractive(key) {\n",
              "          const element = document.querySelector('#df-b7db84da-d1ee-4a80-9927-053446c077ee');\n",
              "          const dataTable =\n",
              "            await google.colab.kernel.invokeFunction('convertToInteractive',\n",
              "                                                     [key], {});\n",
              "          if (!dataTable) return;\n",
              "\n",
              "          const docLinkHtml = 'Like what you see? Visit the ' +\n",
              "            '<a target=\"_blank\" href=https://colab.research.google.com/notebooks/data_table.ipynb>data table notebook</a>'\n",
              "            + ' to learn more about interactive tables.';\n",
              "          element.innerHTML = '';\n",
              "          dataTable['output_type'] = 'display_data';\n",
              "          await google.colab.output.renderOutput(dataTable, element);\n",
              "          const docLink = document.createElement('div');\n",
              "          docLink.innerHTML = docLinkHtml;\n",
              "          element.appendChild(docLink);\n",
              "        }\n",
              "      </script>\n",
              "    </div>\n",
              "  </div>\n",
              "  "
            ]
          },
          "metadata": {},
          "execution_count": 3
        }
      ],
      "source": [
        "temp = pd.read_csv(\"https://raw.githubusercontent.com/ulises1229/IntroPythonCENAM/master/data/temp.csv\")\n",
        "temp.head()"
      ]
    },
    {
      "cell_type": "markdown",
      "metadata": {
        "id": "8OPwH72CqPep"
      },
      "source": [
        "#### 1.1 Gráfico de línea"
      ]
    },
    {
      "cell_type": "code",
      "execution_count": 4,
      "metadata": {
        "colab": {
          "base_uri": "https://localhost:8080/",
          "height": 279
        },
        "id": "E_ZWbnWiqTn_",
        "outputId": "a1f1ee53-e120-421b-d082-d5454faf6e11"
      },
      "outputs": [
        {
          "output_type": "display_data",
          "data": {
            "text/plain": [
              "<Figure size 432x288 with 1 Axes>"
            ],
            "image/png": "[encoded data removed]"
          },
          "metadata": {}
        }
      ],
      "source": [
        "sns.lineplot(data=temp, x=\"Year\", y=\"Mean\");"
      ]
    },
    {
      "cell_type": "code",
      "execution_count": 5,
      "metadata": {
        "colab": {
          "base_uri": "https://localhost:8080/",
          "height": 279
        },
        "id": "a8ak6vnsqjbl",
        "outputId": "ba3d746d-e4ff-45c7-fc80-c1c9bcfc4844"
      },
      "outputs": [
        {
          "output_type": "display_data",
          "data": {
            "text/plain": [
              "<Figure size 432x288 with 1 Axes>"
            ],
            "image/png": "[encoded data removed]"
          },
          "metadata": {}
        }
      ],
      "source": [
        "sns.lineplot(data=temp, x=\"Year\", y=\"Mean\", hue=\"Source\"); # Lo separamos por la fuente"
      ]
    },
    {
      "cell_type": "markdown",
      "metadata": {
        "id": "ebCAh4zZlT2G"
      },
      "source": [
        "##### 1.1.1 Datos reales de vibración\n",
        "\n",
        "Ejemplo con datos de colegas CENAM"
      ]
    },
    {
      "cell_type": "code",
      "execution_count": 6,
      "metadata": {
        "id": "DtCAGFK1lT2H",
        "outputId": "72356376-da74-4c50-94d8-bacd37bed475",
        "colab": {
          "base_uri": "https://localhost:8080/",
          "height": 424
        }
      },
      "outputs": [
        {
          "output_type": "execute_result",
          "data": {
            "text/plain": [
              "      Año  Acelerómetro  Frecuencia (Hz)  Sensibilidad (mV/m/s2)\n",
              "0    2018          4519             1.00                9.949000\n",
              "1    2018          4519             1.25               10.041000\n",
              "2    2018          4519             1.60               10.100000\n",
              "3    2018          4519             2.00               10.118000\n",
              "4    2018          4519             2.50               10.136000\n",
              "..    ...           ...              ...                     ...\n",
              "200  2022          4519          4000.00                9.717321\n",
              "201  2022          4519          5000.00                9.743084\n",
              "202  2022          4519          6300.00                9.822070\n",
              "203  2022          4519          8000.00                9.985855\n",
              "204  2022          4519         10000.00               10.302132\n",
              "\n",
              "[205 rows x 4 columns]"
            ],
            "text/html": [
              "\n",
              "  <div id=\"df-5d27309d-ecb6-472e-8304-5c597a61cbf0\">\n",
              "    <div class=\"colab-df-container\">\n",
              "      <div>\n",
              "<style scoped>\n",
              "    .dataframe tbody tr th:only-of-type {\n",
              "        vertical-align: middle;\n",
              "    }\n",
              "\n",
              "    .dataframe tbody tr th {\n",
              "        vertical-align: top;\n",
              "    }\n",
              "\n",
              "    .dataframe thead th {\n",
              "        text-align: right;\n",
              "    }\n",
              "</style>\n",
              "<table border=\"1\" class=\"dataframe\">\n",
              "  <thead>\n",
              "    <tr style=\"text-align: right;\">\n",
              "      <th></th>\n",
              "      <th>Año</th>\n",
              "      <th>Acelerómetro</th>\n",
              "      <th>Frecuencia (Hz)</th>\n",
              "      <th>Sensibilidad (mV/m/s2)</th>\n",
              "    </tr>\n",
              "  </thead>\n",
              "  <tbody>\n",
              "    <tr>\n",
              "      <th>0</th>\n",
              "      <td>2018</td>\n",
              "      <td>4519</td>\n",
              "      <td>1.00</td>\n",
              "      <td>9.949000</td>\n",
              "    </tr>\n",
              "    <tr>\n",
              "      <th>1</th>\n",
              "      <td>2018</td>\n",
              "      <td>4519</td>\n",
              "      <td>1.25</td>\n",
              "      <td>10.041000</td>\n",
              "    </tr>\n",
              "    <tr>\n",
              "      <th>2</th>\n",
              "      <td>2018</td>\n",
              "      <td>4519</td>\n",
              "      <td>1.60</td>\n",
              "      <td>10.100000</td>\n",
              "    </tr>\n",
              "    <tr>\n",
              "      <th>3</th>\n",
              "      <td>2018</td>\n",
              "      <td>4519</td>\n",
              "      <td>2.00</td>\n",
              "      <td>10.118000</td>\n",
              "    </tr>\n",
              "    <tr>\n",
              "      <th>4</th>\n",
              "      <td>2018</td>\n",
              "      <td>4519</td>\n",
              "      <td>2.50</td>\n",
              "      <td>10.136000</td>\n",
              "    </tr>\n",
              "    <tr>\n",
              "      <th>...</th>\n",
              "      <td>...</td>\n",
              "      <td>...</td>\n",
              "      <td>...</td>\n",
              "      <td>...</td>\n",
              "    </tr>\n",
              "    <tr>\n",
              "      <th>200</th>\n",
              "      <td>2022</td>\n",
              "      <td>4519</td>\n",
              "      <td>4000.00</td>\n",
              "      <td>9.717321</td>\n",
              "    </tr>\n",
              "    <tr>\n",
              "      <th>201</th>\n",
              "      <td>2022</td>\n",
              "      <td>4519</td>\n",
              "      <td>5000.00</td>\n",
              "      <td>9.743084</td>\n",
              "    </tr>\n",
              "    <tr>\n",
              "      <th>202</th>\n",
              "      <td>2022</td>\n",
              "      <td>4519</td>\n",
              "      <td>6300.00</td>\n",
              "      <td>9.822070</td>\n",
              "    </tr>\n",
              "    <tr>\n",
              "      <th>203</th>\n",
              "      <td>2022</td>\n",
              "      <td>4519</td>\n",
              "      <td>8000.00</td>\n",
              "      <td>9.985855</td>\n",
              "    </tr>\n",
              "    <tr>\n",
              "      <th>204</th>\n",
              "      <td>2022</td>\n",
              "      <td>4519</td>\n",
              "      <td>10000.00</td>\n",
              "      <td>10.302132</td>\n",
              "    </tr>\n",
              "  </tbody>\n",
              "</table>\n",
              "<p>205 rows × 4 columns</p>\n",
              "</div>\n",
              "      <button class=\"colab-df-convert\" onclick=\"convertToInteractive('df-5d27309d-ecb6-472e-8304-5c597a61cbf0')\"\n",
              "              title=\"Convert this dataframe to an interactive table.\"\n",
              "              style=\"display:none;\">\n",
              "        \n",
              "  <svg xmlns=\"http://www.w3.org/2000/svg\" height=\"24px\"viewBox=\"0 0 24 24\"\n",
              "       width=\"24px\">\n",
              "    <path d=\"M0 0h24v24H0V0z\" fill=\"none\"/>\n",
              "    <path d=\"M18.56 5.44l.94 2.06.94-2.06 2.06-.94-2.06-.94-.94-2.06-.94 2.06-2.06.94zm-11 1L8.5 8.5l.94-2.06 2.06-.94-2.06-.94L8.5 2.5l-.94 2.06-2.06.94zm10 10l.94 2.06.94-2.06 2.06-.94-2.06-.94-.94-2.06-.94 2.06-2.06.94z\"/><path d=\"M17.41 7.96l-1.37-1.37c-.4-.4-.92-.59-1.43-.59-.52 0-1.04.2-1.43.59L10.3 9.45l-7.72 7.72c-.78.78-.78 2.05 0 2.83L4 21.41c.39.39.9.59 1.41.59.51 0 1.02-.2 1.41-.59l7.78-7.78 2.81-2.81c.8-.78.8-2.07 0-2.86zM5.41 20L4 18.59l7.72-7.72 1.47 1.35L5.41 20z\"/>\n",
              "  </svg>\n",
              "      </button>\n",
              "      \n",
              "  <style>\n",
              "    .colab-df-container {\n",
              "      display:flex;\n",
              "      flex-wrap:wrap;\n",
              "      gap: 12px;\n",
              "    }\n",
              "\n",
              "    .colab-df-convert {\n",
              "      background-color: #E8F0FE;\n",
              "      border: none;\n",
              "      border-radius: 50%;\n",
              "      cursor: pointer;\n",
              "      display: none;\n",
              "      fill: #1967D2;\n",
              "      height: 32px;\n",
              "      padding: 0 0 0 0;\n",
              "      width: 32px;\n",
              "    }\n",
              "\n",
              "    .colab-df-convert:hover {\n",
              "      background-color: #E2EBFA;\n",
              "      box-shadow: 0px 1px 2px rgba(60, 64, 67, 0.3), 0px 1px 3px 1px rgba(60, 64, 67, 0.15);\n",
              "      fill: #174EA6;\n",
              "    }\n",
              "\n",
              "    [theme=dark] .colab-df-convert {\n",
              "      background-color: #3B4455;\n",
              "      fill: #D2E3FC;\n",
              "    }\n",
              "\n",
              "    [theme=dark] .colab-df-convert:hover {\n",
              "      background-color: #434B5C;\n",
              "      box-shadow: 0px 1px 3px 1px rgba(0, 0, 0, 0.15);\n",
              "      filter: drop-shadow(0px 1px 2px rgba(0, 0, 0, 0.3));\n",
              "      fill: #FFFFFF;\n",
              "    }\n",
              "  </style>\n",
              "\n",
              "      <script>\n",
              "        const buttonEl =\n",
              "          document.querySelector('#df-5d27309d-ecb6-472e-8304-5c597a61cbf0 button.colab-df-convert');\n",
              "        buttonEl.style.display =\n",
              "          google.colab.kernel.accessAllowed ? 'block' : 'none';\n",
              "\n",
              "        async function convertToInteractive(key) {\n",
              "          const element = document.querySelector('#df-5d27309d-ecb6-472e-8304-5c597a61cbf0');\n",
              "          const dataTable =\n",
              "            await google.colab.kernel.invokeFunction('convertToInteractive',\n",
              "                                                     [key], {});\n",
              "          if (!dataTable) return;\n",
              "\n",
              "          const docLinkHtml = 'Like what you see? Visit the ' +\n",
              "            '<a target=\"_blank\" href=https://colab.research.google.com/notebooks/data_table.ipynb>data table notebook</a>'\n",
              "            + ' to learn more about interactive tables.';\n",
              "          element.innerHTML = '';\n",
              "          dataTable['output_type'] = 'display_data';\n",
              "          await google.colab.output.renderOutput(dataTable, element);\n",
              "          const docLink = document.createElement('div');\n",
              "          docLink.innerHTML = docLinkHtml;\n",
              "          element.appendChild(docLink);\n",
              "        }\n",
              "      </script>\n",
              "    </div>\n",
              "  </div>\n",
              "  "
            ]
          },
          "metadata": {},
          "execution_count": 6
        }
      ],
      "source": [
        "# Hacemos la lectura de los datos\n",
        "vibrations = pd.read_csv(\"https://raw.githubusercontent.com/ulises1229/IntroPythonCENAM/master/data/Ejemplo%20Datos%20Vibraciones.csv\")\n",
        "vibrations"
      ]
    },
    {
      "cell_type": "code",
      "execution_count": 7,
      "metadata": {
        "id": "VHrKaFHclT2H",
        "outputId": "60d9fed5-4a22-4a0e-a632-d86c16b3e258",
        "colab": {
          "base_uri": "https://localhost:8080/"
        }
      },
      "outputs": [
        {
          "output_type": "execute_result",
          "data": {
            "text/plain": [
              "Año                         int64\n",
              "Acelerómetro                int64\n",
              "Frecuencia (Hz)           float64\n",
              "Sensibilidad (mV/m/s2)    float64\n",
              "dtype: object"
            ]
          },
          "metadata": {},
          "execution_count": 7
        }
      ],
      "source": [
        "vibrations.dtypes # Verificamos los tipos de dato"
      ]
    },
    {
      "cell_type": "code",
      "execution_count": 8,
      "metadata": {
        "id": "9KwVFUGClT2I",
        "outputId": "bf51bf89-aff5-42dc-df20-76e0c543c063",
        "colab": {
          "base_uri": "https://localhost:8080/",
          "height": 333
        }
      },
      "outputs": [
        {
          "output_type": "execute_result",
          "data": {
            "text/plain": [
              "     Frecuencia (Hz)                                                     \\\n",
              "               count         mean         std  min   25%    50%     75%   \n",
              "Año                                                                       \n",
              "2018            41.0  1186.897561  2312.70545  1.0  10.0  100.0  1000.0   \n",
              "2019            41.0  1186.897561  2312.70545  1.0  10.0  100.0  1000.0   \n",
              "2020            41.0  1186.897561  2312.70545  1.0  10.0  100.0  1000.0   \n",
              "2021            41.0  1186.897561  2312.70545  1.0  10.0  100.0  1000.0   \n",
              "2022            41.0  1186.897561  2312.70545  1.0  10.0  100.0  1000.0   \n",
              "\n",
              "              Sensibilidad (mV/m/s2)                                          \\\n",
              "          max                  count      mean       std       min       25%   \n",
              "Año                                                                            \n",
              "2018  10000.0                   41.0  9.929049  0.165108  9.661000  9.784000   \n",
              "2019  10000.0                   41.0  9.934171  0.164588  9.663000  9.785000   \n",
              "2020  10000.0                   41.0  9.930660  0.165371  9.668252  9.784751   \n",
              "2021  10000.0                   41.0  9.933445  0.165075  9.667451  9.790971   \n",
              "2022  10000.0                   41.0  9.927562  0.165456  9.655896  9.785893   \n",
              "\n",
              "                                      \n",
              "           50%        75%        max  \n",
              "Año                                   \n",
              "2018  9.949000  10.070000  10.310000  \n",
              "2019  9.950000  10.072000  10.311000  \n",
              "2020  9.950896  10.075724  10.313587  \n",
              "2021  9.951712  10.079601  10.309563  \n",
              "2022  9.944075  10.066360  10.302132  "
            ],
            "text/html": [
              "\n",
              "  <div id=\"df-16b9ca83-25ab-41de-9680-602bcd745747\">\n",
              "    <div class=\"colab-df-container\">\n",
              "      <div>\n",
              "<style scoped>\n",
              "    .dataframe tbody tr th:only-of-type {\n",
              "        vertical-align: middle;\n",
              "    }\n",
              "\n",
              "    .dataframe tbody tr th {\n",
              "        vertical-align: top;\n",
              "    }\n",
              "\n",
              "    .dataframe thead tr th {\n",
              "        text-align: left;\n",
              "    }\n",
              "\n",
              "    .dataframe thead tr:last-of-type th {\n",
              "        text-align: right;\n",
              "    }\n",
              "</style>\n",
              "<table border=\"1\" class=\"dataframe\">\n",
              "  <thead>\n",
              "    <tr>\n",
              "      <th></th>\n",
              "      <th colspan=\"8\" halign=\"left\">Frecuencia (Hz)</th>\n",
              "      <th colspan=\"8\" halign=\"left\">Sensibilidad (mV/m/s2)</th>\n",
              "    </tr>\n",
              "    <tr>\n",
              "      <th></th>\n",
              "      <th>count</th>\n",
              "      <th>mean</th>\n",
              "      <th>std</th>\n",
              "      <th>min</th>\n",
              "      <th>25%</th>\n",
              "      <th>50%</th>\n",
              "      <th>75%</th>\n",
              "      <th>max</th>\n",
              "      <th>count</th>\n",
              "      <th>mean</th>\n",
              "      <th>std</th>\n",
              "      <th>min</th>\n",
              "      <th>25%</th>\n",
              "      <th>50%</th>\n",
              "      <th>75%</th>\n",
              "      <th>max</th>\n",
              "    </tr>\n",
              "    <tr>\n",
              "      <th>Año</th>\n",
              "      <th></th>\n",
              "      <th></th>\n",
              "      <th></th>\n",
              "      <th></th>\n",
              "      <th></th>\n",
              "      <th></th>\n",
              "      <th></th>\n",
              "      <th></th>\n",
              "      <th></th>\n",
              "      <th></th>\n",
              "      <th></th>\n",
              "      <th></th>\n",
              "      <th></th>\n",
              "      <th></th>\n",
              "      <th></th>\n",
              "      <th></th>\n",
              "    </tr>\n",
              "  </thead>\n",
              "  <tbody>\n",
              "    <tr>\n",
              "      <th>2018</th>\n",
              "      <td>41.0</td>\n",
              "      <td>1186.897561</td>\n",
              "      <td>2312.70545</td>\n",
              "      <td>1.0</td>\n",
              "      <td>10.0</td>\n",
              "      <td>100.0</td>\n",
              "      <td>1000.0</td>\n",
              "      <td>10000.0</td>\n",
              "      <td>41.0</td>\n",
              "      <td>9.929049</td>\n",
              "      <td>0.165108</td>\n",
              "      <td>9.661000</td>\n",
              "      <td>9.784000</td>\n",
              "      <td>9.949000</td>\n",
              "      <td>10.070000</td>\n",
              "      <td>10.310000</td>\n",
              "    </tr>\n",
              "    <tr>\n",
              "      <th>2019</th>\n",
              "      <td>41.0</td>\n",
              "      <td>1186.897561</td>\n",
              "      <td>2312.70545</td>\n",
              "      <td>1.0</td>\n",
              "      <td>10.0</td>\n",
              "      <td>100.0</td>\n",
              "      <td>1000.0</td>\n",
              "      <td>10000.0</td>\n",
              "      <td>41.0</td>\n",
              "      <td>9.934171</td>\n",
              "      <td>0.164588</td>\n",
              "      <td>9.663000</td>\n",
              "      <td>9.785000</td>\n",
              "      <td>9.950000</td>\n",
              "      <td>10.072000</td>\n",
              "      <td>10.311000</td>\n",
              "    </tr>\n",
              "    <tr>\n",
              "      <th>2020</th>\n",
              "      <td>41.0</td>\n",
              "      <td>1186.897561</td>\n",
              "      <td>2312.70545</td>\n",
              "      <td>1.0</td>\n",
              "      <td>10.0</td>\n",
              "      <td>100.0</td>\n",
              "      <td>1000.0</td>\n",
              "      <td>10000.0</td>\n",
              "      <td>41.0</td>\n",
              "      <td>9.930660</td>\n",
              "      <td>0.165371</td>\n",
              "      <td>9.668252</td>\n",
              "      <td>9.784751</td>\n",
              "      <td>9.950896</td>\n",
              "      <td>10.075724</td>\n",
              "      <td>10.313587</td>\n",
              "    </tr>\n",
              "    <tr>\n",
              "      <th>2021</th>\n",
              "      <td>41.0</td>\n",
              "      <td>1186.897561</td>\n",
              "      <td>2312.70545</td>\n",
              "      <td>1.0</td>\n",
              "      <td>10.0</td>\n",
              "      <td>100.0</td>\n",
              "      <td>1000.0</td>\n",
              "      <td>10000.0</td>\n",
              "      <td>41.0</td>\n",
              "      <td>9.933445</td>\n",
              "      <td>0.165075</td>\n",
              "      <td>9.667451</td>\n",
              "      <td>9.790971</td>\n",
              "      <td>9.951712</td>\n",
              "      <td>10.079601</td>\n",
              "      <td>10.309563</td>\n",
              "    </tr>\n",
              "    <tr>\n",
              "      <th>2022</th>\n",
              "      <td>41.0</td>\n",
              "      <td>1186.897561</td>\n",
              "      <td>2312.70545</td>\n",
              "      <td>1.0</td>\n",
              "      <td>10.0</td>\n",
              "      <td>100.0</td>\n",
              "      <td>1000.0</td>\n",
              "      <td>10000.0</td>\n",
              "      <td>41.0</td>\n",
              "      <td>9.927562</td>\n",
              "      <td>0.165456</td>\n",
              "      <td>9.655896</td>\n",
              "      <td>9.785893</td>\n",
              "      <td>9.944075</td>\n",
              "      <td>10.066360</td>\n",
              "      <td>10.302132</td>\n",
              "    </tr>\n",
              "  </tbody>\n",
              "</table>\n",
              "</div>\n",
              "      <button class=\"colab-df-convert\" onclick=\"convertToInteractive('df-16b9ca83-25ab-41de-9680-602bcd745747')\"\n",
              "              title=\"Convert this dataframe to an interactive table.\"\n",
              "              style=\"display:none;\">\n",
              "        \n",
              "  <svg xmlns=\"http://www.w3.org/2000/svg\" height=\"24px\"viewBox=\"0 0 24 24\"\n",
              "       width=\"24px\">\n",
              "    <path d=\"M0 0h24v24H0V0z\" fill=\"none\"/>\n",
              "    <path d=\"M18.56 5.44l.94 2.06.94-2.06 2.06-.94-2.06-.94-.94-2.06-.94 2.06-2.06.94zm-11 1L8.5 8.5l.94-2.06 2.06-.94-2.06-.94L8.5 2.5l-.94 2.06-2.06.94zm10 10l.94 2.06.94-2.06 2.06-.94-2.06-.94-.94-2.06-.94 2.06-2.06.94z\"/><path d=\"M17.41 7.96l-1.37-1.37c-.4-.4-.92-.59-1.43-.59-.52 0-1.04.2-1.43.59L10.3 9.45l-7.72 7.72c-.78.78-.78 2.05 0 2.83L4 21.41c.39.39.9.59 1.41.59.51 0 1.02-.2 1.41-.59l7.78-7.78 2.81-2.81c.8-.78.8-2.07 0-2.86zM5.41 20L4 18.59l7.72-7.72 1.47 1.35L5.41 20z\"/>\n",
              "  </svg>\n",
              "      </button>\n",
              "      \n",
              "  <style>\n",
              "    .colab-df-container {\n",
              "      display:flex;\n",
              "      flex-wrap:wrap;\n",
              "      gap: 12px;\n",
              "    }\n",
              "\n",
              "    .colab-df-convert {\n",
              "      background-color: #E8F0FE;\n",
              "      border: none;\n",
              "      border-radius: 50%;\n",
              "      cursor: pointer;\n",
              "      display: none;\n",
              "      fill: #1967D2;\n",
              "      height: 32px;\n",
              "      padding: 0 0 0 0;\n",
              "      width: 32px;\n",
              "    }\n",
              "\n",
              "    .colab-df-convert:hover {\n",
              "      background-color: #E2EBFA;\n",
              "      box-shadow: 0px 1px 2px rgba(60, 64, 67, 0.3), 0px 1px 3px 1px rgba(60, 64, 67, 0.15);\n",
              "      fill: #174EA6;\n",
              "    }\n",
              "\n",
              "    [theme=dark] .colab-df-convert {\n",
              "      background-color: #3B4455;\n",
              "      fill: #D2E3FC;\n",
              "    }\n",
              "\n",
              "    [theme=dark] .colab-df-convert:hover {\n",
              "      background-color: #434B5C;\n",
              "      box-shadow: 0px 1px 3px 1px rgba(0, 0, 0, 0.15);\n",
              "      filter: drop-shadow(0px 1px 2px rgba(0, 0, 0, 0.3));\n",
              "      fill: #FFFFFF;\n",
              "    }\n",
              "  </style>\n",
              "\n",
              "      <script>\n",
              "        const buttonEl =\n",
              "          document.querySelector('#df-16b9ca83-25ab-41de-9680-602bcd745747 button.colab-df-convert');\n",
              "        buttonEl.style.display =\n",
              "          google.colab.kernel.accessAllowed ? 'block' : 'none';\n",
              "\n",
              "        async function convertToInteractive(key) {\n",
              "          const element = document.querySelector('#df-16b9ca83-25ab-41de-9680-602bcd745747');\n",
              "          const dataTable =\n",
              "            await google.colab.kernel.invokeFunction('convertToInteractive',\n",
              "                                                     [key], {});\n",
              "          if (!dataTable) return;\n",
              "\n",
              "          const docLinkHtml = 'Like what you see? Visit the ' +\n",
              "            '<a target=\"_blank\" href=https://colab.research.google.com/notebooks/data_table.ipynb>data table notebook</a>'\n",
              "            + ' to learn more about interactive tables.';\n",
              "          element.innerHTML = '';\n",
              "          dataTable['output_type'] = 'display_data';\n",
              "          await google.colab.output.renderOutput(dataTable, element);\n",
              "          const docLink = document.createElement('div');\n",
              "          docLink.innerHTML = docLinkHtml;\n",
              "          element.appendChild(docLink);\n",
              "        }\n",
              "      </script>\n",
              "    </div>\n",
              "  </div>\n",
              "  "
            ]
          },
          "metadata": {},
          "execution_count": 8
        }
      ],
      "source": [
        "vibrations.drop(columns=[\"Acelerómetro\"]).groupby(by=[\"Año\"]).describe()"
      ]
    },
    {
      "cell_type": "code",
      "execution_count": 9,
      "metadata": {
        "id": "W27oVLhblT2I"
      },
      "outputs": [],
      "source": [
        "vibrations_clean = vibrations.rename(columns={\"Frecuencia (Hz)\": \"Frecuencia\", \"Sensibilidad (mV/m/s2)\": \"Sensibilidad\"})"
      ]
    },
    {
      "cell_type": "code",
      "execution_count": 10,
      "metadata": {
        "id": "TzgTF-KdlT2I",
        "outputId": "50e9119c-d1d3-4d75-b4cc-e14198bcf074",
        "colab": {
          "base_uri": "https://localhost:8080/",
          "height": 279
        }
      },
      "outputs": [
        {
          "output_type": "display_data",
          "data": {
            "text/plain": [
              "<Figure size 432x288 with 1 Axes>"
            ],
            "image/png": "[encoded data removed]"
          },
          "metadata": {}
        }
      ],
      "source": [
        "# Graficamos para cada año\n",
        "sns.lineplot(data=vibrations_clean, x=\"Frecuencia\", y=\"Sensibilidad\", hue=\"Año\");"
      ]
    },
    {
      "cell_type": "code",
      "execution_count": 11,
      "metadata": {
        "id": "96P9rdwVlT2I",
        "outputId": "2adf8e30-81ac-4946-e239-4615bbe3898b",
        "colab": {
          "base_uri": "https://localhost:8080/",
          "height": 295
        }
      },
      "outputs": [
        {
          "output_type": "display_data",
          "data": {
            "text/plain": [
              "<Figure size 432x288 with 1 Axes>"
            ],
            "image/png": "[encoded data removed]"
          },
          "metadata": {}
        }
      ],
      "source": [
        "# Un único año\n",
        "year = 2018\n",
        "ax = sns.lineplot(data=vibrations_clean[vibrations_clean[\"Año\"] == year], x=\"Frecuencia\", y=\"Sensibilidad\")\n",
        "ax.set_title(f\"Vibraciones año {year}\");"
      ]
    },
    {
      "cell_type": "code",
      "execution_count": 12,
      "metadata": {
        "id": "Ck2N1NXSlT2J",
        "outputId": "a775ee13-33a1-4438-c54e-e39a1731ad8f",
        "colab": {
          "base_uri": "https://localhost:8080/",
          "height": 353
        }
      },
      "outputs": [
        {
          "output_type": "stream",
          "name": "stderr",
          "text": [
            "<ipython-input-12-d63a4723407d>:4: UserWarning: tight_layout: falling back to Agg renderer\n",
            "  fig.tight_layout(pad=10.0)\n"
          ]
        },
        {
          "output_type": "display_data",
          "data": {
            "text/plain": [
              "<Figure size 432x288 with 5 Axes>"
            ],
            "image/png": "[encoded data removed]"
          },
          "metadata": {}
        }
      ],
      "source": [
        "# Una figura con un gráfico por año\n",
        "\n",
        "fig = plt.Figure(figsize=(10, 10))\n",
        "fig.tight_layout(pad=10.0)\n",
        "\n",
        "ax1 = plt.subplot(2, 3, 1)\n",
        "sns.lineplot(data=vibrations_clean[vibrations_clean[\"Año\"] == 2018], x=\"Frecuencia\", y=\"Sensibilidad\")\n",
        "ax1.set(title=\"Vibraciones 2018\", xlabel=\"\", ylabel=r\"Sensibilidad ($\\frac{mV \\dot m}{s^2}$)\")\n",
        "\n",
        "ax2 = plt.subplot(2, 3, 2)\n",
        "sns.lineplot(data=vibrations_clean[vibrations_clean[\"Año\"] == 2019], x=\"Frecuencia\", y=\"Sensibilidad\")\n",
        "ax2.set(title=\"Vibraciones 2019\", ylabel=\"\", xlabel=\"\")\n",
        "ax2.set_yticklabels([])\n",
        "\n",
        "ax3 = plt.subplot(2, 3, 3)\n",
        "sns.lineplot(data=vibrations_clean[vibrations_clean[\"Año\"] == 2020], x=\"Frecuencia\", y=\"Sensibilidad\")\n",
        "ax3.set(title=\"Vibraciones 2020\", ylabel=\"\", xlabel=\"\")\n",
        "ax3.set_yticklabels([])\n",
        "\n",
        "ax4 = plt.subplot(2, 3, 4)\n",
        "sns.lineplot(data=vibrations_clean[vibrations_clean[\"Año\"] == 2021], x=\"Frecuencia\", y=\"Sensibilidad\")\n",
        "ax4.set(title=\"Vibraciones 2021\", xlabel=r\"Frecuencia ($Hz$)\", ylabel=\"\")\n",
        "\n",
        "ax5 = plt.subplot(2, 3, 5)\n",
        "sns.lineplot(data=vibrations_clean[vibrations_clean[\"Año\"] == 2022], x=\"Frecuencia\", y=\"Sensibilidad\")\n",
        "ax5.set(title=\"Vibraciones 2022\", ylabel=\"\", xlabel=\"\")\n",
        "ax5.set_yticklabels([])\n",
        "\n",
        "plt.subplots_adjust(wspace=0.2, hspace=0.8)\n",
        "\n",
        "plt.show()"
      ]
    },
    {
      "cell_type": "markdown",
      "metadata": {
        "id": "xnfdUn-AlT2J"
      },
      "source": [
        "Otro ejemplo con una señal de impacto mecánico"
      ]
    },
    {
      "cell_type": "code",
      "execution_count": 13,
      "metadata": {
        "id": "rP3OjPHllT2J",
        "outputId": "b38a3766-dd79-457b-d20d-e451307ef142",
        "colab": {
          "base_uri": "https://localhost:8080/",
          "height": 206
        }
      },
      "outputs": [
        {
          "output_type": "execute_result",
          "data": {
            "text/plain": [
              "          0         1         2\n",
              "0  0.494516 -0.469049 -0.020447\n",
              "1  0.494516 -0.456371 -0.020142\n",
              "2  0.494516 -0.469049 -0.020599\n",
              "3  0.494516 -0.456371 -0.020905\n",
              "4  0.481850 -0.469049 -0.019379"
            ],
            "text/html": [
              "\n",
              "  <div id=\"df-4ecb15e1-b448-4cf9-9ef2-f159750424de\">\n",
              "    <div class=\"colab-df-container\">\n",
              "      <div>\n",
              "<style scoped>\n",
              "    .dataframe tbody tr th:only-of-type {\n",
              "        vertical-align: middle;\n",
              "    }\n",
              "\n",
              "    .dataframe tbody tr th {\n",
              "        vertical-align: top;\n",
              "    }\n",
              "\n",
              "    .dataframe thead th {\n",
              "        text-align: right;\n",
              "    }\n",
              "</style>\n",
              "<table border=\"1\" class=\"dataframe\">\n",
              "  <thead>\n",
              "    <tr style=\"text-align: right;\">\n",
              "      <th></th>\n",
              "      <th>0</th>\n",
              "      <th>1</th>\n",
              "      <th>2</th>\n",
              "    </tr>\n",
              "  </thead>\n",
              "  <tbody>\n",
              "    <tr>\n",
              "      <th>0</th>\n",
              "      <td>0.494516</td>\n",
              "      <td>-0.469049</td>\n",
              "      <td>-0.020447</td>\n",
              "    </tr>\n",
              "    <tr>\n",
              "      <th>1</th>\n",
              "      <td>0.494516</td>\n",
              "      <td>-0.456371</td>\n",
              "      <td>-0.020142</td>\n",
              "    </tr>\n",
              "    <tr>\n",
              "      <th>2</th>\n",
              "      <td>0.494516</td>\n",
              "      <td>-0.469049</td>\n",
              "      <td>-0.020599</td>\n",
              "    </tr>\n",
              "    <tr>\n",
              "      <th>3</th>\n",
              "      <td>0.494516</td>\n",
              "      <td>-0.456371</td>\n",
              "      <td>-0.020905</td>\n",
              "    </tr>\n",
              "    <tr>\n",
              "      <th>4</th>\n",
              "      <td>0.481850</td>\n",
              "      <td>-0.469049</td>\n",
              "      <td>-0.019379</td>\n",
              "    </tr>\n",
              "  </tbody>\n",
              "</table>\n",
              "</div>\n",
              "      <button class=\"colab-df-convert\" onclick=\"convertToInteractive('df-4ecb15e1-b448-4cf9-9ef2-f159750424de')\"\n",
              "              title=\"Convert this dataframe to an interactive table.\"\n",
              "              style=\"display:none;\">\n",
              "        \n",
              "  <svg xmlns=\"http://www.w3.org/2000/svg\" height=\"24px\"viewBox=\"0 0 24 24\"\n",
              "       width=\"24px\">\n",
              "    <path d=\"M0 0h24v24H0V0z\" fill=\"none\"/>\n",
              "    <path d=\"M18.56 5.44l.94 2.06.94-2.06 2.06-.94-2.06-.94-.94-2.06-.94 2.06-2.06.94zm-11 1L8.5 8.5l.94-2.06 2.06-.94-2.06-.94L8.5 2.5l-.94 2.06-2.06.94zm10 10l.94 2.06.94-2.06 2.06-.94-2.06-.94-.94-2.06-.94 2.06-2.06.94z\"/><path d=\"M17.41 7.96l-1.37-1.37c-.4-.4-.92-.59-1.43-.59-.52 0-1.04.2-1.43.59L10.3 9.45l-7.72 7.72c-.78.78-.78 2.05 0 2.83L4 21.41c.39.39.9.59 1.41.59.51 0 1.02-.2 1.41-.59l7.78-7.78 2.81-2.81c.8-.78.8-2.07 0-2.86zM5.41 20L4 18.59l7.72-7.72 1.47 1.35L5.41 20z\"/>\n",
              "  </svg>\n",
              "      </button>\n",
              "      \n",
              "  <style>\n",
              "    .colab-df-container {\n",
              "      display:flex;\n",
              "      flex-wrap:wrap;\n",
              "      gap: 12px;\n",
              "    }\n",
              "\n",
              "    .colab-df-convert {\n",
              "      background-color: #E8F0FE;\n",
              "      border: none;\n",
              "      border-radius: 50%;\n",
              "      cursor: pointer;\n",
              "      display: none;\n",
              "      fill: #1967D2;\n",
              "      height: 32px;\n",
              "      padding: 0 0 0 0;\n",
              "      width: 32px;\n",
              "    }\n",
              "\n",
              "    .colab-df-convert:hover {\n",
              "      background-color: #E2EBFA;\n",
              "      box-shadow: 0px 1px 2px rgba(60, 64, 67, 0.3), 0px 1px 3px 1px rgba(60, 64, 67, 0.15);\n",
              "      fill: #174EA6;\n",
              "    }\n",
              "\n",
              "    [theme=dark] .colab-df-convert {\n",
              "      background-color: #3B4455;\n",
              "      fill: #D2E3FC;\n",
              "    }\n",
              "\n",
              "    [theme=dark] .colab-df-convert:hover {\n",
              "      background-color: #434B5C;\n",
              "      box-shadow: 0px 1px 3px 1px rgba(0, 0, 0, 0.15);\n",
              "      filter: drop-shadow(0px 1px 2px rgba(0, 0, 0, 0.3));\n",
              "      fill: #FFFFFF;\n",
              "    }\n",
              "  </style>\n",
              "\n",
              "      <script>\n",
              "        const buttonEl =\n",
              "          document.querySelector('#df-4ecb15e1-b448-4cf9-9ef2-f159750424de button.colab-df-convert');\n",
              "        buttonEl.style.display =\n",
              "          google.colab.kernel.accessAllowed ? 'block' : 'none';\n",
              "\n",
              "        async function convertToInteractive(key) {\n",
              "          const element = document.querySelector('#df-4ecb15e1-b448-4cf9-9ef2-f159750424de');\n",
              "          const dataTable =\n",
              "            await google.colab.kernel.invokeFunction('convertToInteractive',\n",
              "                                                     [key], {});\n",
              "          if (!dataTable) return;\n",
              "\n",
              "          const docLinkHtml = 'Like what you see? Visit the ' +\n",
              "            '<a target=\"_blank\" href=https://colab.research.google.com/notebooks/data_table.ipynb>data table notebook</a>'\n",
              "            + ' to learn more about interactive tables.';\n",
              "          element.innerHTML = '';\n",
              "          dataTable['output_type'] = 'display_data';\n",
              "          await google.colab.output.renderOutput(dataTable, element);\n",
              "          const docLink = document.createElement('div');\n",
              "          docLink.innerHTML = docLinkHtml;\n",
              "          element.appendChild(docLink);\n",
              "        }\n",
              "      </script>\n",
              "    </div>\n",
              "  </div>\n",
              "  "
            ]
          },
          "metadata": {},
          "execution_count": 13
        }
      ],
      "source": [
        "# Leemos los datos y los visualizamos\n",
        "signal = pd.read_csv(\"https://raw.githubusercontent.com/ulises1229/IntroPythonCENAM/master/data/Imp_2k_signals-1.csv\", header=None, sep=\"\\t\")\n",
        "signal.head()"
      ]
    },
    {
      "cell_type": "code",
      "execution_count": 14,
      "metadata": {
        "id": "08y0weotlT2K",
        "outputId": "99fb5fd2-e988-4759-eea3-0114fdbc91fa",
        "colab": {
          "base_uri": "https://localhost:8080/",
          "height": 52
        }
      },
      "outputs": [
        {
          "output_type": "execute_result",
          "data": {
            "text/plain": [
              "'\\nsignal = signal.rename(\\n    {\\n        0: \"?\",\\n        1: \"?\",\\n        2: \"?\",\\n    })\\n'"
            ],
            "application/vnd.google.colaboratory.intrinsic+json": {
              "type": "string"
            }
          },
          "metadata": {},
          "execution_count": 14
        }
      ],
      "source": [
        "\"\"\"\n",
        "signal = signal.rename(\n",
        "    {\n",
        "        0: \"?\",\n",
        "        1: \"?\",\n",
        "        2: \"?\",\n",
        "    })\n",
        "\"\"\""
      ]
    },
    {
      "cell_type": "code",
      "execution_count": 15,
      "metadata": {
        "id": "Lu9_ak4DlT2K",
        "outputId": "31cc3707-63ae-4c16-9a38-165c5d01c83b",
        "colab": {
          "base_uri": "https://localhost:8080/"
        }
      },
      "outputs": [
        {
          "output_type": "execute_result",
          "data": {
            "text/plain": [
              "(1000000, 3)"
            ]
          },
          "metadata": {},
          "execution_count": 15
        }
      ],
      "source": [
        "signal.shape"
      ]
    },
    {
      "cell_type": "code",
      "execution_count": 16,
      "metadata": {
        "id": "XP5rRY3GlT2K",
        "outputId": "5b5a23b3-977c-4eff-add6-502fb9efcac6",
        "colab": {
          "base_uri": "https://localhost:8080/",
          "height": 300
        }
      },
      "outputs": [
        {
          "output_type": "execute_result",
          "data": {
            "text/plain": [
              "                    0               1               2\n",
              "count  1000000.000000  1000000.000000  1000000.000000\n",
              "mean        -0.022800       -0.069697       -0.000370\n",
              "std          0.461007        0.472262        0.045914\n",
              "min         -0.822748       -0.785981       -3.998260\n",
              "25%         -0.468100       -0.545112        0.000000\n",
              "50%         -0.012124       -0.076053        0.000000\n",
              "75%          0.431186        0.405685        0.000000\n",
              "max          0.722504        0.709940        1.633148"
            ],
            "text/html": [
              "\n",
              "  <div id=\"df-a9105111-da35-4e5f-9dee-9dea65ae880d\">\n",
              "    <div class=\"colab-df-container\">\n",
              "      <div>\n",
              "<style scoped>\n",
              "    .dataframe tbody tr th:only-of-type {\n",
              "        vertical-align: middle;\n",
              "    }\n",
              "\n",
              "    .dataframe tbody tr th {\n",
              "        vertical-align: top;\n",
              "    }\n",
              "\n",
              "    .dataframe thead th {\n",
              "        text-align: right;\n",
              "    }\n",
              "</style>\n",
              "<table border=\"1\" class=\"dataframe\">\n",
              "  <thead>\n",
              "    <tr style=\"text-align: right;\">\n",
              "      <th></th>\n",
              "      <th>0</th>\n",
              "      <th>1</th>\n",
              "      <th>2</th>\n",
              "    </tr>\n",
              "  </thead>\n",
              "  <tbody>\n",
              "    <tr>\n",
              "      <th>count</th>\n",
              "      <td>1000000.000000</td>\n",
              "      <td>1000000.000000</td>\n",
              "      <td>1000000.000000</td>\n",
              "    </tr>\n",
              "    <tr>\n",
              "      <th>mean</th>\n",
              "      <td>-0.022800</td>\n",
              "      <td>-0.069697</td>\n",
              "      <td>-0.000370</td>\n",
              "    </tr>\n",
              "    <tr>\n",
              "      <th>std</th>\n",
              "      <td>0.461007</td>\n",
              "      <td>0.472262</td>\n",
              "      <td>0.045914</td>\n",
              "    </tr>\n",
              "    <tr>\n",
              "      <th>min</th>\n",
              "      <td>-0.822748</td>\n",
              "      <td>-0.785981</td>\n",
              "      <td>-3.998260</td>\n",
              "    </tr>\n",
              "    <tr>\n",
              "      <th>25%</th>\n",
              "      <td>-0.468100</td>\n",
              "      <td>-0.545112</td>\n",
              "      <td>0.000000</td>\n",
              "    </tr>\n",
              "    <tr>\n",
              "      <th>50%</th>\n",
              "      <td>-0.012124</td>\n",
              "      <td>-0.076053</td>\n",
              "      <td>0.000000</td>\n",
              "    </tr>\n",
              "    <tr>\n",
              "      <th>75%</th>\n",
              "      <td>0.431186</td>\n",
              "      <td>0.405685</td>\n",
              "      <td>0.000000</td>\n",
              "    </tr>\n",
              "    <tr>\n",
              "      <th>max</th>\n",
              "      <td>0.722504</td>\n",
              "      <td>0.709940</td>\n",
              "      <td>1.633148</td>\n",
              "    </tr>\n",
              "  </tbody>\n",
              "</table>\n",
              "</div>\n",
              "      <button class=\"colab-df-convert\" onclick=\"convertToInteractive('df-a9105111-da35-4e5f-9dee-9dea65ae880d')\"\n",
              "              title=\"Convert this dataframe to an interactive table.\"\n",
              "              style=\"display:none;\">\n",
              "        \n",
              "  <svg xmlns=\"http://www.w3.org/2000/svg\" height=\"24px\"viewBox=\"0 0 24 24\"\n",
              "       width=\"24px\">\n",
              "    <path d=\"M0 0h24v24H0V0z\" fill=\"none\"/>\n",
              "    <path d=\"M18.56 5.44l.94 2.06.94-2.06 2.06-.94-2.06-.94-.94-2.06-.94 2.06-2.06.94zm-11 1L8.5 8.5l.94-2.06 2.06-.94-2.06-.94L8.5 2.5l-.94 2.06-2.06.94zm10 10l.94 2.06.94-2.06 2.06-.94-2.06-.94-.94-2.06-.94 2.06-2.06.94z\"/><path d=\"M17.41 7.96l-1.37-1.37c-.4-.4-.92-.59-1.43-.59-.52 0-1.04.2-1.43.59L10.3 9.45l-7.72 7.72c-.78.78-.78 2.05 0 2.83L4 21.41c.39.39.9.59 1.41.59.51 0 1.02-.2 1.41-.59l7.78-7.78 2.81-2.81c.8-.78.8-2.07 0-2.86zM5.41 20L4 18.59l7.72-7.72 1.47 1.35L5.41 20z\"/>\n",
              "  </svg>\n",
              "      </button>\n",
              "      \n",
              "  <style>\n",
              "    .colab-df-container {\n",
              "      display:flex;\n",
              "      flex-wrap:wrap;\n",
              "      gap: 12px;\n",
              "    }\n",
              "\n",
              "    .colab-df-convert {\n",
              "      background-color: #E8F0FE;\n",
              "      border: none;\n",
              "      border-radius: 50%;\n",
              "      cursor: pointer;\n",
              "      display: none;\n",
              "      fill: #1967D2;\n",
              "      height: 32px;\n",
              "      padding: 0 0 0 0;\n",
              "      width: 32px;\n",
              "    }\n",
              "\n",
              "    .colab-df-convert:hover {\n",
              "      background-color: #E2EBFA;\n",
              "      box-shadow: 0px 1px 2px rgba(60, 64, 67, 0.3), 0px 1px 3px 1px rgba(60, 64, 67, 0.15);\n",
              "      fill: #174EA6;\n",
              "    }\n",
              "\n",
              "    [theme=dark] .colab-df-convert {\n",
              "      background-color: #3B4455;\n",
              "      fill: #D2E3FC;\n",
              "    }\n",
              "\n",
              "    [theme=dark] .colab-df-convert:hover {\n",
              "      background-color: #434B5C;\n",
              "      box-shadow: 0px 1px 3px 1px rgba(0, 0, 0, 0.15);\n",
              "      filter: drop-shadow(0px 1px 2px rgba(0, 0, 0, 0.3));\n",
              "      fill: #FFFFFF;\n",
              "    }\n",
              "  </style>\n",
              "\n",
              "      <script>\n",
              "        const buttonEl =\n",
              "          document.querySelector('#df-a9105111-da35-4e5f-9dee-9dea65ae880d button.colab-df-convert');\n",
              "        buttonEl.style.display =\n",
              "          google.colab.kernel.accessAllowed ? 'block' : 'none';\n",
              "\n",
              "        async function convertToInteractive(key) {\n",
              "          const element = document.querySelector('#df-a9105111-da35-4e5f-9dee-9dea65ae880d');\n",
              "          const dataTable =\n",
              "            await google.colab.kernel.invokeFunction('convertToInteractive',\n",
              "                                                     [key], {});\n",
              "          if (!dataTable) return;\n",
              "\n",
              "          const docLinkHtml = 'Like what you see? Visit the ' +\n",
              "            '<a target=\"_blank\" href=https://colab.research.google.com/notebooks/data_table.ipynb>data table notebook</a>'\n",
              "            + ' to learn more about interactive tables.';\n",
              "          element.innerHTML = '';\n",
              "          dataTable['output_type'] = 'display_data';\n",
              "          await google.colab.output.renderOutput(dataTable, element);\n",
              "          const docLink = document.createElement('div');\n",
              "          docLink.innerHTML = docLinkHtml;\n",
              "          element.appendChild(docLink);\n",
              "        }\n",
              "      </script>\n",
              "    </div>\n",
              "  </div>\n",
              "  "
            ]
          },
          "metadata": {},
          "execution_count": 16
        }
      ],
      "source": [
        "signal.describe()"
      ]
    },
    {
      "cell_type": "code",
      "execution_count": null,
      "metadata": {
        "id": "Lm3uUvjelT2L"
      },
      "outputs": [],
      "source": [
        "sns.pairplot(data=signal);"
      ]
    },
    {
      "cell_type": "markdown",
      "metadata": {
        "id": "hrauuuZKtrSP"
      },
      "source": [
        "Hacemos la lactura de los datos a graficar"
      ]
    },
    {
      "cell_type": "code",
      "execution_count": null,
      "metadata": {
        "id": "oHYXfka0ttlN"
      },
      "outputs": [],
      "source": [
        "flights = pd.read_csv(\"https://raw.githubusercontent.com/ulises1229/IntroPythonCENAM/master/data/flights.csv\")\n",
        "flights.head()"
      ]
    },
    {
      "cell_type": "markdown",
      "metadata": {
        "id": "c3qX3rE0t64L"
      },
      "source": [
        "Gráfico de dispersión"
      ]
    },
    {
      "cell_type": "code",
      "execution_count": null,
      "metadata": {
        "id": "tcSGMWvBt6G_"
      },
      "outputs": [],
      "source": [
        "sns.scatterplot(data=flights, x=\"dep_delay\", y=\"arr_delay\");"
      ]
    },
    {
      "cell_type": "code",
      "execution_count": null,
      "metadata": {
        "id": "q0dSc1RGupx2"
      },
      "outputs": [],
      "source": [
        "flights[\"delay\"] = flights[\"arr_delay\"] - flights[\"dep_delay\"] # Evaluamos el retraso neto del vuelo"
      ]
    },
    {
      "cell_type": "code",
      "execution_count": null,
      "metadata": {
        "id": "anS4xtcwu2rv"
      },
      "outputs": [],
      "source": [
        "sns.scatterplot(data=flights, x=\"air_time\", y=\"delay\", hue=\"origin\");"
      ]
    },
    {
      "cell_type": "markdown",
      "metadata": {
        "id": "16CKcTqWlT2M"
      },
      "source": [
        "##### 1.1.2 Ejemplo de vibraciones"
      ]
    },
    {
      "cell_type": "code",
      "execution_count": null,
      "metadata": {
        "id": "J-PFxTNJlT2M"
      },
      "outputs": [],
      "source": [
        "# Calculamos la diferencia entre dos años\n",
        "year_1 = 2018\n",
        "year_2 = 2022\n",
        "\n",
        "vibrations_y1 = vibrations_clean[vibrations_clean[\"Año\"] == year_1]\n",
        "vibrations_y2 = vibrations_clean[vibrations_clean[\"Año\"] == year_2]\n",
        "\n",
        "# Calculamos la diferencia\n",
        "difference = vibrations_y2[\"Sensibilidad\"].values - vibrations_y1[\"Sensibilidad\"].values\n",
        "\n",
        "sns.scatterplot(x=vibrations_y1[\"Frecuencia\"], y=difference);"
      ]
    },
    {
      "cell_type": "markdown",
      "metadata": {
        "id": "OAss6gzLwefZ"
      },
      "source": [
        "### 1.2 Histograma de frecuencias"
      ]
    },
    {
      "cell_type": "markdown",
      "metadata": {
        "id": "msBD_Kogwy2K"
      },
      "source": [
        "Hacemos la lectura de los datos a graficar"
      ]
    },
    {
      "cell_type": "code",
      "execution_count": null,
      "metadata": {
        "id": "t5GIWPbfw1XW"
      },
      "outputs": [],
      "source": [
        "salaries = pd.read_csv(\"https://raw.githubusercontent.com/ulises1229/IntroPythonCENAM/master/data/salaries.csv\")\n",
        "salaries.head()"
      ]
    },
    {
      "cell_type": "code",
      "execution_count": null,
      "metadata": {
        "id": "gzcOEbfZxpJg"
      },
      "outputs": [],
      "source": [
        "sns.histplot(data=salaries, x=\"salary\");"
      ]
    },
    {
      "cell_type": "code",
      "execution_count": null,
      "metadata": {
        "id": "DGoWBkUuw-mi"
      },
      "outputs": [],
      "source": [
        "sns.histplot(data=salaries, x=\"salary\", hue=\"sex\");"
      ]
    },
    {
      "cell_type": "code",
      "execution_count": null,
      "metadata": {
        "id": "bV9d4QMcyObt"
      },
      "outputs": [],
      "source": [
        "sns.histplot(data=salaries, x=\"salary\", hue=\"sex\", multiple=\"stack\");"
      ]
    },
    {
      "cell_type": "markdown",
      "metadata": {
        "id": "fv5t0i5yysxN"
      },
      "source": [
        "### 1.3 Gráfico de barras"
      ]
    },
    {
      "cell_type": "code",
      "execution_count": null,
      "metadata": {
        "id": "PNeS_Qvd0j-K"
      },
      "outputs": [],
      "source": [
        "# Sacamos la distancia promedio de los vuelos para cada destino\n",
        "mean_distance_per_carrier = flights[[\"distance\", \"carrier\"]].groupby(by=[\"carrier\"]).mean()\n",
        "mean_distance_per_carrier"
      ]
    },
    {
      "cell_type": "code",
      "execution_count": null,
      "metadata": {
        "id": "4aS-kdft3nSH"
      },
      "outputs": [],
      "source": [
        "# Convertimos el índice (dest) a una columna para poder graficar\n",
        "mean_distance_per_carrier.reset_index(inplace=True)\n",
        "\n",
        "# Los ordenamos de mayor a menor\n",
        "mean_distance_per_carrier.sort_values(by=\"distance\", inplace=True, ascending=False)\n",
        "\n",
        "mean_distance_per_carrier"
      ]
    },
    {
      "cell_type": "code",
      "execution_count": null,
      "metadata": {
        "id": "YhBsAZN41uW3"
      },
      "outputs": [],
      "source": [
        "sns.barplot(data=mean_distance_per_carrier, x=\"distance\", y=\"carrier\");"
      ]
    },
    {
      "cell_type": "markdown",
      "metadata": {
        "id": "D1RiXWPv4Ltc"
      },
      "source": [
        "### 1.4  Gráfico de caja y bigote"
      ]
    },
    {
      "cell_type": "markdown",
      "metadata": {
        "id": "uHIA5RG9nGjR"
      },
      "source": [
        "Hacemos la lectura de los datos a graficar"
      ]
    },
    {
      "cell_type": "code",
      "execution_count": null,
      "metadata": {
        "id": "dIsLS7ennLFH"
      },
      "outputs": [],
      "source": [
        "diamonds = pd.read_csv(\"https://raw.githubusercontent.com/ulises1229/IntroPythonCENAM/master/data/diamonds.csv\", index_col=0)\n",
        "diamonds.head()"
      ]
    },
    {
      "cell_type": "code",
      "execution_count": null,
      "metadata": {
        "id": "XWaw5zuMsw74"
      },
      "outputs": [],
      "source": [
        "sns.boxplot(data=diamonds, x=\"cut\", y=\"price\");"
      ]
    },
    {
      "cell_type": "code",
      "execution_count": null,
      "metadata": {
        "id": "K6MZ9FG-4vYZ"
      },
      "outputs": [],
      "source": [
        "# Calculamos un aproximado del volumen del diamante según sus dimensiones\n",
        "diamonds[\"volume\"] = diamonds[\"x\"] * diamonds[\"y\"] * diamonds[\"z\"]"
      ]
    },
    {
      "cell_type": "code",
      "execution_count": null,
      "metadata": {
        "id": "mvPDlKps4jHX"
      },
      "outputs": [],
      "source": [
        "sns.boxplot(data=diamonds, x=\"volume\", y=\"color\", orient=\"h\");"
      ]
    },
    {
      "cell_type": "code",
      "execution_count": null,
      "metadata": {
        "id": "Rl8g_KEupuag"
      },
      "outputs": [],
      "source": [
        "# Eliminamos los valores extremos para visualizar mejor la gráfica\n",
        "diamonds_clean = diamonds.loc[diamonds[\"volume\"] < 1000]"
      ]
    },
    {
      "cell_type": "code",
      "execution_count": null,
      "metadata": {
        "id": "wDZB4nJW5a0D"
      },
      "outputs": [],
      "source": [
        "sns.boxplot(data=diamonds_clean, x=\"volume\", y=\"color\", orient=\"h\");"
      ]
    },
    {
      "cell_type": "markdown",
      "source": [
        "# 2. *Modelado estadístico*"
      ],
      "metadata": {
        "id": "CjkdeCf6oi9N"
      }
    },
    {
      "cell_type": "markdown",
      "source": [
        "### 2.1 Regresión Lineal"
      ],
      "metadata": {
        "id": "WIiSuLT3tXQx"
      }
    },
    {
      "cell_type": "code",
      "source": [
        "# Importar librerías\n",
        "import seaborn as sns\n",
        "import numpy as np\n",
        "import random as rn"
      ],
      "metadata": {
        "id": "ce5JWO9got-8"
      },
      "execution_count": null,
      "outputs": []
    },
    {
      "cell_type": "markdown",
      "source": [
        "Comenzaremos con la regresión lineal más simple. Una linea recta para ajustar un modelo con la siguiente forma.\n",
        "\n",
        "$y = ax + b$\n",
        "\n",
        "donde $a$ se conoce comúnmente como *pendiente*, y $b$ se conoce comúnmente como *intersecto*.\n",
        "\n",
        "Considere los siguientes datos, que están dispersos alrededor de una línea con una pendiente de 2 y una intersección de -5:"
      ],
      "metadata": {
        "id": "_PPVc3hYu81g"
      }
    },
    {
      "cell_type": "code",
      "source": [
        "rng = np.random.RandomState(1)\n",
        "x = 10 * rng.rand(50)\n",
        "y = 2 * x - 5 + rng.randn(50)\n",
        "sns.scatterplot(x,y)"
      ],
      "metadata": {
        "colab": {
          "base_uri": "https://localhost:8080/",
          "height": 337
        },
        "id": "H8vzCWZHv5Wi",
        "outputId": "95dbfe2c-aadb-43cc-e5f5-7095f242f4e0"
      },
      "execution_count": null,
      "outputs": [
        {
          "output_type": "stream",
          "name": "stderr",
          "text": [
            "/usr/local/lib/python3.8/dist-packages/seaborn/_decorators.py:36: FutureWarning: Pass the following variables as keyword args: x, y. From version 0.12, the only valid positional argument will be `data`, and passing other arguments without an explicit keyword will result in an error or misinterpretation.\n",
            "  warnings.warn(\n"
          ]
        },
        {
          "output_type": "execute_result",
          "data": {
            "text/plain": [
              "<matplotlib.axes._subplots.AxesSubplot at 0x7f6a6b53b5b0>"
            ]
          },
          "metadata": {},
          "execution_count": 2
        },
        {
          "output_type": "display_data",
          "data": {
            "text/plain": [
              "<Figure size 432x288 with 1 Axes>"
            ],
            "image/png": "[encoded data removed]"
          },
          "metadata": {
            "needs_background": "light"
          }
        }
      ]
    },
    {
      "cell_type": "markdown",
      "source": [
        "Se puede emplear scikit learn para ajustar los datos a un modelo lineal:"
      ],
      "metadata": {
        "id": "3mLoxVbFwOiJ"
      }
    },
    {
      "cell_type": "code",
      "source": [
        "from sklearn.linear_model import LinearRegression\n",
        "model = LinearRegression(fit_intercept=True)\n",
        "\n",
        "model.fit(x[:, np.newaxis], y)\n",
        "\n",
        "xfit = np.linspace(0, 10, 50) # Se generan 1000 valores uniformes en el intervalo [0, 10]\n",
        "yfit = model.predict(xfit[:, np.newaxis])\n",
        "\n",
        "sns.scatterplot(x, y)\n",
        "sns.lineplot(xfit, yfit);"
      ],
      "metadata": {
        "colab": {
          "base_uri": "https://localhost:8080/",
          "height": 354
        },
        "id": "vsUVqB75wNjD",
        "outputId": "b1525805-b8dd-44d4-a0ac-9f0cf5601cd6"
      },
      "execution_count": null,
      "outputs": [
        {
          "output_type": "stream",
          "name": "stderr",
          "text": [
            "/usr/local/lib/python3.8/dist-packages/seaborn/_decorators.py:36: FutureWarning: Pass the following variables as keyword args: x, y. From version 0.12, the only valid positional argument will be `data`, and passing other arguments without an explicit keyword will result in an error or misinterpretation.\n",
            "  warnings.warn(\n",
            "/usr/local/lib/python3.8/dist-packages/seaborn/_decorators.py:36: FutureWarning: Pass the following variables as keyword args: x, y. From version 0.12, the only valid positional argument will be `data`, and passing other arguments without an explicit keyword will result in an error or misinterpretation.\n",
            "  warnings.warn(\n"
          ]
        },
        {
          "output_type": "display_data",
          "data": {
            "text/plain": [
              "<Figure size 432x288 with 1 Axes>"
            ],
            "image/png": "[encoded data removed]"
          },
          "metadata": {
            "needs_background": "light"
          }
        }
      ]
    },
    {
      "cell_type": "markdown",
      "source": [
        "Imprimiendo el intercepto y la pendiente"
      ],
      "metadata": {
        "id": "lgctc5oXxFQp"
      }
    },
    {
      "cell_type": "code",
      "source": [
        "# Valores ideales pendiete = 1 intercepto = 0\n",
        "print(\"Pendiente:    \", model.coef_[0])\n",
        "print(\"Intercepto:\", model.intercept_)"
      ],
      "metadata": {
        "colab": {
          "base_uri": "https://localhost:8080/"
        },
        "id": "ORCfiKKtxEJj",
        "outputId": "a43db03f-0545-4560-8032-ce6ab9df29f0"
      },
      "execution_count": null,
      "outputs": [
        {
          "output_type": "stream",
          "name": "stdout",
          "text": [
            "Pendiente:     2.0272088103606953\n",
            "Intercepto: -4.998577085553204\n"
          ]
        }
      ]
    },
    {
      "cell_type": "markdown",
      "source": [
        "Ejercicio: 1 \n",
        "\n",
        "Se deberá obtener el error cuadrático medio y coeficiente de determinación.\n",
        "\n",
        "\n",
        "\n",
        "*   Error cuadrático medio\n",
        "![image.png](data:image/png;base64,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)\n",
        "\n",
        "\n",
        "\n",
        "*   Coeficiente de correlación\n",
        "\n",
        "![image.png](data:image/png;base64,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)\n",
        "\n",
        "$determinación= r^2$\n",
        "\n",
        "\n",
        "\n",
        "\n"
      ],
      "metadata": {
        "id": "t9L1M3sBDgBQ"
      }
    },
    {
      "cell_type": "markdown",
      "source": [
        "Obteniendo coeficiente de determinación y error coadrático medio"
      ],
      "metadata": {
        "id": "YfNDn73kDSC_"
      }
    },
    {
      "cell_type": "code",
      "source": [
        "from sklearn.metrics import mean_squared_error, r2_score\n",
        "\n",
        "# Imprimir coeficientes\n",
        "print(\"Error cuadrático medio:\", mean_squared_error(y, yfit))\n",
        "print(\"Coeficiente de determinación:\", r2_score(y, yfit))"
      ],
      "metadata": {
        "colab": {
          "base_uri": "https://localhost:8080/"
        },
        "id": "fYYKED-mDWWu",
        "outputId": "17e2cb68-8000-4b6f-ed76-928513e267cd"
      },
      "execution_count": null,
      "outputs": [
        {
          "output_type": "stream",
          "name": "stdout",
          "text": [
            "Error cuadrático medio: 62.09378903093555\n",
            "Coeficiente de determinación: -0.58735989521677\n"
          ]
        }
      ]
    },
    {
      "cell_type": "markdown",
      "source": [
        "### Regresión polinomial"
      ],
      "metadata": {
        "id": "tFZxicEaKk3X"
      }
    },
    {
      "cell_type": "code",
      "source": [
        "from sklearn.preprocessing import PolynomialFeatures\n",
        "x = np.array([2, 3, 4])\n",
        "poly = PolynomialFeatures(3, include_bias=False)\n",
        "poly.fit_transform(x[:, None])\n",
        "\n",
        "# empleando un polinomio de grado 7\n",
        "from sklearn.pipeline import make_pipeline\n",
        "poly_model = make_pipeline(PolynomialFeatures(7),\n",
        "                           LinearRegression())\n",
        "\n",
        "rng = np.random.RandomState(1)\n",
        "x = 10 * rng.rand(50)\n",
        "y = np.sin(x) + 0.1 * rng.randn(50)\n",
        "\n",
        "poly_model.fit(x[:, np.newaxis], y)\n",
        "yfit = poly_model.predict(xfit[:, np.newaxis])\n",
        "\n",
        "sns.scatterplot(x, y)\n",
        "sns.lineplot(xfit, yfit);"
      ],
      "metadata": {
        "colab": {
          "base_uri": "https://localhost:8080/",
          "height": 354
        },
        "id": "21VAJClcKc72",
        "outputId": "dc564156-7000-455e-9e3c-02668c4eb5c1"
      },
      "execution_count": null,
      "outputs": [
        {
          "output_type": "stream",
          "name": "stderr",
          "text": [
            "/usr/local/lib/python3.8/dist-packages/seaborn/_decorators.py:36: FutureWarning: Pass the following variables as keyword args: x, y. From version 0.12, the only valid positional argument will be `data`, and passing other arguments without an explicit keyword will result in an error or misinterpretation.\n",
            "  warnings.warn(\n",
            "/usr/local/lib/python3.8/dist-packages/seaborn/_decorators.py:36: FutureWarning: Pass the following variables as keyword args: x, y. From version 0.12, the only valid positional argument will be `data`, and passing other arguments without an explicit keyword will result in an error or misinterpretation.\n",
            "  warnings.warn(\n"
          ]
        },
        {
          "output_type": "display_data",
          "data": {
            "text/plain": [
              "<Figure size 432x288 with 1 Axes>"
            ],
            "image/png": "[encoded data removed]"
          },
          "metadata": {
            "needs_background": "light"
          }
        }
      ]
    },
    {
      "cell_type": "markdown",
      "source": [],
      "metadata": {
        "id": "bgRbuR8AxIoz"
      }
    },
    {
      "cell_type": "markdown",
      "metadata": {
        "id": "ysHVGVZtBa8D"
      },
      "source": [
        "# 3. Matemáticas Simbólicas\n",
        "+ Álgebra lienal\n",
        "+ Cálculo\n",
        "+ Ecuaciones algrbraícas"
      ]
    },
    {
      "cell_type": "code",
      "metadata": {
        "id": "gGxNunL9Bv0S"
      },
      "source": [
        "# Importar la librería Sympy\n",
        "from sympy import *\n",
        "\n",
        "# importar una variable simbólica (x)\n",
        "from sympy.abc import x\n",
        "\n",
        "# Habilitar impresión avanzada \n",
        "init_printing(use_latex='mathjax')\n",
        "\n",
        "# Lo anterior es equivalente a: \n",
        "x = Symbol('x') \n",
        "\n",
        "# también se puede definir como:\n",
        "x, y = symbols('x y')\n"
      ],
      "execution_count": null,
      "outputs": []
    },
    {
      "cell_type": "markdown",
      "metadata": {
        "id": "zKhqz4COHtZH"
      },
      "source": [
        "#### Operaciones Básicas\n",
        " "
      ]
    },
    {
      "cell_type": "code",
      "metadata": {
        "id": "x8TxNWZ6ENVR"
      },
      "source": [
        "# Definir una expresión simple\n",
        "a = 2*x**2 + y \n",
        "print(a)\n",
        "display(a)\n"
      ],
      "execution_count": null,
      "outputs": []
    },
    {
      "cell_type": "code",
      "metadata": {
        "id": "askGtDUqD4IQ"
      },
      "source": [
        "# Operaciones simples con expresiones\n",
        "display(a + y)\n",
        "display(a**2 )"
      ],
      "execution_count": null,
      "outputs": []
    },
    {
      "cell_type": "code",
      "metadata": {
        "id": "s7UtQmzQEBCH"
      },
      "source": [
        "# Expandir una expresión\n",
        "expand(a**3)"
      ],
      "execution_count": null,
      "outputs": []
    },
    {
      "cell_type": "code",
      "metadata": {
        "id": "chCoYT2nFp7M"
      },
      "source": [
        "# Factorización\n",
        "b = x**3 + 3*x**2 +3*x + 1\n",
        "display(\"Expresión: \", b)\n",
        "display(\"Factorización\",factor(b) )"
      ],
      "execution_count": null,
      "outputs": []
    },
    {
      "cell_type": "code",
      "metadata": {
        "id": "26q2om-8F82h"
      },
      "source": [
        "# Simplificación de expresiones\n",
        "# Definir dos expresiones\n",
        "exp1 = x**2 - y**2\n",
        "exp2 = (x+y)*(x-y)\n",
        "\n",
        "# \n",
        "display(\"Primer expresión: \",exp1)\n",
        "display(\"Segunda expresión: \",exp2)\n",
        "display(\"Simplificación: \", simplify(exp1 - exp2))\n"
      ],
      "execution_count": null,
      "outputs": []
    },
    {
      "cell_type": "markdown",
      "metadata": {
        "id": "EHPDnVszHz--"
      },
      "source": [
        "#### Sustituciones"
      ]
    },
    {
      "cell_type": "code",
      "metadata": {
        "id": "RWOtgB0rH4s4"
      },
      "source": [
        "# Definir una expresión simple y realizar sustituciones\n",
        "import numpy as np\n",
        "\n",
        "expr = x**2\n",
        "\n",
        "x_a = np.arange(1, 101)\n",
        "y_a = np.arange(1, 101)\n",
        "\n",
        "for i in range(len(x_a)):\n",
        "  y_a[i] = expr.subs(x,x_a[i])\n",
        "\n",
        "print(x_a)\n",
        "print(y_a)\n",
        "\n",
        "import matplotlib.pyplot as plt\n",
        "plt.plot(x_a, y_a)\n",
        "plt.show()\n",
        "\n",
        "display(\"Primer substitución x = y\", expr.subs(x, y))\n",
        "display(\"Segunda substitución x = 0\",expr.subs(x, 0))\n",
        "\n",
        "\n",
        "\n"
      ],
      "execution_count": null,
      "outputs": []
    },
    {
      "cell_type": "code",
      "metadata": {
        "id": "-gdFX8R3Img5"
      },
      "source": [
        "# Continuación sustituciones\n",
        "expr = x**y\n",
        "display(\"Expresión original\", expr)\n",
        "expr = expr.subs(y, x**y)\n",
        "display(\"Después de la sustitución\", expr)"
      ],
      "execution_count": null,
      "outputs": []
    },
    {
      "cell_type": "markdown",
      "metadata": {
        "id": "272FCz0fJrbi"
      },
      "source": [
        "#### Funciones trigonométricas\n"
      ]
    },
    {
      "cell_type": "code",
      "metadata": {
        "id": "Lgb5NkuKJ1yc"
      },
      "source": [
        "# Definición de una expresión trig.\n",
        "trigx = sin(2*x) + cos(2*x)\n",
        "\n",
        "# Expansión utilizando identidades\n",
        "display(\"Expansión \", expand_trig(trigx))"
      ],
      "execution_count": null,
      "outputs": []
    },
    {
      "cell_type": "code",
      "metadata": {
        "id": "Ozh4e0e7KaOA"
      },
      "source": [
        "# Simplificación\n",
        "display(\"Simplificación \", trigsimp(cos(x)**2 + sin(x)**2))\n"
      ],
      "execution_count": null,
      "outputs": []
    },
    {
      "cell_type": "markdown",
      "metadata": {
        "id": "04CHqmBbLX1o"
      },
      "source": [
        "\n",
        "#### Symplificación y Evaluación"
      ]
    },
    {
      "cell_type": "code",
      "metadata": {
        "id": "p1g7XZRXLc42"
      },
      "source": [
        "simplify('x**2 + 2*x +4')\n"
      ],
      "execution_count": null,
      "outputs": []
    },
    {
      "cell_type": "code",
      "metadata": {
        "id": "y3MQt_jgMIvv"
      },
      "source": [
        "# Definición de una expresión\n",
        "expr = sqrt(8)\n",
        "\n",
        "# imprimir la expresión\n",
        "display(expr)\n",
        "\n",
        "# Imprimir la evaluación\n",
        "display(expr.evalf())\n",
        "\n",
        "# imprimir pi y hacer su evaluación\n",
        "display(\"Símbolo \", pi)\n",
        "display(\"Evaluación \", pi.evalf(100))"
      ],
      "execution_count": null,
      "outputs": []
    },
    {
      "cell_type": "code",
      "metadata": {
        "id": "JhaiG9ZHI_wu"
      },
      "source": [
        " # Más simplificaciones\n",
        "display(\"\",simplify((x**3 + x**2 -x -1)/(x**2 +2*x +1)))\n",
        "display(\"\",simplify((x**4 - 1)/(x - 1)))\n",
        "display(\"\",simplify((x**4 - 1)/(x**2 - 1)))\n",
        "display(\"\",expand((x+2*y)**3))\n",
        "display(\"\",cancel((x**4 - 1)/(x - 1)))\n",
        "display(\"\",cancel((x**2 + 2* x + 1)/(x**2 - 1)))\n"
      ],
      "execution_count": null,
      "outputs": []
    }
  ],
  "metadata": {
    "colab": {
      "provenance": [],
      "include_colab_link": true
    },
    "kernelspec": {
      "display_name": "Python 3.9.6 64-bit",
      "language": "python",
      "name": "python3"
    },
    "language_info": {
      "codemirror_mode": {
        "name": "ipython",
        "version": 3
      },
      "file_extension": ".py",
      "mimetype": "text/x-python",
      "name": "python",
      "nbconvert_exporter": "python",
      "pygments_lexer": "ipython3",
      "version": "3.9.6"
    },
    "vscode": {
      "interpreter": {
        "hash": "11938c6bc6919ae2720b4d5011047913343b08a43b18698fd82dedb0d4417594"
      }
    }
  },
  "nbformat": 4,
  "nbformat_minor": 0
}